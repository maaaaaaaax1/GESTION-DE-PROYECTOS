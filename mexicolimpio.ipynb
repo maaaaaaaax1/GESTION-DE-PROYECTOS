{
 "cells": [
  {
   "cell_type": "code",
   "execution_count": 61,
   "metadata": {},
   "outputs": [],
   "source": [
    "#Importar librerias necesarias\n",
    "from funpymodeling.exploratory import freq_tbl\n",
    "import pandas as pd\n",
    "import numpy as np\n",
    "import matplotlib.pyplot as plt\n",
    "import seaborn as sns"
   ]
  },
  {
   "cell_type": "code",
   "execution_count": 62,
   "metadata": {},
   "outputs": [
    {
     "data": {
      "text/html": [
       "<div>\n",
       "<style scoped>\n",
       "    .dataframe tbody tr th:only-of-type {\n",
       "        vertical-align: middle;\n",
       "    }\n",
       "\n",
       "    .dataframe tbody tr th {\n",
       "        vertical-align: top;\n",
       "    }\n",
       "\n",
       "    .dataframe thead th {\n",
       "        text-align: right;\n",
       "    }\n",
       "</style>\n",
       "<table border=\"1\" class=\"dataframe\">\n",
       "  <thead>\n",
       "    <tr style=\"text-align: right;\">\n",
       "      <th></th>\n",
       "      <th>id</th>\n",
       "      <th>name</th>\n",
       "      <th>host_id</th>\n",
       "      <th>host_name</th>\n",
       "      <th>neighbourhood_group</th>\n",
       "      <th>neighbourhood</th>\n",
       "      <th>latitude</th>\n",
       "      <th>longitude</th>\n",
       "      <th>room_type</th>\n",
       "      <th>price</th>\n",
       "      <th>minimum_nights</th>\n",
       "      <th>number_of_reviews</th>\n",
       "      <th>last_review</th>\n",
       "      <th>reviews_per_month</th>\n",
       "      <th>calculated_host_listings_count</th>\n",
       "      <th>availability_365</th>\n",
       "      <th>number_of_reviews_ltm</th>\n",
       "      <th>license</th>\n",
       "    </tr>\n",
       "  </thead>\n",
       "  <tbody>\n",
       "    <tr>\n",
       "      <th>0</th>\n",
       "      <td>35797</td>\n",
       "      <td>Villa Dante</td>\n",
       "      <td>153786</td>\n",
       "      <td>Dici</td>\n",
       "      <td>NaN</td>\n",
       "      <td>Cuajimalpa de Morelos</td>\n",
       "      <td>19.38283</td>\n",
       "      <td>-99.27178</td>\n",
       "      <td>Entire home/apt</td>\n",
       "      <td>3663.0</td>\n",
       "      <td>1</td>\n",
       "      <td>0</td>\n",
       "      <td>NaN</td>\n",
       "      <td>NaN</td>\n",
       "      <td>1</td>\n",
       "      <td>363</td>\n",
       "      <td>0</td>\n",
       "      <td>NaN</td>\n",
       "    </tr>\n",
       "    <tr>\n",
       "      <th>1</th>\n",
       "      <td>898633</td>\n",
       "      <td>City SkyLine View from 1 Bedroom Apt in CDMX</td>\n",
       "      <td>4796027</td>\n",
       "      <td>Marco</td>\n",
       "      <td>NaN</td>\n",
       "      <td>Cuauhtémoc</td>\n",
       "      <td>19.42063</td>\n",
       "      <td>-99.16586</td>\n",
       "      <td>Entire home/apt</td>\n",
       "      <td>1652.0</td>\n",
       "      <td>3</td>\n",
       "      <td>56</td>\n",
       "      <td>2024-04-17</td>\n",
       "      <td>0.41</td>\n",
       "      <td>3</td>\n",
       "      <td>262</td>\n",
       "      <td>3</td>\n",
       "      <td>NaN</td>\n",
       "    </tr>\n",
       "    <tr>\n",
       "      <th>2</th>\n",
       "      <td>44616</td>\n",
       "      <td>CONDESA HAUS  B&amp;B</td>\n",
       "      <td>196253</td>\n",
       "      <td>Fernando</td>\n",
       "      <td>NaN</td>\n",
       "      <td>Cuauhtémoc</td>\n",
       "      <td>19.41162</td>\n",
       "      <td>-99.17794</td>\n",
       "      <td>Entire home/apt</td>\n",
       "      <td>18000.0</td>\n",
       "      <td>1</td>\n",
       "      <td>64</td>\n",
       "      <td>2023-03-26</td>\n",
       "      <td>0.42</td>\n",
       "      <td>13</td>\n",
       "      <td>364</td>\n",
       "      <td>0</td>\n",
       "      <td>NaN</td>\n",
       "    </tr>\n",
       "    <tr>\n",
       "      <th>3</th>\n",
       "      <td>913084</td>\n",
       "      <td>15 blocks from Paseo de la Reforma</td>\n",
       "      <td>4647293</td>\n",
       "      <td>Martina</td>\n",
       "      <td>NaN</td>\n",
       "      <td>Miguel Hidalgo</td>\n",
       "      <td>19.43956</td>\n",
       "      <td>-99.17263</td>\n",
       "      <td>Entire home/apt</td>\n",
       "      <td>814.0</td>\n",
       "      <td>2</td>\n",
       "      <td>161</td>\n",
       "      <td>2024-05-21</td>\n",
       "      <td>1.19</td>\n",
       "      <td>1</td>\n",
       "      <td>236</td>\n",
       "      <td>6</td>\n",
       "      <td>NaN</td>\n",
       "    </tr>\n",
       "    <tr>\n",
       "      <th>4</th>\n",
       "      <td>67703</td>\n",
       "      <td>2 bedroom apt. deco bldg, Condesa</td>\n",
       "      <td>334451</td>\n",
       "      <td>Nicholas</td>\n",
       "      <td>NaN</td>\n",
       "      <td>Cuauhtémoc</td>\n",
       "      <td>19.41152</td>\n",
       "      <td>-99.16857</td>\n",
       "      <td>Entire home/apt</td>\n",
       "      <td>1923.0</td>\n",
       "      <td>2</td>\n",
       "      <td>49</td>\n",
       "      <td>2024-05-05</td>\n",
       "      <td>0.32</td>\n",
       "      <td>2</td>\n",
       "      <td>361</td>\n",
       "      <td>4</td>\n",
       "      <td>NaN</td>\n",
       "    </tr>\n",
       "  </tbody>\n",
       "</table>\n",
       "</div>"
      ],
      "text/plain": [
       "       id                                          name  host_id host_name  \\\n",
       "0   35797                                   Villa Dante   153786      Dici   \n",
       "1  898633  City SkyLine View from 1 Bedroom Apt in CDMX  4796027     Marco   \n",
       "2   44616                             CONDESA HAUS  B&B   196253  Fernando   \n",
       "3  913084            15 blocks from Paseo de la Reforma  4647293   Martina   \n",
       "4   67703             2 bedroom apt. deco bldg, Condesa   334451  Nicholas   \n",
       "\n",
       "   neighbourhood_group          neighbourhood  latitude  longitude  \\\n",
       "0                  NaN  Cuajimalpa de Morelos  19.38283  -99.27178   \n",
       "1                  NaN             Cuauhtémoc  19.42063  -99.16586   \n",
       "2                  NaN             Cuauhtémoc  19.41162  -99.17794   \n",
       "3                  NaN         Miguel Hidalgo  19.43956  -99.17263   \n",
       "4                  NaN             Cuauhtémoc  19.41152  -99.16857   \n",
       "\n",
       "         room_type    price  minimum_nights  number_of_reviews last_review  \\\n",
       "0  Entire home/apt   3663.0               1                  0         NaN   \n",
       "1  Entire home/apt   1652.0               3                 56  2024-04-17   \n",
       "2  Entire home/apt  18000.0               1                 64  2023-03-26   \n",
       "3  Entire home/apt    814.0               2                161  2024-05-21   \n",
       "4  Entire home/apt   1923.0               2                 49  2024-05-05   \n",
       "\n",
       "   reviews_per_month  calculated_host_listings_count  availability_365  \\\n",
       "0                NaN                               1               363   \n",
       "1               0.41                               3               262   \n",
       "2               0.42                              13               364   \n",
       "3               1.19                               1               236   \n",
       "4               0.32                               2               361   \n",
       "\n",
       "   number_of_reviews_ltm  license  \n",
       "0                      0      NaN  \n",
       "1                      3      NaN  \n",
       "2                      0      NaN  \n",
       "3                      6      NaN  \n",
       "4                      4      NaN  "
      ]
     },
     "execution_count": 62,
     "metadata": {},
     "output_type": "execute_result"
    }
   ],
   "source": [
    "#Carga desde un archivo .csv sin indice y eliminar filas innecesarias\n",
    "mexico=pd.read_csv(\"listingsmexico.csv\")\n",
    "mexico.head()"
   ]
  },
  {
   "cell_type": "code",
   "execution_count": 89,
   "metadata": {},
   "outputs": [
    {
     "data": {
      "text/plain": [
       "id                                  int64\n",
       "name                               object\n",
       "host_id                             int64\n",
       "host_name                          object\n",
       "neighbourhood_group               float64\n",
       "neighbourhood                      object\n",
       "latitude                          float64\n",
       "longitude                         float64\n",
       "room_type                          object\n",
       "price                             float64\n",
       "minimum_nights                      int64\n",
       "number_of_reviews                   int64\n",
       "last_review                        object\n",
       "reviews_per_month                 float64\n",
       "calculated_host_listings_count      int64\n",
       "availability_365                    int64\n",
       "number_of_reviews_ltm               int64\n",
       "license                           float64\n",
       "dtype: object"
      ]
     },
     "execution_count": 89,
     "metadata": {},
     "output_type": "execute_result"
    }
   ],
   "source": [
    "mexico.dtypes"
   ]
  },
  {
   "cell_type": "code",
   "execution_count": 91,
   "metadata": {},
   "outputs": [
    {
     "name": "stderr",
     "output_type": "stream",
     "text": [
      "/var/folders/6c/rr21_80s11n3cvrghbnb5mz00000gn/T/ipykernel_3917/574838483.py:2: FutureWarning: DataFrame.fillna with 'method' is deprecated and will raise in a future version. Use obj.ffill() or obj.bfill() instead.\n",
      "  mexico1 =mexico.fillna(method=\"ffill\")\n"
     ]
    }
   ],
   "source": [
    "\n",
    "#Reemplazamos valores nulos del dataframe con \"ffill\"\n",
    "mexico1 =mexico.fillna(method=\"ffill\")"
   ]
  },
  {
   "cell_type": "code",
   "execution_count": 92,
   "metadata": {},
   "outputs": [
    {
     "name": "stderr",
     "output_type": "stream",
     "text": [
      "/var/folders/6c/rr21_80s11n3cvrghbnb5mz00000gn/T/ipykernel_3917/2935456239.py:1: FutureWarning: DataFrame.fillna with 'method' is deprecated and will raise in a future version. Use obj.ffill() or obj.bfill() instead.\n",
      "  mexico2=mexico1.fillna(method=\"bfill\")\n"
     ]
    }
   ],
   "source": [
    "mexico2=mexico1.fillna(method=\"bfill\")"
   ]
  },
  {
   "cell_type": "code",
   "execution_count": 93,
   "metadata": {},
   "outputs": [
    {
     "data": {
      "text/plain": [
       "id                                    0\n",
       "name                                  0\n",
       "host_id                               0\n",
       "host_name                             0\n",
       "neighbourhood_group               26536\n",
       "neighbourhood                         0\n",
       "latitude                              0\n",
       "longitude                             0\n",
       "room_type                             0\n",
       "price                                 0\n",
       "minimum_nights                        0\n",
       "number_of_reviews                     0\n",
       "last_review                           0\n",
       "reviews_per_month                     0\n",
       "calculated_host_listings_count        0\n",
       "availability_365                      0\n",
       "number_of_reviews_ltm                 0\n",
       "license                           26536\n",
       "dtype: int64"
      ]
     },
     "execution_count": 93,
     "metadata": {},
     "output_type": "execute_result"
    }
   ],
   "source": [
    "#Corroboramos valores nulos del dataframe\n",
    "mexiconulo=mexico2.isnull().sum()\n",
    "mexiconulo"
   ]
  },
  {
   "cell_type": "code",
   "execution_count": 94,
   "metadata": {},
   "outputs": [
    {
     "name": "stdout",
     "output_type": "stream",
     "text": [
      "<class 'pandas.core.frame.DataFrame'>\n",
      "RangeIndex: 26536 entries, 0 to 26535\n",
      "Data columns (total 18 columns):\n",
      " #   Column                          Non-Null Count  Dtype  \n",
      "---  ------                          --------------  -----  \n",
      " 0   id                              26536 non-null  int64  \n",
      " 1   name                            26536 non-null  object \n",
      " 2   host_id                         26536 non-null  int64  \n",
      " 3   host_name                       26536 non-null  object \n",
      " 4   neighbourhood_group             26536 non-null  object \n",
      " 5   neighbourhood                   26536 non-null  object \n",
      " 6   latitude                        26536 non-null  float64\n",
      " 7   longitude                       26536 non-null  float64\n",
      " 8   room_type                       26536 non-null  object \n",
      " 9   price                           26536 non-null  float64\n",
      " 10  minimum_nights                  26536 non-null  int64  \n",
      " 11  number_of_reviews               26536 non-null  int64  \n",
      " 12  last_review                     26536 non-null  object \n",
      " 13  reviews_per_month               26536 non-null  float64\n",
      " 14  calculated_host_listings_count  26536 non-null  int64  \n",
      " 15  availability_365                26536 non-null  int64  \n",
      " 16  number_of_reviews_ltm           26536 non-null  int64  \n",
      " 17  license                         26536 non-null  object \n",
      "dtypes: float64(4), int64(7), object(7)\n",
      "memory usage: 3.6+ MB\n"
     ]
    },
    {
     "data": {
      "text/plain": [
       "0"
      ]
     },
     "execution_count": 94,
     "metadata": {},
     "output_type": "execute_result"
    }
   ],
   "source": [
    "#Como no funciono el bfill y ffill usamos el metodo de sustituir por una palabra \n",
    "mexicolimpio=mexico2.fillna('nodato')\n",
    "mexicolimpio.info()\n",
    "mexicolimpio.isnull().sum().sum()"
   ]
  },
  {
   "cell_type": "code",
   "execution_count": 96,
   "metadata": {},
   "outputs": [
    {
     "data": {
      "text/plain": [
       "id                                  int64\n",
       "name                               object\n",
       "host_id                             int64\n",
       "host_name                          object\n",
       "neighbourhood_group                object\n",
       "neighbourhood                      object\n",
       "latitude                          float64\n",
       "longitude                         float64\n",
       "room_type                          object\n",
       "price                             float64\n",
       "minimum_nights                      int64\n",
       "number_of_reviews                   int64\n",
       "last_review                        object\n",
       "reviews_per_month                 float64\n",
       "calculated_host_listings_count      int64\n",
       "availability_365                    int64\n",
       "number_of_reviews_ltm               int64\n",
       "license                            object\n",
       "dtype: object"
      ]
     },
     "execution_count": 96,
     "metadata": {},
     "output_type": "execute_result"
    }
   ],
   "source": [
    "\n",
    "mexicolimpio.dtypes\n"
   ]
  },
  {
   "cell_type": "code",
   "execution_count": 97,
   "metadata": {},
   "outputs": [],
   "source": [
    "#Separar por columnas cualitativas y cuantitativas\n",
    "columnas_cualitativas = mexicolimpio.select_dtypes(include = 'object')\n",
    "columnas_cuantitativas = mexicolimpio.select_dtypes(include = ['int64', 'float64'])"
   ]
  },
  {
   "cell_type": "code",
   "execution_count": 98,
   "metadata": {},
   "outputs": [
    {
     "data": {
      "text/plain": [
       "<Figure size 2000x1000 with 0 Axes>"
      ]
     },
     "metadata": {},
     "output_type": "display_data"
    },
    {
     "data": {
      "image/png": "[encoded data removed]",
      "text/plain": [
       "<Figure size 640x480 with 1 Axes>"
      ]
     },
     "metadata": {},
     "output_type": "display_data"
    }
   ],
   "source": [
    "#Hacer un boxplot de valores atipicos de las columnas cuantitativas\n",
    "fig = plt.figure(figsize = (20, 10))\n",
    "columnas_cuantitativas.plot(kind = 'box', vert = False)\n",
    "plt.title(\"Valores atipicos\")\n",
    "plt.show()"
   ]
  },
  {
   "cell_type": "code",
   "execution_count": 99,
   "metadata": {},
   "outputs": [
    {
     "data": {
      "text/plain": [
       "<Figure size 2000x1000 with 0 Axes>"
      ]
     },
     "metadata": {},
     "output_type": "display_data"
    },
    {
     "data": {
      "image/png": "[encoded data removed]",
      "text/plain": [
       "<Figure size 640x480 with 1 Axes>"
      ]
     },
     "metadata": {},
     "output_type": "display_data"
    }
   ],
   "source": [
    "#Hacer un boxplot de valores atipicos de las columnas cuantitativas\n",
    "fig = plt.figure(figsize = (20, 10))\n",
    "columnas_cuantitativas.plot(kind = 'box', vert = False)\n",
    "plt.title(\"Valores atipicos\")\n",
    "plt.show()"
   ]
  },
  {
   "cell_type": "code",
   "execution_count": 100,
   "metadata": {},
   "outputs": [
    {
     "name": "stdout",
     "output_type": "stream",
     "text": [
      "Limite superior permitido id                                1.903001e+18\n",
      "host_id                           7.540126e+08\n",
      "latitude                          1.953258e+01\n",
      "longitude                        -9.906656e+01\n",
      "price                             1.359313e+04\n",
      "minimum_nights                    7.715870e+01\n",
      "number_of_reviews                 2.629871e+02\n",
      "reviews_per_month                 7.452194e+00\n",
      "calculated_host_listings_count    1.470535e+02\n",
      "availability_365                  5.982199e+02\n",
      "number_of_reviews_ltm             7.333739e+01\n",
      "dtype: float64\n",
      "Limite inferior permitido id                               -9.116635e+17\n",
      "host_id                          -3.294034e+08\n",
      "latitude                          1.927733e+01\n",
      "longitude                        -9.926677e+01\n",
      "price                            -1.065225e+04\n",
      "minimum_nights                   -6.776376e+01\n",
      "number_of_reviews                -1.760880e+02\n",
      "reviews_per_month                -4.017473e+00\n",
      "calculated_host_listings_count   -1.126908e+02\n",
      "availability_365                 -1.498408e+02\n",
      "number_of_reviews_ltm            -4.608430e+01\n",
      "dtype: float64\n"
     ]
    }
   ],
   "source": [
    "y = columnas_cuantitativas\n",
    "Limite_superior = y.mean() + 3*y.std()\n",
    "Limite_inferior = y.mean() - 3*y.std()\n",
    "print(\"Limite superior permitido\", Limite_superior)\n",
    "print(\"Limite inferior permitido\", Limite_inferior)"
   ]
  },
  {
   "cell_type": "code",
   "execution_count": 101,
   "metadata": {},
   "outputs": [],
   "source": [
    "#Filtrar solo por columnas dentro de los limites\n",
    "columnas_cuantitativas_sin_outliers = columnas_cuantitativas[(y <= Limite_superior) & (y >= Limite_inferior)]"
   ]
  },
  {
   "cell_type": "code",
   "execution_count": 102,
   "metadata": {},
   "outputs": [
    {
     "data": {
      "text/plain": [
       "id                                  0\n",
       "host_id                             0\n",
       "latitude                          359\n",
       "longitude                         702\n",
       "price                             142\n",
       "minimum_nights                    187\n",
       "number_of_reviews                 611\n",
       "reviews_per_month                 379\n",
       "calculated_host_listings_count    718\n",
       "availability_365                    0\n",
       "number_of_reviews_ltm             443\n",
       "dtype: int64"
      ]
     },
     "execution_count": 102,
     "metadata": {},
     "output_type": "execute_result"
    }
   ],
   "source": [
    "#Revisar valores nulos\n",
    "valores_nulos_cuantitativo = columnas_cuantitativas_sin_outliers.isnull().sum()\n",
    "valores_nulos_cuantitativo"
   ]
  },
  {
   "cell_type": "code",
   "execution_count": 103,
   "metadata": {},
   "outputs": [],
   "source": [
    "#Hacer una copia del dataframe y rellenar los valores nulos con la media\n",
    "columnas_cuantitativas_limpio = columnas_cuantitativas_sin_outliers.copy()\n",
    "columnas_cuantitativas_limpio = columnas_cuantitativas_limpio.fillna(round(columnas_cuantitativas_sin_outliers.mean(), 1))"
   ]
  },
  {
   "cell_type": "code",
   "execution_count": 104,
   "metadata": {},
   "outputs": [
    {
     "data": {
      "text/html": [
       "<div>\n",
       "<style scoped>\n",
       "    .dataframe tbody tr th:only-of-type {\n",
       "        vertical-align: middle;\n",
       "    }\n",
       "\n",
       "    .dataframe tbody tr th {\n",
       "        vertical-align: top;\n",
       "    }\n",
       "\n",
       "    .dataframe thead th {\n",
       "        text-align: right;\n",
       "    }\n",
       "</style>\n",
       "<table border=\"1\" class=\"dataframe\">\n",
       "  <thead>\n",
       "    <tr style=\"text-align: right;\">\n",
       "      <th></th>\n",
       "      <th>id</th>\n",
       "      <th>host_id</th>\n",
       "      <th>latitude</th>\n",
       "      <th>longitude</th>\n",
       "      <th>price</th>\n",
       "      <th>minimum_nights</th>\n",
       "      <th>number_of_reviews</th>\n",
       "      <th>reviews_per_month</th>\n",
       "      <th>calculated_host_listings_count</th>\n",
       "      <th>availability_365</th>\n",
       "      <th>number_of_reviews_ltm</th>\n",
       "      <th>name</th>\n",
       "      <th>host_name</th>\n",
       "      <th>neighbourhood_group</th>\n",
       "      <th>neighbourhood</th>\n",
       "      <th>room_type</th>\n",
       "      <th>last_review</th>\n",
       "      <th>license</th>\n",
       "    </tr>\n",
       "  </thead>\n",
       "  <tbody>\n",
       "    <tr>\n",
       "      <th>0</th>\n",
       "      <td>35797</td>\n",
       "      <td>153786</td>\n",
       "      <td>19.38283</td>\n",
       "      <td>-99.20000</td>\n",
       "      <td>3663.0</td>\n",
       "      <td>1.0</td>\n",
       "      <td>0.0</td>\n",
       "      <td>0.41</td>\n",
       "      <td>1.0</td>\n",
       "      <td>363</td>\n",
       "      <td>0.0</td>\n",
       "      <td>Villa Dante</td>\n",
       "      <td>Dici</td>\n",
       "      <td>nodato</td>\n",
       "      <td>Cuajimalpa de Morelos</td>\n",
       "      <td>Entire home/apt</td>\n",
       "      <td>2024-04-17</td>\n",
       "      <td>nodato</td>\n",
       "    </tr>\n",
       "    <tr>\n",
       "      <th>1</th>\n",
       "      <td>898633</td>\n",
       "      <td>4796027</td>\n",
       "      <td>19.42063</td>\n",
       "      <td>-99.16586</td>\n",
       "      <td>1652.0</td>\n",
       "      <td>3.0</td>\n",
       "      <td>56.0</td>\n",
       "      <td>0.41</td>\n",
       "      <td>3.0</td>\n",
       "      <td>262</td>\n",
       "      <td>3.0</td>\n",
       "      <td>City SkyLine View from 1 Bedroom Apt in CDMX</td>\n",
       "      <td>Marco</td>\n",
       "      <td>nodato</td>\n",
       "      <td>Cuauhtémoc</td>\n",
       "      <td>Entire home/apt</td>\n",
       "      <td>2024-04-17</td>\n",
       "      <td>nodato</td>\n",
       "    </tr>\n",
       "    <tr>\n",
       "      <th>2</th>\n",
       "      <td>44616</td>\n",
       "      <td>196253</td>\n",
       "      <td>19.41162</td>\n",
       "      <td>-99.17794</td>\n",
       "      <td>1310.2</td>\n",
       "      <td>1.0</td>\n",
       "      <td>64.0</td>\n",
       "      <td>0.42</td>\n",
       "      <td>13.0</td>\n",
       "      <td>364</td>\n",
       "      <td>0.0</td>\n",
       "      <td>CONDESA HAUS  B&amp;B</td>\n",
       "      <td>Fernando</td>\n",
       "      <td>nodato</td>\n",
       "      <td>Cuauhtémoc</td>\n",
       "      <td>Entire home/apt</td>\n",
       "      <td>2023-03-26</td>\n",
       "      <td>nodato</td>\n",
       "    </tr>\n",
       "    <tr>\n",
       "      <th>3</th>\n",
       "      <td>913084</td>\n",
       "      <td>4647293</td>\n",
       "      <td>19.43956</td>\n",
       "      <td>-99.17263</td>\n",
       "      <td>814.0</td>\n",
       "      <td>2.0</td>\n",
       "      <td>161.0</td>\n",
       "      <td>1.19</td>\n",
       "      <td>1.0</td>\n",
       "      <td>236</td>\n",
       "      <td>6.0</td>\n",
       "      <td>15 blocks from Paseo de la Reforma</td>\n",
       "      <td>Martina</td>\n",
       "      <td>nodato</td>\n",
       "      <td>Miguel Hidalgo</td>\n",
       "      <td>Entire home/apt</td>\n",
       "      <td>2024-05-21</td>\n",
       "      <td>nodato</td>\n",
       "    </tr>\n",
       "    <tr>\n",
       "      <th>4</th>\n",
       "      <td>67703</td>\n",
       "      <td>334451</td>\n",
       "      <td>19.41152</td>\n",
       "      <td>-99.16857</td>\n",
       "      <td>1923.0</td>\n",
       "      <td>2.0</td>\n",
       "      <td>49.0</td>\n",
       "      <td>0.32</td>\n",
       "      <td>2.0</td>\n",
       "      <td>361</td>\n",
       "      <td>4.0</td>\n",
       "      <td>2 bedroom apt. deco bldg, Condesa</td>\n",
       "      <td>Nicholas</td>\n",
       "      <td>nodato</td>\n",
       "      <td>Cuauhtémoc</td>\n",
       "      <td>Entire home/apt</td>\n",
       "      <td>2024-05-05</td>\n",
       "      <td>nodato</td>\n",
       "    </tr>\n",
       "  </tbody>\n",
       "</table>\n",
       "</div>"
      ],
      "text/plain": [
       "       id  host_id  latitude  longitude   price  minimum_nights  \\\n",
       "0   35797   153786  19.38283  -99.20000  3663.0             1.0   \n",
       "1  898633  4796027  19.42063  -99.16586  1652.0             3.0   \n",
       "2   44616   196253  19.41162  -99.17794  1310.2             1.0   \n",
       "3  913084  4647293  19.43956  -99.17263   814.0             2.0   \n",
       "4   67703   334451  19.41152  -99.16857  1923.0             2.0   \n",
       "\n",
       "   number_of_reviews  reviews_per_month  calculated_host_listings_count  \\\n",
       "0                0.0               0.41                             1.0   \n",
       "1               56.0               0.41                             3.0   \n",
       "2               64.0               0.42                            13.0   \n",
       "3              161.0               1.19                             1.0   \n",
       "4               49.0               0.32                             2.0   \n",
       "\n",
       "   availability_365  number_of_reviews_ltm  \\\n",
       "0               363                    0.0   \n",
       "1               262                    3.0   \n",
       "2               364                    0.0   \n",
       "3               236                    6.0   \n",
       "4               361                    4.0   \n",
       "\n",
       "                                           name host_name neighbourhood_group  \\\n",
       "0                                   Villa Dante      Dici              nodato   \n",
       "1  City SkyLine View from 1 Bedroom Apt in CDMX     Marco              nodato   \n",
       "2                             CONDESA HAUS  B&B  Fernando              nodato   \n",
       "3            15 blocks from Paseo de la Reforma   Martina              nodato   \n",
       "4             2 bedroom apt. deco bldg, Condesa  Nicholas              nodato   \n",
       "\n",
       "           neighbourhood        room_type last_review license  \n",
       "0  Cuajimalpa de Morelos  Entire home/apt  2024-04-17  nodato  \n",
       "1             Cuauhtémoc  Entire home/apt  2024-04-17  nodato  \n",
       "2             Cuauhtémoc  Entire home/apt  2023-03-26  nodato  \n",
       "3         Miguel Hidalgo  Entire home/apt  2024-05-21  nodato  \n",
       "4             Cuauhtémoc  Entire home/apt  2024-05-05  nodato  "
      ]
     },
     "execution_count": 104,
     "metadata": {},
     "output_type": "execute_result"
    }
   ],
   "source": [
    "#Se juntan las columnas cualitativas con las cuantitativas\n",
    "mexicooutliers = pd.concat([columnas_cuantitativas_limpio, columnas_cualitativas], axis = 1)\n",
    "mexicooutliers.head()"
   ]
  },
  {
   "cell_type": "code",
   "execution_count": 106,
   "metadata": {},
   "outputs": [
    {
     "data": {
      "text/plain": [
       "id                                0\n",
       "host_id                           0\n",
       "latitude                          0\n",
       "longitude                         0\n",
       "price                             0\n",
       "minimum_nights                    0\n",
       "number_of_reviews                 0\n",
       "reviews_per_month                 0\n",
       "calculated_host_listings_count    0\n",
       "availability_365                  0\n",
       "number_of_reviews_ltm             0\n",
       "name                              0\n",
       "host_name                         0\n",
       "neighbourhood_group               0\n",
       "neighbourhood                     0\n",
       "room_type                         0\n",
       "last_review                       0\n",
       "license                           0\n",
       "dtype: int64"
      ]
     },
     "execution_count": 106,
     "metadata": {},
     "output_type": "execute_result"
    }
   ],
   "source": [
    "#Comprobamos que no existan valores nulos\n",
    "mexicooutynul = mexicooutliers.isnull().sum()\n",
    "mexicooutynul"
   ]
  },
  {
   "cell_type": "code",
   "execution_count": 108,
   "metadata": {},
   "outputs": [],
   "source": [
    "#Guardar la nueva base de datos\n",
    "mexicooutliers.to_csv(\"mexicolimpio.csv\")"
   ]
  }
 ],
 "metadata": {
  "kernelspec": {
   "display_name": "Python 3",
   "language": "python",
   "name": "python3"
  },
  "language_info": {
   "codemirror_mode": {
    "name": "ipython",
    "version": 3
   },
   "file_extension": ".py",
   "mimetype": "text/x-python",
   "name": "python",
   "nbconvert_exporter": "python",
   "pygments_lexer": "ipython3",
   "version": "3.12.4"
  }
 },
 "nbformat": 4,
 "nbformat_minor": 2
}
