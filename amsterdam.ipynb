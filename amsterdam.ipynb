{
 "cells": [
  {
   "cell_type": "code",
   "execution_count": 15,
   "metadata": {},
   "outputs": [],
   "source": [
    "import pandas as pd\n",
    "import numpy as np\n",
    "import matplotlib.pyplot as plt\n",
    "import seaborn as sns\n",
    "from funpymodeling.exploratory import freq_tbl \n",
    "import re\n",
    "from turtle import color"
   ]
  },
  {
   "cell_type": "code",
   "execution_count": 16,
   "metadata": {},
   "outputs": [],
   "source": [
    "\n",
    "dfa=pd.read_csv(\"listingsamsterdam.csv\")"
   ]
  },
  {
   "cell_type": "markdown",
   "metadata": {},
   "source": [
    "***AMSTERDAM***"
   ]
  },
  {
   "cell_type": "code",
   "execution_count": 17,
   "metadata": {},
   "outputs": [
    {
     "data": {
      "text/plain": [
       "id                                                int64\n",
       "listing_url                                      object\n",
       "scrape_id                                         int64\n",
       "last_scraped                                     object\n",
       "source                                           object\n",
       "                                                 ...   \n",
       "calculated_host_listings_count                    int64\n",
       "calculated_host_listings_count_entire_homes       int64\n",
       "calculated_host_listings_count_private_rooms      int64\n",
       "calculated_host_listings_count_shared_rooms       int64\n",
       "reviews_per_month                               float64\n",
       "Length: 75, dtype: object"
      ]
     },
     "execution_count": 17,
     "metadata": {},
     "output_type": "execute_result"
    }
   ],
   "source": [
    "dfa.head(5)\n",
    "dfa.dtypes"
   ]
  },
  {
   "cell_type": "code",
   "execution_count": 18,
   "metadata": {},
   "outputs": [
    {
     "name": "stderr",
     "output_type": "stream",
     "text": [
      "/var/folders/6c/rr21_80s11n3cvrghbnb5mz00000gn/T/ipykernel_4833/1736785499.py:3: FutureWarning: DataFrame.fillna with 'method' is deprecated and will raise in a future version. Use obj.ffill() or obj.bfill() instead.\n",
      "  dfa=dfa.fillna(method='ffill')\n",
      "/var/folders/6c/rr21_80s11n3cvrghbnb5mz00000gn/T/ipykernel_4833/1736785499.py:4: FutureWarning: DataFrame.fillna with 'method' is deprecated and will raise in a future version. Use obj.ffill() or obj.bfill() instead.\n",
      "  dfa=dfa.fillna(method='bfill')\n"
     ]
    }
   ],
   "source": [
    "#Se eliminan los valores nulos\n",
    "dfa.isnull().sum()\n",
    "dfa=dfa.fillna(method='ffill')\n",
    "dfa=dfa.fillna(method='bfill')"
   ]
  },
  {
   "cell_type": "code",
   "execution_count": 19,
   "metadata": {},
   "outputs": [
    {
     "name": "stdout",
     "output_type": "stream",
     "text": [
      "<class 'pandas.core.frame.DataFrame'>\n",
      "RangeIndex: 9310 entries, 0 to 9309\n",
      "Data columns (total 75 columns):\n",
      " #   Column                                        Non-Null Count  Dtype  \n",
      "---  ------                                        --------------  -----  \n",
      " 0   id                                            9310 non-null   int64  \n",
      " 1   listing_url                                   9310 non-null   object \n",
      " 2   scrape_id                                     9310 non-null   int64  \n",
      " 3   last_scraped                                  9310 non-null   object \n",
      " 4   source                                        9310 non-null   object \n",
      " 5   name                                          9310 non-null   object \n",
      " 6   description                                   9310 non-null   object \n",
      " 7   neighborhood_overview                         9310 non-null   object \n",
      " 8   picture_url                                   9310 non-null   object \n",
      " 9   host_id                                       9310 non-null   int64  \n",
      " 10  host_url                                      9310 non-null   object \n",
      " 11  host_name                                     9310 non-null   object \n",
      " 12  host_since                                    9310 non-null   object \n",
      " 13  host_location                                 9310 non-null   object \n",
      " 14  host_about                                    9310 non-null   object \n",
      " 15  host_response_time                            9310 non-null   object \n",
      " 16  host_response_rate                            9310 non-null   object \n",
      " 17  host_acceptance_rate                          9310 non-null   object \n",
      " 18  host_is_superhost                             9310 non-null   object \n",
      " 19  host_thumbnail_url                            9310 non-null   object \n",
      " 20  host_picture_url                              9310 non-null   object \n",
      " 21  host_neighbourhood                            9310 non-null   object \n",
      " 22  host_listings_count                           9310 non-null   int64  \n",
      " 23  host_total_listings_count                     9310 non-null   int64  \n",
      " 24  host_verifications                            9310 non-null   object \n",
      " 25  host_has_profile_pic                          9310 non-null   object \n",
      " 26  host_identity_verified                        9310 non-null   object \n",
      " 27  neighbourhood                                 9310 non-null   object \n",
      " 28  neighbourhood_cleansed                        9310 non-null   object \n",
      " 29  neighbourhood_group_cleansed                  9310 non-null   object \n",
      " 30  latitude                                      9310 non-null   float64\n",
      " 31  longitude                                     9310 non-null   float64\n",
      " 32  property_type                                 9310 non-null   object \n",
      " 33  room_type                                     9310 non-null   object \n",
      " 34  accommodates                                  9310 non-null   int64  \n",
      " 35  bathrooms                                     9310 non-null   float64\n",
      " 36  bathrooms_text                                9310 non-null   object \n",
      " 37  bedrooms                                      9310 non-null   float64\n",
      " 38  beds                                          9310 non-null   float64\n",
      " 39  amenities                                     9310 non-null   object \n",
      " 40  price                                         9310 non-null   object \n",
      " 41  minimum_nights                                9310 non-null   int64  \n",
      " 42  maximum_nights                                9310 non-null   int64  \n",
      " 43  minimum_minimum_nights                        9310 non-null   int64  \n",
      " 44  maximum_minimum_nights                        9310 non-null   int64  \n",
      " 45  minimum_maximum_nights                        9310 non-null   int64  \n",
      " 46  maximum_maximum_nights                        9310 non-null   int64  \n",
      " 47  minimum_nights_avg_ntm                        9310 non-null   float64\n",
      " 48  maximum_nights_avg_ntm                        9310 non-null   float64\n",
      " 49  calendar_updated                              9310 non-null   object \n",
      " 50  has_availability                              9310 non-null   object \n",
      " 51  availability_30                               9310 non-null   int64  \n",
      " 52  availability_60                               9310 non-null   int64  \n",
      " 53  availability_90                               9310 non-null   int64  \n",
      " 54  availability_365                              9310 non-null   int64  \n",
      " 55  calendar_last_scraped                         9310 non-null   object \n",
      " 56  number_of_reviews                             9310 non-null   int64  \n",
      " 57  number_of_reviews_ltm                         9310 non-null   int64  \n",
      " 58  number_of_reviews_l30d                        9310 non-null   int64  \n",
      " 59  first_review                                  9310 non-null   object \n",
      " 60  last_review                                   9310 non-null   object \n",
      " 61  review_scores_rating                          9310 non-null   float64\n",
      " 62  review_scores_accuracy                        9310 non-null   float64\n",
      " 63  review_scores_cleanliness                     9310 non-null   float64\n",
      " 64  review_scores_checkin                         9310 non-null   float64\n",
      " 65  review_scores_communication                   9310 non-null   float64\n",
      " 66  review_scores_location                        9310 non-null   float64\n",
      " 67  review_scores_value                           9310 non-null   float64\n",
      " 68  license                                       9310 non-null   object \n",
      " 69  instant_bookable                              9310 non-null   object \n",
      " 70  calculated_host_listings_count                9310 non-null   int64  \n",
      " 71  calculated_host_listings_count_entire_homes   9310 non-null   int64  \n",
      " 72  calculated_host_listings_count_private_rooms  9310 non-null   int64  \n",
      " 73  calculated_host_listings_count_shared_rooms   9310 non-null   int64  \n",
      " 74  reviews_per_month                             9310 non-null   float64\n",
      "dtypes: float64(15), int64(23), object(37)\n",
      "memory usage: 5.3+ MB\n"
     ]
    },
    {
     "data": {
      "text/plain": [
       "0"
      ]
     },
     "execution_count": 19,
     "metadata": {},
     "output_type": "execute_result"
    }
   ],
   "source": [
    "#Como no funciono el bfill y ffill usamos el metodo de sustituir por una palabra \n",
    "dfa1=dfa.fillna('nulos')\n",
    "dfa1.info()\n",
    "dfa1.isnull().sum().sum()"
   ]
  },
  {
   "cell_type": "code",
   "execution_count": 20,
   "metadata": {},
   "outputs": [],
   "source": [
    "#Reemplazamos el $ en la columna price para que se vuelva numerica \n",
    "dfa1['price'] = dfa1['price'].str.replace('$', '', regex=False)\n",
    "dfa1['price'] = dfa1['price'].str.replace(',', '', regex=False)\n",
    "dfa1['price'] = pd.to_numeric(dfa1['price'])"
   ]
  },
  {
   "cell_type": "code",
   "execution_count": 21,
   "metadata": {},
   "outputs": [
    {
     "data": {
      "text/plain": [
       "0       200.0\n",
       "1       200.0\n",
       "2       155.0\n",
       "3       155.0\n",
       "4       155.0\n",
       "        ...  \n",
       "9305    120.0\n",
       "9306    310.0\n",
       "9307    180.0\n",
       "9308    280.0\n",
       "9309    325.0\n",
       "Name: price, Length: 9310, dtype: float64"
      ]
     },
     "execution_count": 21,
     "metadata": {},
     "output_type": "execute_result"
    }
   ],
   "source": [
    "dfa1['price']"
   ]
  },
  {
   "cell_type": "code",
   "execution_count": 22,
   "metadata": {},
   "outputs": [],
   "source": [
    "#Se separan las columnas por cualitativas y cuantitativas\n",
    "numcol=dfa1.select_dtypes(include=['number'])\n",
    "catcolsinfiltrar=dfa1.select_dtypes(include=['object'])"
   ]
  },
  {
   "cell_type": "code",
   "execution_count": 23,
   "metadata": {},
   "outputs": [],
   "source": [
    "#Se seleccionan las variables solicitadas \n",
    "catcol=catcolsinfiltrar[['host_response_time','host_acceptance_rate','property_type','room_type','amenities','host_is_superhost']]"
   ]
  },
  {
   "cell_type": "code",
   "execution_count": 24,
   "metadata": {},
   "outputs": [
    {
     "name": "stderr",
     "output_type": "stream",
     "text": [
      "/var/folders/6c/rr21_80s11n3cvrghbnb5mz00000gn/T/ipykernel_4833/3788119204.py:3: FutureWarning: DataFrame.fillna with 'method' is deprecated and will raise in a future version. Use obj.ffill() or obj.bfill() instead.\n",
      "  numcol=numcol.fillna(method='ffill')\n",
      "/var/folders/6c/rr21_80s11n3cvrghbnb5mz00000gn/T/ipykernel_4833/3788119204.py:4: FutureWarning: DataFrame.fillna with 'method' is deprecated and will raise in a future version. Use obj.ffill() or obj.bfill() instead.\n",
      "  numcol=numcol.fillna(method='bfill')\n"
     ]
    }
   ],
   "source": [
    "#Se procesan los datos nulos de las varibales numericas \n",
    "numcol.isnull().sum().sum()\n",
    "numcol=numcol.fillna(method='ffill')\n",
    "numcol=numcol.fillna(method='bfill')"
   ]
  },
  {
   "cell_type": "code",
   "execution_count": 25,
   "metadata": {},
   "outputs": [
    {
     "data": {
      "text/plain": [
       "0"
      ]
     },
     "execution_count": 25,
     "metadata": {},
     "output_type": "execute_result"
    }
   ],
   "source": [
    "#Comprobamos los valores faltantes nuevamente \n",
    "numcol.isnull().sum().sum()"
   ]
  },
  {
   "cell_type": "code",
   "execution_count": 26,
   "metadata": {},
   "outputs": [],
   "source": [
    "numcol_sinid=numcol.drop(['id','host_id','scrape_id'],axis=1)"
   ]
  },
  {
   "cell_type": "code",
   "execution_count": 27,
   "metadata": {},
   "outputs": [
    {
     "data": {
      "text/plain": [
       "<Figure size 1500x800 with 0 Axes>"
      ]
     },
     "metadata": {},
     "output_type": "display_data"
    },
    {
     "data": {
      "image/png": "[encoded data removed]",
      "text/plain": [
       "<Figure size 640x480 with 1 Axes>"
      ]
     },
     "metadata": {},
     "output_type": "display_data"
    }
   ],
   "source": [
    "#Obtenemos los limites superior e inferior de todas las variables numericas\n",
    "#Realizamos diagrama de caja o bigote de cada columna del dataframe\n",
    "fig = plt.figure(figsize =(15, 8))\n",
    "numcol_sinid.plot(kind='box', vert=False)\n",
    "plt.title(\"Valores Atípicos del Dataframe\")\n",
    "plt.show() "
   ]
  },
  {
   "cell_type": "code",
   "execution_count": 28,
   "metadata": {},
   "outputs": [
    {
     "name": "stdout",
     "output_type": "stream",
     "text": [
      "Limite superior permitido host_listings_count                             9.885468e+01\n",
      "host_total_listings_count                       1.501162e+02\n",
      "latitude                                        5.241881e+01\n",
      "longitude                                       4.996959e+00\n",
      "accommodates                                    7.033283e+00\n",
      "bathrooms                                       3.032154e+00\n",
      "bedrooms                                        4.320208e+00\n",
      "beds                                            6.527505e+00\n",
      "price                                           3.201865e+03\n",
      "minimum_nights                                  6.270322e+01\n",
      "maximum_nights                                  1.623461e+03\n",
      "minimum_minimum_nights                          5.801519e+01\n",
      "maximum_minimum_nights                          6.342350e+01\n",
      "minimum_maximum_nights                          1.837076e+03\n",
      "maximum_maximum_nights                          9.488261e+07\n",
      "minimum_nights_avg_ntm                          6.230631e+01\n",
      "maximum_nights_avg_ntm                          9.466091e+07\n",
      "availability_30                                 2.584897e+01\n",
      "availability_60                                 5.965637e+01\n",
      "availability_90                                 9.694219e+01\n",
      "availability_365                                4.063370e+02\n",
      "number_of_reviews                               3.960113e+02\n",
      "number_of_reviews_ltm                           9.052604e+01\n",
      "number_of_reviews_l30d                          6.831579e+00\n",
      "review_scores_rating                            5.685510e+00\n",
      "review_scores_accuracy                          5.674256e+00\n",
      "review_scores_cleanliness                       5.732057e+00\n",
      "review_scores_checkin                           5.596484e+00\n",
      "review_scores_communication                     5.574079e+00\n",
      "review_scores_location                          5.590730e+00\n",
      "review_scores_value                             5.651622e+00\n",
      "calculated_host_listings_count                  9.901680e+00\n",
      "calculated_host_listings_count_entire_homes     6.863099e+00\n",
      "calculated_host_listings_count_private_rooms    5.765764e+00\n",
      "calculated_host_listings_count_shared_rooms     1.083349e+00\n",
      "reviews_per_month                               7.408969e+00\n",
      "dtype: float64\n",
      "Limite inferior permitido host_listings_count                            -9.172707e+01\n",
      "host_total_listings_count                      -1.396952e+02\n",
      "latitude                                        5.231423e+01\n",
      "longitude                                       4.782920e+00\n",
      "accommodates                                   -1.158955e+00\n",
      "bathrooms                                      -4.437540e-01\n",
      "bedrooms                                       -1.193033e+00\n",
      "beds                                           -3.464347e+00\n",
      "price                                          -2.634258e+03\n",
      "minimum_nights                                 -5.417218e+01\n",
      "maximum_nights                                 -9.523931e+02\n",
      "minimum_minimum_nights                         -5.051981e+01\n",
      "maximum_minimum_nights                         -5.385766e+01\n",
      "minimum_maximum_nights                         -1.004065e+03\n",
      "maximum_maximum_nights                         -9.395907e+07\n",
      "minimum_nights_avg_ntm                         -5.350137e+01\n",
      "maximum_nights_avg_ntm                         -9.373955e+07\n",
      "availability_30                                -1.740279e+01\n",
      "availability_60                                -3.686152e+01\n",
      "availability_90                                -5.785347e+01\n",
      "availability_365                               -2.411130e+02\n",
      "number_of_reviews                              -3.046289e+02\n",
      "number_of_reviews_ltm                          -7.098017e+01\n",
      "number_of_reviews_l30d                         -5.069173e+00\n",
      "review_scores_rating                            3.985280e+00\n",
      "review_scores_accuracy                          4.032780e+00\n",
      "review_scores_cleanliness                       3.826607e+00\n",
      "review_scores_checkin                           4.180130e+00\n",
      "review_scores_communication                     4.241027e+00\n",
      "review_scores_location                          4.020826e+00\n",
      "review_scores_value                             3.654761e+00\n",
      "calculated_host_listings_count                 -6.342926e+00\n",
      "calculated_host_listings_count_entire_homes    -4.543013e+00\n",
      "calculated_host_listings_count_private_rooms   -4.651048e+00\n",
      "calculated_host_listings_count_shared_rooms    -1.025777e+00\n",
      "reviews_per_month                              -5.238679e+00\n",
      "dtype: float64\n"
     ]
    }
   ],
   "source": [
    "#Método aplicando desviación estandar. Encuentro los valores extremos\n",
    "y=numcol_sinid\n",
    "Limite_Superior= y.mean() + 3*y.std()\n",
    "Limite_Inferior= y.mean() - 3*y.std()\n",
    "print(\"Limite superior permitido\", Limite_Superior)\n",
    "print(\"Limite inferior permitido\", Limite_Inferior)"
   ]
  },
  {
   "cell_type": "code",
   "execution_count": 31,
   "metadata": {},
   "outputs": [
    {
     "data": {
      "text/html": [
       "<div>\n",
       "<style scoped>\n",
       "    .dataframe tbody tr th:only-of-type {\n",
       "        vertical-align: middle;\n",
       "    }\n",
       "\n",
       "    .dataframe tbody tr th {\n",
       "        vertical-align: top;\n",
       "    }\n",
       "\n",
       "    .dataframe thead th {\n",
       "        text-align: right;\n",
       "    }\n",
       "</style>\n",
       "<table border=\"1\" class=\"dataframe\">\n",
       "  <thead>\n",
       "    <tr style=\"text-align: right;\">\n",
       "      <th></th>\n",
       "      <th>host_listings_count</th>\n",
       "      <th>host_total_listings_count</th>\n",
       "      <th>latitude</th>\n",
       "      <th>longitude</th>\n",
       "      <th>accommodates</th>\n",
       "      <th>bathrooms</th>\n",
       "      <th>bedrooms</th>\n",
       "      <th>beds</th>\n",
       "      <th>price</th>\n",
       "      <th>minimum_nights</th>\n",
       "      <th>...</th>\n",
       "      <th>review_scores_cleanliness</th>\n",
       "      <th>review_scores_checkin</th>\n",
       "      <th>review_scores_communication</th>\n",
       "      <th>review_scores_location</th>\n",
       "      <th>review_scores_value</th>\n",
       "      <th>calculated_host_listings_count</th>\n",
       "      <th>calculated_host_listings_count_entire_homes</th>\n",
       "      <th>calculated_host_listings_count_private_rooms</th>\n",
       "      <th>calculated_host_listings_count_shared_rooms</th>\n",
       "      <th>reviews_per_month</th>\n",
       "    </tr>\n",
       "  </thead>\n",
       "  <tbody>\n",
       "    <tr>\n",
       "      <th>0</th>\n",
       "      <td>3.0</td>\n",
       "      <td>3.0</td>\n",
       "      <td>52.35931</td>\n",
       "      <td>4.89844</td>\n",
       "      <td>4.0</td>\n",
       "      <td>1.5</td>\n",
       "      <td>2.0</td>\n",
       "      <td>2.0</td>\n",
       "      <td>200.0</td>\n",
       "      <td>4.0</td>\n",
       "      <td>...</td>\n",
       "      <td>4.63</td>\n",
       "      <td>4.84</td>\n",
       "      <td>4.88</td>\n",
       "      <td>4.91</td>\n",
       "      <td>4.66</td>\n",
       "      <td>3.0</td>\n",
       "      <td>2.0</td>\n",
       "      <td>1.0</td>\n",
       "      <td>0.0</td>\n",
       "      <td>0.22</td>\n",
       "    </tr>\n",
       "    <tr>\n",
       "      <th>1</th>\n",
       "      <td>2.0</td>\n",
       "      <td>2.0</td>\n",
       "      <td>52.39185</td>\n",
       "      <td>4.88690</td>\n",
       "      <td>NaN</td>\n",
       "      <td>1.5</td>\n",
       "      <td>NaN</td>\n",
       "      <td>2.0</td>\n",
       "      <td>200.0</td>\n",
       "      <td>2.0</td>\n",
       "      <td>...</td>\n",
       "      <td>4.69</td>\n",
       "      <td>4.86</td>\n",
       "      <td>4.88</td>\n",
       "      <td>4.58</td>\n",
       "      <td>4.48</td>\n",
       "      <td>2.0</td>\n",
       "      <td>2.0</td>\n",
       "      <td>0.0</td>\n",
       "      <td>0.0</td>\n",
       "      <td>0.72</td>\n",
       "    </tr>\n",
       "    <tr>\n",
       "      <th>2</th>\n",
       "      <td>3.0</td>\n",
       "      <td>3.0</td>\n",
       "      <td>52.35871</td>\n",
       "      <td>4.89616</td>\n",
       "      <td>2.0</td>\n",
       "      <td>1.0</td>\n",
       "      <td>1.0</td>\n",
       "      <td>0.0</td>\n",
       "      <td>155.0</td>\n",
       "      <td>3.0</td>\n",
       "      <td>...</td>\n",
       "      <td>5.00</td>\n",
       "      <td>5.00</td>\n",
       "      <td>5.00</td>\n",
       "      <td>5.00</td>\n",
       "      <td>5.00</td>\n",
       "      <td>3.0</td>\n",
       "      <td>2.0</td>\n",
       "      <td>1.0</td>\n",
       "      <td>0.0</td>\n",
       "      <td>0.04</td>\n",
       "    </tr>\n",
       "  </tbody>\n",
       "</table>\n",
       "<p>3 rows × 36 columns</p>\n",
       "</div>"
      ],
      "text/plain": [
       "   host_listings_count  host_total_listings_count  latitude  longitude  \\\n",
       "0                  3.0                        3.0  52.35931    4.89844   \n",
       "1                  2.0                        2.0  52.39185    4.88690   \n",
       "2                  3.0                        3.0  52.35871    4.89616   \n",
       "\n",
       "   accommodates  bathrooms  bedrooms  beds  price  minimum_nights  ...  \\\n",
       "0           4.0        1.5       2.0   2.0  200.0             4.0  ...   \n",
       "1           NaN        1.5       NaN   2.0  200.0             2.0  ...   \n",
       "2           2.0        1.0       1.0   0.0  155.0             3.0  ...   \n",
       "\n",
       "   review_scores_cleanliness  review_scores_checkin  \\\n",
       "0                       4.63                   4.84   \n",
       "1                       4.69                   4.86   \n",
       "2                       5.00                   5.00   \n",
       "\n",
       "   review_scores_communication  review_scores_location  review_scores_value  \\\n",
       "0                         4.88                    4.91                 4.66   \n",
       "1                         4.88                    4.58                 4.48   \n",
       "2                         5.00                    5.00                 5.00   \n",
       "\n",
       "   calculated_host_listings_count  \\\n",
       "0                             3.0   \n",
       "1                             2.0   \n",
       "2                             3.0   \n",
       "\n",
       "   calculated_host_listings_count_entire_homes  \\\n",
       "0                                          2.0   \n",
       "1                                          2.0   \n",
       "2                                          2.0   \n",
       "\n",
       "   calculated_host_listings_count_private_rooms  \\\n",
       "0                                           1.0   \n",
       "1                                           0.0   \n",
       "2                                           1.0   \n",
       "\n",
       "   calculated_host_listings_count_shared_rooms  reviews_per_month  \n",
       "0                                          0.0               0.22  \n",
       "1                                          0.0               0.72  \n",
       "2                                          0.0               0.04  \n",
       "\n",
       "[3 rows x 36 columns]"
      ]
     },
     "execution_count": 31,
     "metadata": {},
     "output_type": "execute_result"
    }
   ],
   "source": [
    "#Obtenemos datos y los outliers se convierten en nulos en el DataFrame\n",
    "numcol_outliers= numcol_sinid[(y<=Limite_Superior)&(y>=Limite_Inferior)]\n",
    "numcol_outliers.head(3)"
   ]
  },
  {
   "cell_type": "code",
   "execution_count": 32,
   "metadata": {},
   "outputs": [
    {
     "data": {
      "text/plain": [
       "host_listings_count                              32\n",
       "host_total_listings_count                        32\n",
       "latitude                                        131\n",
       "longitude                                       114\n",
       "accommodates                                     79\n",
       "bathrooms                                        95\n",
       "bedrooms                                         71\n",
       "beds                                             59\n",
       "price                                             5\n",
       "minimum_nights                                   41\n",
       "maximum_nights                                    0\n",
       "minimum_minimum_nights                           32\n",
       "maximum_minimum_nights                           40\n",
       "minimum_maximum_nights                            0\n",
       "maximum_maximum_nights                            2\n",
       "minimum_nights_avg_ntm                           40\n",
       "maximum_nights_avg_ntm                            2\n",
       "availability_30                                 318\n",
       "availability_60                                  76\n",
       "availability_90                                   0\n",
       "availability_365                                  0\n",
       "number_of_reviews                               205\n",
       "number_of_reviews_ltm                            80\n",
       "number_of_reviews_l30d                          220\n",
       "review_scores_rating                            112\n",
       "review_scores_accuracy                          174\n",
       "review_scores_cleanliness                       140\n",
       "review_scores_checkin                           180\n",
       "review_scores_communication                     161\n",
       "review_scores_location                          242\n",
       "review_scores_value                             120\n",
       "calculated_host_listings_count                  194\n",
       "calculated_host_listings_count_entire_homes     161\n",
       "calculated_host_listings_count_private_rooms    221\n",
       "calculated_host_listings_count_shared_rooms      72\n",
       "reviews_per_month                                79\n",
       "dtype: int64"
      ]
     },
     "execution_count": 32,
     "metadata": {},
     "output_type": "execute_result"
    }
   ],
   "source": [
    "#Comprobamos los valores atipicos que se volvieron nulos \n",
    "numcol_outliers.isnull().sum()"
   ]
  },
  {
   "cell_type": "code",
   "execution_count": 33,
   "metadata": {},
   "outputs": [
    {
     "data": {
      "text/html": [
       "<div>\n",
       "<style scoped>\n",
       "    .dataframe tbody tr th:only-of-type {\n",
       "        vertical-align: middle;\n",
       "    }\n",
       "\n",
       "    .dataframe tbody tr th {\n",
       "        vertical-align: top;\n",
       "    }\n",
       "\n",
       "    .dataframe thead th {\n",
       "        text-align: right;\n",
       "    }\n",
       "</style>\n",
       "<table border=\"1\" class=\"dataframe\">\n",
       "  <thead>\n",
       "    <tr style=\"text-align: right;\">\n",
       "      <th></th>\n",
       "      <th>host_listings_count</th>\n",
       "      <th>host_total_listings_count</th>\n",
       "      <th>latitude</th>\n",
       "      <th>longitude</th>\n",
       "      <th>accommodates</th>\n",
       "      <th>bathrooms</th>\n",
       "      <th>bedrooms</th>\n",
       "      <th>beds</th>\n",
       "      <th>price</th>\n",
       "      <th>minimum_nights</th>\n",
       "      <th>...</th>\n",
       "      <th>review_scores_cleanliness</th>\n",
       "      <th>review_scores_checkin</th>\n",
       "      <th>review_scores_communication</th>\n",
       "      <th>review_scores_location</th>\n",
       "      <th>review_scores_value</th>\n",
       "      <th>calculated_host_listings_count</th>\n",
       "      <th>calculated_host_listings_count_entire_homes</th>\n",
       "      <th>calculated_host_listings_count_private_rooms</th>\n",
       "      <th>calculated_host_listings_count_shared_rooms</th>\n",
       "      <th>reviews_per_month</th>\n",
       "    </tr>\n",
       "  </thead>\n",
       "  <tbody>\n",
       "    <tr>\n",
       "      <th>0</th>\n",
       "      <td>3.0</td>\n",
       "      <td>3.0</td>\n",
       "      <td>52.35931</td>\n",
       "      <td>4.89844</td>\n",
       "      <td>4.0</td>\n",
       "      <td>1.5</td>\n",
       "      <td>2.0</td>\n",
       "      <td>2.0</td>\n",
       "      <td>200.0</td>\n",
       "      <td>4.0</td>\n",
       "      <td>...</td>\n",
       "      <td>4.63</td>\n",
       "      <td>4.84</td>\n",
       "      <td>4.88</td>\n",
       "      <td>4.91</td>\n",
       "      <td>4.66</td>\n",
       "      <td>3.0</td>\n",
       "      <td>2.0</td>\n",
       "      <td>1.0</td>\n",
       "      <td>0.0</td>\n",
       "      <td>0.22</td>\n",
       "    </tr>\n",
       "    <tr>\n",
       "      <th>1</th>\n",
       "      <td>2.0</td>\n",
       "      <td>2.0</td>\n",
       "      <td>52.39185</td>\n",
       "      <td>4.88690</td>\n",
       "      <td>2.9</td>\n",
       "      <td>1.5</td>\n",
       "      <td>1.5</td>\n",
       "      <td>2.0</td>\n",
       "      <td>200.0</td>\n",
       "      <td>2.0</td>\n",
       "      <td>...</td>\n",
       "      <td>4.69</td>\n",
       "      <td>4.86</td>\n",
       "      <td>4.88</td>\n",
       "      <td>4.58</td>\n",
       "      <td>4.48</td>\n",
       "      <td>2.0</td>\n",
       "      <td>2.0</td>\n",
       "      <td>0.0</td>\n",
       "      <td>0.0</td>\n",
       "      <td>0.72</td>\n",
       "    </tr>\n",
       "    <tr>\n",
       "      <th>2</th>\n",
       "      <td>3.0</td>\n",
       "      <td>3.0</td>\n",
       "      <td>52.35871</td>\n",
       "      <td>4.89616</td>\n",
       "      <td>2.0</td>\n",
       "      <td>1.0</td>\n",
       "      <td>1.0</td>\n",
       "      <td>0.0</td>\n",
       "      <td>155.0</td>\n",
       "      <td>3.0</td>\n",
       "      <td>...</td>\n",
       "      <td>5.00</td>\n",
       "      <td>5.00</td>\n",
       "      <td>5.00</td>\n",
       "      <td>5.00</td>\n",
       "      <td>5.00</td>\n",
       "      <td>3.0</td>\n",
       "      <td>2.0</td>\n",
       "      <td>1.0</td>\n",
       "      <td>0.0</td>\n",
       "      <td>0.04</td>\n",
       "    </tr>\n",
       "  </tbody>\n",
       "</table>\n",
       "<p>3 rows × 36 columns</p>\n",
       "</div>"
      ],
      "text/plain": [
       "   host_listings_count  host_total_listings_count  latitude  longitude  \\\n",
       "0                  3.0                        3.0  52.35931    4.89844   \n",
       "1                  2.0                        2.0  52.39185    4.88690   \n",
       "2                  3.0                        3.0  52.35871    4.89616   \n",
       "\n",
       "   accommodates  bathrooms  bedrooms  beds  price  minimum_nights  ...  \\\n",
       "0           4.0        1.5       2.0   2.0  200.0             4.0  ...   \n",
       "1           2.9        1.5       1.5   2.0  200.0             2.0  ...   \n",
       "2           2.0        1.0       1.0   0.0  155.0             3.0  ...   \n",
       "\n",
       "   review_scores_cleanliness  review_scores_checkin  \\\n",
       "0                       4.63                   4.84   \n",
       "1                       4.69                   4.86   \n",
       "2                       5.00                   5.00   \n",
       "\n",
       "   review_scores_communication  review_scores_location  review_scores_value  \\\n",
       "0                         4.88                    4.91                 4.66   \n",
       "1                         4.88                    4.58                 4.48   \n",
       "2                         5.00                    5.00                 5.00   \n",
       "\n",
       "   calculated_host_listings_count  \\\n",
       "0                             3.0   \n",
       "1                             2.0   \n",
       "2                             3.0   \n",
       "\n",
       "   calculated_host_listings_count_entire_homes  \\\n",
       "0                                          2.0   \n",
       "1                                          2.0   \n",
       "2                                          2.0   \n",
       "\n",
       "   calculated_host_listings_count_private_rooms  \\\n",
       "0                                           1.0   \n",
       "1                                           0.0   \n",
       "2                                           1.0   \n",
       "\n",
       "   calculated_host_listings_count_shared_rooms  reviews_per_month  \n",
       "0                                          0.0               0.22  \n",
       "1                                          0.0               0.72  \n",
       "2                                          0.0               0.04  \n",
       "\n",
       "[3 rows x 36 columns]"
      ]
     },
     "execution_count": 33,
     "metadata": {},
     "output_type": "execute_result"
    }
   ],
   "source": [
    "#Reemplazamos valores atípicos (nulos) del dataframe con \"mean\"\n",
    "#Realizamos una copia del dataframe\n",
    "numcol_clean=numcol_outliers.copy()\n",
    "numcol_clean=numcol_clean.fillna(round(numcol_outliers.mean(),1))\n",
    "numcol_clean.head(3)"
   ]
  },
  {
   "cell_type": "code",
   "execution_count": 34,
   "metadata": {},
   "outputs": [
    {
     "data": {
      "text/plain": [
       "0"
      ]
     },
     "execution_count": 34,
     "metadata": {},
     "output_type": "execute_result"
    }
   ],
   "source": [
    "#Corroboramos valores nulos del dataframe LIMPIO\n",
    "numcol_clean.isnull().sum().sum()"
   ]
  },
  {
   "cell_type": "code",
   "execution_count": 37,
   "metadata": {},
   "outputs": [],
   "source": [
    "#Guardar la nueva base de datos\n",
    "numcol_clean.to_csv(\"amsterdamlimpio.csv\")"
   ]
  }
 ],
 "metadata": {
  "kernelspec": {
   "display_name": "Python 3",
   "language": "python",
   "name": "python3"
  },
  "language_info": {
   "codemirror_mode": {
    "name": "ipython",
    "version": 3
   },
   "file_extension": ".py",
   "mimetype": "text/x-python",
   "name": "python",
   "nbconvert_exporter": "python",
   "pygments_lexer": "ipython3",
   "version": "3.12.4"
  }
 },
 "nbformat": 4,
 "nbformat_minor": 2
}
