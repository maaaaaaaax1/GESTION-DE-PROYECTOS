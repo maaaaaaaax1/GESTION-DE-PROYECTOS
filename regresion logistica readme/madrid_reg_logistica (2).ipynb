{
  "nbformat": 4,
  "nbformat_minor": 0,
  "metadata": {
    "colab": {
      "provenance": []
    },
    "kernelspec": {
      "name": "python3",
      "display_name": "Python 3"
    },
    "language_info": {
      "name": "python"
    }
  },
  "cells": [
    {
      "cell_type": "code",
      "execution_count": 2,
      "metadata": {
        "id": "3_GhlRH2z5es"
      },
      "outputs": [],
      "source": [
        "import pandas as pd\n",
        "import numpy as np\n",
        "import matplotlib.pyplot as plt\n",
        "import scipy.special as special\n",
        "from scipy.optimize import curve_fit\n",
        "import seaborn as sns\n",
        "from sklearn.metrics import r2_score\n",
        "from sklearn.model_selection import train_test_split\n",
        "from sklearn.preprocessing import StandardScaler"
      ]
    },
    {
      "cell_type": "code",
      "source": [
        "df=pd.read_csv('madrid_variables.csv')\n",
        "df.head(5)"
      ],
      "metadata": {
        "colab": {
          "base_uri": "https://localhost:8080/",
          "height": 244
        },
        "id": "JrTwN7yE0pzX",
        "outputId": "42ec488d-bf39-46e5-967e-14ba68bb0096"
      },
      "execution_count": 3,
      "outputs": [
        {
          "output_type": "execute_result",
          "data": {
            "text/plain": [
              "   Unnamed: 0  host_response_rate  host_acceptance_rate  \\\n",
              "0           0                 1.0                  1.00   \n",
              "1           1                 0.0                  0.57   \n",
              "2           2                 1.0                  1.00   \n",
              "3           3                 0.9                  0.33   \n",
              "4           4                 0.9                  0.80   \n",
              "\n",
              "   host_total_listings_count   latitude  accommodates  bathrooms  \\\n",
              "0                        1.0  40.406980           2.0        1.0   \n",
              "1                        4.0  40.392100           2.0        1.0   \n",
              "2                        2.0  40.395110           1.0        1.0   \n",
              "3                        1.0  40.395555           3.0        1.0   \n",
              "4                        4.0  40.430450           1.0        1.0   \n",
              "\n",
              "   minimum_nights  number_of_reviews  bedrooms  reviews_per_month  price  \\\n",
              "0             1.0                2.0       1.0               0.61   68.0   \n",
              "1             1.0                3.0       1.0               0.28   16.0   \n",
              "2             1.0              186.0       2.0               5.40   25.0   \n",
              "3             2.0                1.0       1.0               0.14   26.0   \n",
              "4             7.0                0.0       1.0               1.90  100.0   \n",
              "\n",
              "  host_is_superhost host_has_profile_pic host_identity_verified  \\\n",
              "0                 f                    t                      t   \n",
              "1                 f                    t                      t   \n",
              "2                 f                    t                      t   \n",
              "3                 f                    t                      t   \n",
              "4                 f                    t                      t   \n",
              "\n",
              "  has_availability instant_bookable  \n",
              "0                t                f  \n",
              "1                t                f  \n",
              "2                t                t  \n",
              "3                t                f  \n",
              "4                t                f  "
            ],
            "text/html": [
              "\n",
              "  <div id=\"df-fc65af77-e729-4112-a774-4a6cc3806dd4\" class=\"colab-df-container\">\n",
              "    <div>\n",
              "<style scoped>\n",
              "    .dataframe tbody tr th:only-of-type {\n",
              "        vertical-align: middle;\n",
              "    }\n",
              "\n",
              "    .dataframe tbody tr th {\n",
              "        vertical-align: top;\n",
              "    }\n",
              "\n",
              "    .dataframe thead th {\n",
              "        text-align: right;\n",
              "    }\n",
              "</style>\n",
              "<table border=\"1\" class=\"dataframe\">\n",
              "  <thead>\n",
              "    <tr style=\"text-align: right;\">\n",
              "      <th></th>\n",
              "      <th>Unnamed: 0</th>\n",
              "      <th>host_response_rate</th>\n",
              "      <th>host_acceptance_rate</th>\n",
              "      <th>host_total_listings_count</th>\n",
              "      <th>latitude</th>\n",
              "      <th>accommodates</th>\n",
              "      <th>bathrooms</th>\n",
              "      <th>minimum_nights</th>\n",
              "      <th>number_of_reviews</th>\n",
              "      <th>bedrooms</th>\n",
              "      <th>reviews_per_month</th>\n",
              "      <th>price</th>\n",
              "      <th>host_is_superhost</th>\n",
              "      <th>host_has_profile_pic</th>\n",
              "      <th>host_identity_verified</th>\n",
              "      <th>has_availability</th>\n",
              "      <th>instant_bookable</th>\n",
              "    </tr>\n",
              "  </thead>\n",
              "  <tbody>\n",
              "    <tr>\n",
              "      <th>0</th>\n",
              "      <td>0</td>\n",
              "      <td>1.0</td>\n",
              "      <td>1.00</td>\n",
              "      <td>1.0</td>\n",
              "      <td>40.406980</td>\n",
              "      <td>2.0</td>\n",
              "      <td>1.0</td>\n",
              "      <td>1.0</td>\n",
              "      <td>2.0</td>\n",
              "      <td>1.0</td>\n",
              "      <td>0.61</td>\n",
              "      <td>68.0</td>\n",
              "      <td>f</td>\n",
              "      <td>t</td>\n",
              "      <td>t</td>\n",
              "      <td>t</td>\n",
              "      <td>f</td>\n",
              "    </tr>\n",
              "    <tr>\n",
              "      <th>1</th>\n",
              "      <td>1</td>\n",
              "      <td>0.0</td>\n",
              "      <td>0.57</td>\n",
              "      <td>4.0</td>\n",
              "      <td>40.392100</td>\n",
              "      <td>2.0</td>\n",
              "      <td>1.0</td>\n",
              "      <td>1.0</td>\n",
              "      <td>3.0</td>\n",
              "      <td>1.0</td>\n",
              "      <td>0.28</td>\n",
              "      <td>16.0</td>\n",
              "      <td>f</td>\n",
              "      <td>t</td>\n",
              "      <td>t</td>\n",
              "      <td>t</td>\n",
              "      <td>f</td>\n",
              "    </tr>\n",
              "    <tr>\n",
              "      <th>2</th>\n",
              "      <td>2</td>\n",
              "      <td>1.0</td>\n",
              "      <td>1.00</td>\n",
              "      <td>2.0</td>\n",
              "      <td>40.395110</td>\n",
              "      <td>1.0</td>\n",
              "      <td>1.0</td>\n",
              "      <td>1.0</td>\n",
              "      <td>186.0</td>\n",
              "      <td>2.0</td>\n",
              "      <td>5.40</td>\n",
              "      <td>25.0</td>\n",
              "      <td>f</td>\n",
              "      <td>t</td>\n",
              "      <td>t</td>\n",
              "      <td>t</td>\n",
              "      <td>t</td>\n",
              "    </tr>\n",
              "    <tr>\n",
              "      <th>3</th>\n",
              "      <td>3</td>\n",
              "      <td>0.9</td>\n",
              "      <td>0.33</td>\n",
              "      <td>1.0</td>\n",
              "      <td>40.395555</td>\n",
              "      <td>3.0</td>\n",
              "      <td>1.0</td>\n",
              "      <td>2.0</td>\n",
              "      <td>1.0</td>\n",
              "      <td>1.0</td>\n",
              "      <td>0.14</td>\n",
              "      <td>26.0</td>\n",
              "      <td>f</td>\n",
              "      <td>t</td>\n",
              "      <td>t</td>\n",
              "      <td>t</td>\n",
              "      <td>f</td>\n",
              "    </tr>\n",
              "    <tr>\n",
              "      <th>4</th>\n",
              "      <td>4</td>\n",
              "      <td>0.9</td>\n",
              "      <td>0.80</td>\n",
              "      <td>4.0</td>\n",
              "      <td>40.430450</td>\n",
              "      <td>1.0</td>\n",
              "      <td>1.0</td>\n",
              "      <td>7.0</td>\n",
              "      <td>0.0</td>\n",
              "      <td>1.0</td>\n",
              "      <td>1.90</td>\n",
              "      <td>100.0</td>\n",
              "      <td>f</td>\n",
              "      <td>t</td>\n",
              "      <td>t</td>\n",
              "      <td>t</td>\n",
              "      <td>f</td>\n",
              "    </tr>\n",
              "  </tbody>\n",
              "</table>\n",
              "</div>\n",
              "    <div class=\"colab-df-buttons\">\n",
              "\n",
              "  <div class=\"colab-df-container\">\n",
              "    <button class=\"colab-df-convert\" onclick=\"convertToInteractive('df-fc65af77-e729-4112-a774-4a6cc3806dd4')\"\n",
              "            title=\"Convert this dataframe to an interactive table.\"\n",
              "            style=\"display:none;\">\n",
              "\n",
              "  <svg xmlns=\"http://www.w3.org/2000/svg\" height=\"24px\" viewBox=\"0 -960 960 960\">\n",
              "    <path d=\"M120-120v-720h720v720H120Zm60-500h600v-160H180v160Zm220 220h160v-160H400v160Zm0 220h160v-160H400v160ZM180-400h160v-160H180v160Zm440 0h160v-160H620v160ZM180-180h160v-160H180v160Zm440 0h160v-160H620v160Z\"/>\n",
              "  </svg>\n",
              "    </button>\n",
              "\n",
              "  <style>\n",
              "    .colab-df-container {\n",
              "      display:flex;\n",
              "      gap: 12px;\n",
              "    }\n",
              "\n",
              "    .colab-df-convert {\n",
              "      background-color: #E8F0FE;\n",
              "      border: none;\n",
              "      border-radius: 50%;\n",
              "      cursor: pointer;\n",
              "      display: none;\n",
              "      fill: #1967D2;\n",
              "      height: 32px;\n",
              "      padding: 0 0 0 0;\n",
              "      width: 32px;\n",
              "    }\n",
              "\n",
              "    .colab-df-convert:hover {\n",
              "      background-color: #E2EBFA;\n",
              "      box-shadow: 0px 1px 2px rgba(60, 64, 67, 0.3), 0px 1px 3px 1px rgba(60, 64, 67, 0.15);\n",
              "      fill: #174EA6;\n",
              "    }\n",
              "\n",
              "    .colab-df-buttons div {\n",
              "      margin-bottom: 4px;\n",
              "    }\n",
              "\n",
              "    [theme=dark] .colab-df-convert {\n",
              "      background-color: #3B4455;\n",
              "      fill: #D2E3FC;\n",
              "    }\n",
              "\n",
              "    [theme=dark] .colab-df-convert:hover {\n",
              "      background-color: #434B5C;\n",
              "      box-shadow: 0px 1px 3px 1px rgba(0, 0, 0, 0.15);\n",
              "      filter: drop-shadow(0px 1px 2px rgba(0, 0, 0, 0.3));\n",
              "      fill: #FFFFFF;\n",
              "    }\n",
              "  </style>\n",
              "\n",
              "    <script>\n",
              "      const buttonEl =\n",
              "        document.querySelector('#df-fc65af77-e729-4112-a774-4a6cc3806dd4 button.colab-df-convert');\n",
              "      buttonEl.style.display =\n",
              "        google.colab.kernel.accessAllowed ? 'block' : 'none';\n",
              "\n",
              "      async function convertToInteractive(key) {\n",
              "        const element = document.querySelector('#df-fc65af77-e729-4112-a774-4a6cc3806dd4');\n",
              "        const dataTable =\n",
              "          await google.colab.kernel.invokeFunction('convertToInteractive',\n",
              "                                                    [key], {});\n",
              "        if (!dataTable) return;\n",
              "\n",
              "        const docLinkHtml = 'Like what you see? Visit the ' +\n",
              "          '<a target=\"_blank\" href=https://colab.research.google.com/notebooks/data_table.ipynb>data table notebook</a>'\n",
              "          + ' to learn more about interactive tables.';\n",
              "        element.innerHTML = '';\n",
              "        dataTable['output_type'] = 'display_data';\n",
              "        await google.colab.output.renderOutput(dataTable, element);\n",
              "        const docLink = document.createElement('div');\n",
              "        docLink.innerHTML = docLinkHtml;\n",
              "        element.appendChild(docLink);\n",
              "      }\n",
              "    </script>\n",
              "  </div>\n",
              "\n",
              "\n",
              "<div id=\"df-1f97f7cf-56c8-4241-8621-494e4a00fbbe\">\n",
              "  <button class=\"colab-df-quickchart\" onclick=\"quickchart('df-1f97f7cf-56c8-4241-8621-494e4a00fbbe')\"\n",
              "            title=\"Suggest charts\"\n",
              "            style=\"display:none;\">\n",
              "\n",
              "<svg xmlns=\"http://www.w3.org/2000/svg\" height=\"24px\"viewBox=\"0 0 24 24\"\n",
              "     width=\"24px\">\n",
              "    <g>\n",
              "        <path d=\"M19 3H5c-1.1 0-2 .9-2 2v14c0 1.1.9 2 2 2h14c1.1 0 2-.9 2-2V5c0-1.1-.9-2-2-2zM9 17H7v-7h2v7zm4 0h-2V7h2v10zm4 0h-2v-4h2v4z\"/>\n",
              "    </g>\n",
              "</svg>\n",
              "  </button>\n",
              "\n",
              "<style>\n",
              "  .colab-df-quickchart {\n",
              "      --bg-color: #E8F0FE;\n",
              "      --fill-color: #1967D2;\n",
              "      --hover-bg-color: #E2EBFA;\n",
              "      --hover-fill-color: #174EA6;\n",
              "      --disabled-fill-color: #AAA;\n",
              "      --disabled-bg-color: #DDD;\n",
              "  }\n",
              "\n",
              "  [theme=dark] .colab-df-quickchart {\n",
              "      --bg-color: #3B4455;\n",
              "      --fill-color: #D2E3FC;\n",
              "      --hover-bg-color: #434B5C;\n",
              "      --hover-fill-color: #FFFFFF;\n",
              "      --disabled-bg-color: #3B4455;\n",
              "      --disabled-fill-color: #666;\n",
              "  }\n",
              "\n",
              "  .colab-df-quickchart {\n",
              "    background-color: var(--bg-color);\n",
              "    border: none;\n",
              "    border-radius: 50%;\n",
              "    cursor: pointer;\n",
              "    display: none;\n",
              "    fill: var(--fill-color);\n",
              "    height: 32px;\n",
              "    padding: 0;\n",
              "    width: 32px;\n",
              "  }\n",
              "\n",
              "  .colab-df-quickchart:hover {\n",
              "    background-color: var(--hover-bg-color);\n",
              "    box-shadow: 0 1px 2px rgba(60, 64, 67, 0.3), 0 1px 3px 1px rgba(60, 64, 67, 0.15);\n",
              "    fill: var(--button-hover-fill-color);\n",
              "  }\n",
              "\n",
              "  .colab-df-quickchart-complete:disabled,\n",
              "  .colab-df-quickchart-complete:disabled:hover {\n",
              "    background-color: var(--disabled-bg-color);\n",
              "    fill: var(--disabled-fill-color);\n",
              "    box-shadow: none;\n",
              "  }\n",
              "\n",
              "  .colab-df-spinner {\n",
              "    border: 2px solid var(--fill-color);\n",
              "    border-color: transparent;\n",
              "    border-bottom-color: var(--fill-color);\n",
              "    animation:\n",
              "      spin 1s steps(1) infinite;\n",
              "  }\n",
              "\n",
              "  @keyframes spin {\n",
              "    0% {\n",
              "      border-color: transparent;\n",
              "      border-bottom-color: var(--fill-color);\n",
              "      border-left-color: var(--fill-color);\n",
              "    }\n",
              "    20% {\n",
              "      border-color: transparent;\n",
              "      border-left-color: var(--fill-color);\n",
              "      border-top-color: var(--fill-color);\n",
              "    }\n",
              "    30% {\n",
              "      border-color: transparent;\n",
              "      border-left-color: var(--fill-color);\n",
              "      border-top-color: var(--fill-color);\n",
              "      border-right-color: var(--fill-color);\n",
              "    }\n",
              "    40% {\n",
              "      border-color: transparent;\n",
              "      border-right-color: var(--fill-color);\n",
              "      border-top-color: var(--fill-color);\n",
              "    }\n",
              "    60% {\n",
              "      border-color: transparent;\n",
              "      border-right-color: var(--fill-color);\n",
              "    }\n",
              "    80% {\n",
              "      border-color: transparent;\n",
              "      border-right-color: var(--fill-color);\n",
              "      border-bottom-color: var(--fill-color);\n",
              "    }\n",
              "    90% {\n",
              "      border-color: transparent;\n",
              "      border-bottom-color: var(--fill-color);\n",
              "    }\n",
              "  }\n",
              "</style>\n",
              "\n",
              "  <script>\n",
              "    async function quickchart(key) {\n",
              "      const quickchartButtonEl =\n",
              "        document.querySelector('#' + key + ' button');\n",
              "      quickchartButtonEl.disabled = true;  // To prevent multiple clicks.\n",
              "      quickchartButtonEl.classList.add('colab-df-spinner');\n",
              "      try {\n",
              "        const charts = await google.colab.kernel.invokeFunction(\n",
              "            'suggestCharts', [key], {});\n",
              "      } catch (error) {\n",
              "        console.error('Error during call to suggestCharts:', error);\n",
              "      }\n",
              "      quickchartButtonEl.classList.remove('colab-df-spinner');\n",
              "      quickchartButtonEl.classList.add('colab-df-quickchart-complete');\n",
              "    }\n",
              "    (() => {\n",
              "      let quickchartButtonEl =\n",
              "        document.querySelector('#df-1f97f7cf-56c8-4241-8621-494e4a00fbbe button');\n",
              "      quickchartButtonEl.style.display =\n",
              "        google.colab.kernel.accessAllowed ? 'block' : 'none';\n",
              "    })();\n",
              "  </script>\n",
              "</div>\n",
              "\n",
              "    </div>\n",
              "  </div>\n"
            ],
            "application/vnd.google.colaboratory.intrinsic+json": {
              "type": "dataframe",
              "variable_name": "df",
              "summary": "{\n  \"name\": \"df\",\n  \"rows\": 26925,\n  \"fields\": [\n    {\n      \"column\": \"Unnamed: 0\",\n      \"properties\": {\n        \"dtype\": \"number\",\n        \"std\": 7772,\n        \"min\": 0,\n        \"max\": 26924,\n        \"num_unique_values\": 26925,\n        \"samples\": [\n          20956,\n          17830,\n          6052\n        ],\n        \"semantic_type\": \"\",\n        \"description\": \"\"\n      }\n    },\n    {\n      \"column\": \"host_response_rate\",\n      \"properties\": {\n        \"dtype\": \"number\",\n        \"std\": 0.17989353541380748,\n        \"min\": 0.0,\n        \"max\": 1.0,\n        \"num_unique_values\": 92,\n        \"samples\": [\n          0.2,\n          0.4,\n          0.15\n        ],\n        \"semantic_type\": \"\",\n        \"description\": \"\"\n      }\n    },\n    {\n      \"column\": \"host_acceptance_rate\",\n      \"properties\": {\n        \"dtype\": \"number\",\n        \"std\": 0.24330848278755857,\n        \"min\": 0.0,\n        \"max\": 1.0,\n        \"num_unique_values\": 101,\n        \"samples\": [\n          0.59,\n          0.62,\n          0.78\n        ],\n        \"semantic_type\": \"\",\n        \"description\": \"\"\n      }\n    },\n    {\n      \"column\": \"host_total_listings_count\",\n      \"properties\": {\n        \"dtype\": \"number\",\n        \"std\": 70.47588755676237,\n        \"min\": 1.0,\n        \"max\": 468.0,\n        \"num_unique_values\": 124,\n        \"samples\": [\n          13.0,\n          52.0,\n          285.0\n        ],\n        \"semantic_type\": \"\",\n        \"description\": \"\"\n      }\n    },\n    {\n      \"column\": \"latitude\",\n      \"properties\": {\n        \"dtype\": \"number\",\n        \"std\": 0.022028374413052946,\n        \"min\": 40.35107,\n        \"max\": 40.49229,\n        \"num_unique_values\": 16070,\n        \"samples\": [\n          40.415844,\n          40.46913,\n          40.4040149\n        ],\n        \"semantic_type\": \"\",\n        \"description\": \"\"\n      }\n    },\n    {\n      \"column\": \"accommodates\",\n      \"properties\": {\n        \"dtype\": \"number\",\n        \"std\": 1.6478376241556971,\n        \"min\": 1.0,\n        \"max\": 8.0,\n        \"num_unique_values\": 8,\n        \"samples\": [\n          1.0,\n          6.0,\n          2.0\n        ],\n        \"semantic_type\": \"\",\n        \"description\": \"\"\n      }\n    },\n    {\n      \"column\": \"bathrooms\",\n      \"properties\": {\n        \"dtype\": \"number\",\n        \"std\": 0.45299319568941304,\n        \"min\": 0.0,\n        \"max\": 3.0,\n        \"num_unique_values\": 8,\n        \"samples\": [\n          3.0,\n          2.0,\n          1.0\n        ],\n        \"semantic_type\": \"\",\n        \"description\": \"\"\n      }\n    },\n    {\n      \"column\": \"minimum_nights\",\n      \"properties\": {\n        \"dtype\": \"number\",\n        \"std\": 11.077712159674059,\n        \"min\": 1.0,\n        \"max\": 99.0,\n        \"num_unique_values\": 62,\n        \"samples\": [\n          34.0,\n          44.0,\n          1.0\n        ],\n        \"semantic_type\": \"\",\n        \"description\": \"\"\n      }\n    },\n    {\n      \"column\": \"number_of_reviews\",\n      \"properties\": {\n        \"dtype\": \"number\",\n        \"std\": 54.90389199328721,\n        \"min\": 0.0,\n        \"max\": 294.0,\n        \"num_unique_values\": 295,\n        \"samples\": [\n          274.0,\n          145.0,\n          53.0\n        ],\n        \"semantic_type\": \"\",\n        \"description\": \"\"\n      }\n    },\n    {\n      \"column\": \"bedrooms\",\n      \"properties\": {\n        \"dtype\": \"number\",\n        \"std\": 0.7530033273170317,\n        \"min\": 0.0,\n        \"max\": 4.0,\n        \"num_unique_values\": 6,\n        \"samples\": [\n          1.0,\n          2.0,\n          0.0\n        ],\n        \"semantic_type\": \"\",\n        \"description\": \"\"\n      }\n    },\n    {\n      \"column\": \"reviews_per_month\",\n      \"properties\": {\n        \"dtype\": \"number\",\n        \"std\": 1.4151355638422334,\n        \"min\": 0.01,\n        \"max\": 7.09,\n        \"num_unique_values\": 706,\n        \"samples\": [\n          3.08,\n          5.14,\n          2.47\n        ],\n        \"semantic_type\": \"\",\n        \"description\": \"\"\n      }\n    },\n    {\n      \"column\": \"price\",\n      \"properties\": {\n        \"dtype\": \"number\",\n        \"std\": 88.43643733487534,\n        \"min\": 8.0,\n        \"max\": 939.0,\n        \"num_unique_values\": 612,\n        \"samples\": [\n          34.0,\n          280.0,\n          97.0\n        ],\n        \"semantic_type\": \"\",\n        \"description\": \"\"\n      }\n    },\n    {\n      \"column\": \"host_is_superhost\",\n      \"properties\": {\n        \"dtype\": \"category\",\n        \"num_unique_values\": 3,\n        \"samples\": [\n          \"f\",\n          \"t\",\n          \"VALIDACI\\u00d3N PENDIENTE\"\n        ],\n        \"semantic_type\": \"\",\n        \"description\": \"\"\n      }\n    },\n    {\n      \"column\": \"host_has_profile_pic\",\n      \"properties\": {\n        \"dtype\": \"category\",\n        \"num_unique_values\": 3,\n        \"samples\": [\n          \"t\",\n          \"f\",\n          \"INFORMACI\\u00d3N FALTANTE\"\n        ],\n        \"semantic_type\": \"\",\n        \"description\": \"\"\n      }\n    },\n    {\n      \"column\": \"host_identity_verified\",\n      \"properties\": {\n        \"dtype\": \"category\",\n        \"num_unique_values\": 3,\n        \"samples\": [\n          \"t\",\n          \"f\",\n          \"INFORMACI\\u00d3N FALTANTE\"\n        ],\n        \"semantic_type\": \"\",\n        \"description\": \"\"\n      }\n    },\n    {\n      \"column\": \"has_availability\",\n      \"properties\": {\n        \"dtype\": \"category\",\n        \"num_unique_values\": 3,\n        \"samples\": [\n          \"t\",\n          \"INFORMACI\\u00d3N NO DISPONIBLE\",\n          \"f\"\n        ],\n        \"semantic_type\": \"\",\n        \"description\": \"\"\n      }\n    },\n    {\n      \"column\": \"instant_bookable\",\n      \"properties\": {\n        \"dtype\": \"category\",\n        \"num_unique_values\": 2,\n        \"samples\": [\n          \"t\",\n          \"f\"\n        ],\n        \"semantic_type\": \"\",\n        \"description\": \"\"\n      }\n    }\n  ]\n}"
            }
          },
          "metadata": {},
          "execution_count": 3
        }
      ]
    },
    {
      "cell_type": "code",
      "source": [
        "df['host_is_superhost'] = df['host_is_superhost'].replace({\n",
        "    't': 'yes',\n",
        "    'f': 'no',\n",
        "    'VALIDACIÓN PENDIENTE': np.nan\n",
        "})\n",
        "\n",
        "df['host_has_profile_pic'] = df['host_has_profile_pic'].replace({\n",
        "    't': 'yes',\n",
        "    'f': 'no',\n",
        "    'INFORMACIÓN FALTANTE': np.nan\n",
        "})\n",
        "\n",
        "df['host_identity_verified'] = df['host_identity_verified'].replace({\n",
        "    't': 'yes',\n",
        "    'f': 'no',\n",
        "    'INFORMACIÓN FALTANTE': np.nan\n",
        "})\n",
        "\n",
        "df['has_availability'] = df['has_availability'].replace({\n",
        "    't': 'yes',\n",
        "    'f': 'no',\n",
        "    'INFORMACIÓN NO DISPONIBLE': np.nan\n",
        "})\n",
        "\n",
        "df['instant_bookable'] = df['instant_bookable'].replace({\n",
        "    't': 'yes',\n",
        "    'f': 'no',\n",
        "    'INFORMACIÓN NO DISPONIBLE': np.nan\n",
        "})\n",
        "\n",
        "df =df.fillna(method=\"bfill\")\n",
        "df =df.fillna(method=\"ffill\")"
      ],
      "metadata": {
        "colab": {
          "base_uri": "https://localhost:8080/"
        },
        "collapsed": true,
        "id": "8uUksW60NA7Y",
        "outputId": "f5a54cc3-e0b7-4ac9-9e4f-50ef93ff1def"
      },
      "execution_count": 4,
      "outputs": [
        {
          "output_type": "stream",
          "name": "stderr",
          "text": [
            "<ipython-input-4-d98a12bdaf1e>:31: FutureWarning: DataFrame.fillna with 'method' is deprecated and will raise in a future version. Use obj.ffill() or obj.bfill() instead.\n",
            "  df =df.fillna(method=\"bfill\")\n",
            "<ipython-input-4-d98a12bdaf1e>:32: FutureWarning: DataFrame.fillna with 'method' is deprecated and will raise in a future version. Use obj.ffill() or obj.bfill() instead.\n",
            "  df =df.fillna(method=\"ffill\")\n"
          ]
        }
      ]
    },
    {
      "cell_type": "code",
      "source": [
        "df['host_has_profile_pic'].unique()"
      ],
      "metadata": {
        "colab": {
          "base_uri": "https://localhost:8080/"
        },
        "collapsed": true,
        "id": "S33-Em68txjv",
        "outputId": "8273ed8a-f563-4d6e-c2d2-89cd7a8ea56f"
      },
      "execution_count": null,
      "outputs": [
        {
          "output_type": "execute_result",
          "data": {
            "text/plain": [
              "array(['yes', 'no'], dtype=object)"
            ]
          },
          "metadata": {},
          "execution_count": 15
        }
      ]
    },
    {
      "cell_type": "code",
      "source": [
        "df[\"host_has_profile_pic\"].head(30)"
      ],
      "metadata": {
        "colab": {
          "base_uri": "https://localhost:8080/",
          "height": 1000
        },
        "collapsed": true,
        "id": "pLTg6gGk0u1Z",
        "outputId": "54a6969c-62d9-48a4-e57a-3a2a501a7450"
      },
      "execution_count": null,
      "outputs": [
        {
          "output_type": "execute_result",
          "data": {
            "text/plain": [
              "0     yes\n",
              "1     yes\n",
              "2     yes\n",
              "3     yes\n",
              "4     yes\n",
              "5     yes\n",
              "6     yes\n",
              "7     yes\n",
              "8      no\n",
              "9     yes\n",
              "10     no\n",
              "11    yes\n",
              "12    yes\n",
              "13    yes\n",
              "14    yes\n",
              "15    yes\n",
              "16     no\n",
              "17     no\n",
              "18     no\n",
              "19    yes\n",
              "20    yes\n",
              "21     no\n",
              "22     no\n",
              "23     no\n",
              "24     no\n",
              "25     no\n",
              "26     no\n",
              "27    yes\n",
              "28    yes\n",
              "29     no\n",
              "Name: host_identity_verified, dtype: object"
            ],
            "text/html": [
              "<div>\n",
              "<style scoped>\n",
              "    .dataframe tbody tr th:only-of-type {\n",
              "        vertical-align: middle;\n",
              "    }\n",
              "\n",
              "    .dataframe tbody tr th {\n",
              "        vertical-align: top;\n",
              "    }\n",
              "\n",
              "    .dataframe thead th {\n",
              "        text-align: right;\n",
              "    }\n",
              "</style>\n",
              "<table border=\"1\" class=\"dataframe\">\n",
              "  <thead>\n",
              "    <tr style=\"text-align: right;\">\n",
              "      <th></th>\n",
              "      <th>host_identity_verified</th>\n",
              "    </tr>\n",
              "  </thead>\n",
              "  <tbody>\n",
              "    <tr>\n",
              "      <th>0</th>\n",
              "      <td>yes</td>\n",
              "    </tr>\n",
              "    <tr>\n",
              "      <th>1</th>\n",
              "      <td>yes</td>\n",
              "    </tr>\n",
              "    <tr>\n",
              "      <th>2</th>\n",
              "      <td>yes</td>\n",
              "    </tr>\n",
              "    <tr>\n",
              "      <th>3</th>\n",
              "      <td>yes</td>\n",
              "    </tr>\n",
              "    <tr>\n",
              "      <th>4</th>\n",
              "      <td>yes</td>\n",
              "    </tr>\n",
              "    <tr>\n",
              "      <th>5</th>\n",
              "      <td>yes</td>\n",
              "    </tr>\n",
              "    <tr>\n",
              "      <th>6</th>\n",
              "      <td>yes</td>\n",
              "    </tr>\n",
              "    <tr>\n",
              "      <th>7</th>\n",
              "      <td>yes</td>\n",
              "    </tr>\n",
              "    <tr>\n",
              "      <th>8</th>\n",
              "      <td>no</td>\n",
              "    </tr>\n",
              "    <tr>\n",
              "      <th>9</th>\n",
              "      <td>yes</td>\n",
              "    </tr>\n",
              "    <tr>\n",
              "      <th>10</th>\n",
              "      <td>no</td>\n",
              "    </tr>\n",
              "    <tr>\n",
              "      <th>11</th>\n",
              "      <td>yes</td>\n",
              "    </tr>\n",
              "    <tr>\n",
              "      <th>12</th>\n",
              "      <td>yes</td>\n",
              "    </tr>\n",
              "    <tr>\n",
              "      <th>13</th>\n",
              "      <td>yes</td>\n",
              "    </tr>\n",
              "    <tr>\n",
              "      <th>14</th>\n",
              "      <td>yes</td>\n",
              "    </tr>\n",
              "    <tr>\n",
              "      <th>15</th>\n",
              "      <td>yes</td>\n",
              "    </tr>\n",
              "    <tr>\n",
              "      <th>16</th>\n",
              "      <td>no</td>\n",
              "    </tr>\n",
              "    <tr>\n",
              "      <th>17</th>\n",
              "      <td>no</td>\n",
              "    </tr>\n",
              "    <tr>\n",
              "      <th>18</th>\n",
              "      <td>no</td>\n",
              "    </tr>\n",
              "    <tr>\n",
              "      <th>19</th>\n",
              "      <td>yes</td>\n",
              "    </tr>\n",
              "    <tr>\n",
              "      <th>20</th>\n",
              "      <td>yes</td>\n",
              "    </tr>\n",
              "    <tr>\n",
              "      <th>21</th>\n",
              "      <td>no</td>\n",
              "    </tr>\n",
              "    <tr>\n",
              "      <th>22</th>\n",
              "      <td>no</td>\n",
              "    </tr>\n",
              "    <tr>\n",
              "      <th>23</th>\n",
              "      <td>no</td>\n",
              "    </tr>\n",
              "    <tr>\n",
              "      <th>24</th>\n",
              "      <td>no</td>\n",
              "    </tr>\n",
              "    <tr>\n",
              "      <th>25</th>\n",
              "      <td>no</td>\n",
              "    </tr>\n",
              "    <tr>\n",
              "      <th>26</th>\n",
              "      <td>no</td>\n",
              "    </tr>\n",
              "    <tr>\n",
              "      <th>27</th>\n",
              "      <td>yes</td>\n",
              "    </tr>\n",
              "    <tr>\n",
              "      <th>28</th>\n",
              "      <td>yes</td>\n",
              "    </tr>\n",
              "    <tr>\n",
              "      <th>29</th>\n",
              "      <td>no</td>\n",
              "    </tr>\n",
              "  </tbody>\n",
              "</table>\n",
              "</div><br><label><b>dtype:</b> object</label>"
            ]
          },
          "metadata": {},
          "execution_count": 16
        }
      ]
    },
    {
      "cell_type": "markdown",
      "source": [
        "MODELO 1 host_is_superhost"
      ],
      "metadata": {
        "id": "1S7AruoCysAu"
      }
    },
    {
      "cell_type": "code",
      "source": [
        "#Declarar las variables independientes y la dependiente\n",
        "Vars_Indep=df[[\"price\", \"reviews_per_month\", \"bedrooms\"]]\n",
        "Var_Dep=df[\"host_is_superhost\"]\n",
        "X=Vars_Indep\n",
        "y=Var_Dep\n",
        "\n",
        "#Dividimos el conjunto de datos\n",
        "X_train, X_test, y_train, y_test = train_test_split(X,y, test_size=0.30, random_state=None)\n",
        "\n",
        "#Se escalan los datos\n",
        "escalar=StandardScaler()\n",
        "X_train=escalar.fit_transform(X_train)\n",
        "X_test=escalar.fit_transform(X_test)\n",
        "\n",
        "#definimos el algoritmo a utilizar\n",
        "from sklearn.linear_model import LogisticRegression\n",
        "algoritmo=LogisticRegression()\n",
        "\n",
        "#Entrenar el modelo\n",
        "algoritmo.fit(X_train, y_train)\n",
        "\n",
        "y_pred=algoritmo.predict(X_test)\n",
        "from sklearn.metrics import confusion_matrix\n",
        "matriz=confusion_matrix(y_test, y_pred)\n",
        "print(\"Matriz de confusión\")\n",
        "print(matriz)"
      ],
      "metadata": {
        "id": "8reg5_cM2s2s",
        "colab": {
          "base_uri": "https://localhost:8080/"
        },
        "collapsed": true,
        "outputId": "08b179f8-edb3-401c-acd1-0a4b403596d5"
      },
      "execution_count": null,
      "outputs": [
        {
          "output_type": "stream",
          "name": "stdout",
          "text": [
            "Matriz de confusión\n",
            "[[6085   83]\n",
            " [1845   65]]\n"
          ]
        }
      ]
    },
    {
      "cell_type": "code",
      "source": [
        "#calcular precision del modelo\n",
        "from sklearn.metrics import precision_score\n",
        "precision=precision_score(y_test, y_pred, average=\"binary\", pos_label=\"yes\")\n",
        "print(\"precision del modelo:\")\n",
        "print(precision)"
      ],
      "metadata": {
        "colab": {
          "base_uri": "https://localhost:8080/"
        },
        "id": "Rn69eJFt8tcN",
        "outputId": "bd1e0456-176f-4e9b-80ee-85c3fc60283b",
        "collapsed": true
      },
      "execution_count": null,
      "outputs": [
        {
          "output_type": "stream",
          "name": "stdout",
          "text": [
            "precision del modelo:\n",
            "0.4391891891891892\n"
          ]
        }
      ]
    },
    {
      "cell_type": "code",
      "source": [
        "#calcular exactitud\n",
        "from sklearn.metrics import accuracy_score\n",
        "exactitud=accuracy_score(y_test, y_pred)\n",
        "print(\"exactitud del modelo\")\n",
        "print(exactitud)"
      ],
      "metadata": {
        "colab": {
          "base_uri": "https://localhost:8080/"
        },
        "collapsed": true,
        "id": "eJu4q6rr-VPG",
        "outputId": "8f105dd3-6625-4e13-eb83-497ef4a0fe5e"
      },
      "execution_count": null,
      "outputs": [
        {
          "output_type": "stream",
          "name": "stdout",
          "text": [
            "exactitud del modelo\n",
            "0.7613270611537509\n"
          ]
        }
      ]
    },
    {
      "cell_type": "code",
      "source": [
        "#calcular la sensibilidad\n",
        "from sklearn.metrics import recall_score\n",
        "\n",
        "sensibilidad=recall_score(y_test, y_pred, average=\"binary\", pos_label=\"yes\")\n",
        "print(\"sensibilidad del modelo\")\n",
        "print(sensibilidad)"
      ],
      "metadata": {
        "colab": {
          "base_uri": "https://localhost:8080/"
        },
        "id": "Jg8egLC3-t65",
        "outputId": "dc520e14-9a93-4eab-f8ca-48322476da52"
      },
      "execution_count": null,
      "outputs": [
        {
          "output_type": "stream",
          "name": "stdout",
          "text": [
            "sensibilidad del modelo\n",
            "0.034031413612565446\n"
          ]
        }
      ]
    },
    {
      "cell_type": "markdown",
      "source": [
        "MODELO 2 host_has_profile_pic"
      ],
      "metadata": {
        "id": "vO6ma-4fz1ua"
      }
    },
    {
      "cell_type": "code",
      "source": [
        "#Declarar las variables independientes y la dependiente\n",
        "Vars_Indep=df[[\"price\", \"reviews_per_month\", \"bedrooms\"]]\n",
        "Var_Dep=df[\"host_has_profile_pic\"]\n",
        "X=Vars_Indep\n",
        "y=Var_Dep\n",
        "\n",
        "#Dividimos el conjunto de datos\n",
        "X_train, X_test, y_train, y_test = train_test_split(X,y, test_size=0.30, random_state=None)\n",
        "\n",
        "#Se escalan los datos\n",
        "escalar=StandardScaler()\n",
        "X_train=escalar.fit_transform(X_train)\n",
        "X_test=escalar.fit_transform(X_test)\n",
        "\n",
        "#definimos el algoritmo a utilizar\n",
        "from sklearn.linear_model import LogisticRegression\n",
        "algoritmo=LogisticRegression()\n",
        "\n",
        "#Entrenar el modelo\n",
        "algoritmo.fit(X_train, y_train)\n",
        "\n",
        "y_pred=algoritmo.predict(X_test)\n",
        "from sklearn.metrics import confusion_matrix\n",
        "matriz=confusion_matrix(y_test, y_pred)\n",
        "print(\"Matriz de confusión\")\n",
        "print(matriz)"
      ],
      "metadata": {
        "colab": {
          "base_uri": "https://localhost:8080/"
        },
        "id": "w6MEO-Adz0Zf",
        "outputId": "33373214-a969-41e0-ac45-b7355fd3fd4f"
      },
      "execution_count": null,
      "outputs": [
        {
          "output_type": "stream",
          "name": "stdout",
          "text": [
            "Matriz de confusión\n",
            "[[   0  224]\n",
            " [   0 7854]]\n"
          ]
        }
      ]
    },
    {
      "cell_type": "code",
      "source": [
        "#calcular precision del modelo\n",
        "from sklearn.metrics import precision_score\n",
        "precision=precision_score(y_test, y_pred, average=\"binary\", pos_label=\"yes\")\n",
        "print(\"precision del modelo:\")\n",
        "print(precision)"
      ],
      "metadata": {
        "colab": {
          "base_uri": "https://localhost:8080/"
        },
        "id": "oKclgS5N3Y9z",
        "outputId": "a47106eb-9650-4403-998f-35fb42e73769",
        "collapsed": true
      },
      "execution_count": null,
      "outputs": [
        {
          "output_type": "stream",
          "name": "stdout",
          "text": [
            "precision del modelo:\n",
            "0.9722703639514731\n"
          ]
        }
      ]
    },
    {
      "cell_type": "code",
      "source": [
        "#calcular exactitud\n",
        "from sklearn.metrics import accuracy_score\n",
        "exactitud=accuracy_score(y_test, y_pred)\n",
        "print(\"exactitud del modelo\")\n",
        "print(exactitud)"
      ],
      "metadata": {
        "colab": {
          "base_uri": "https://localhost:8080/"
        },
        "id": "5Jnc4yDh3eVV",
        "outputId": "36661c24-ecb8-417e-8313-a46714ab4cad"
      },
      "execution_count": null,
      "outputs": [
        {
          "output_type": "stream",
          "name": "stdout",
          "text": [
            "exactitud del modelo\n",
            "0.9722703639514731\n"
          ]
        }
      ]
    },
    {
      "cell_type": "code",
      "source": [
        "#calcular la sensibilidad\n",
        "from sklearn.metrics import recall_score\n",
        "\n",
        "sensibilidad=recall_score(y_test, y_pred, average=\"binary\", pos_label=\"yes\")\n",
        "print(\"sensibilidad del modelo\")\n",
        "print(sensibilidad)"
      ],
      "metadata": {
        "colab": {
          "base_uri": "https://localhost:8080/"
        },
        "id": "qrLsN1jS3ks6",
        "outputId": "a8c41e0c-0099-4f20-8464-1d8bdbab53d2",
        "collapsed": true
      },
      "execution_count": null,
      "outputs": [
        {
          "output_type": "stream",
          "name": "stdout",
          "text": [
            "sensibilidad del modelo\n",
            "1.0\n"
          ]
        }
      ]
    },
    {
      "cell_type": "markdown",
      "source": [
        "MODELO 3 host_identity_verified"
      ],
      "metadata": {
        "id": "VUC7hmKL39U2"
      }
    },
    {
      "cell_type": "code",
      "source": [
        "#Declarar las variables independientes y la dependiente\n",
        "Vars_Indep=df[[\"price\", \"reviews_per_month\", \"bedrooms\"]]\n",
        "Var_Dep=df[\"host_identity_verified\"]\n",
        "X=Vars_Indep\n",
        "y=Var_Dep\n",
        "\n",
        "#Dividimos el conjunto de datos\n",
        "X_train, X_test, y_train, y_test = train_test_split(X,y, test_size=0.30, random_state=None)\n",
        "\n",
        "#Se escalan los datos\n",
        "escalar=StandardScaler()\n",
        "X_train=escalar.fit_transform(X_train)\n",
        "X_test=escalar.fit_transform(X_test)\n",
        "\n",
        "#definimos el algoritmo a utilizar\n",
        "from sklearn.linear_model import LogisticRegression\n",
        "algoritmo=LogisticRegression()\n",
        "\n",
        "#Entrenar el modelo\n",
        "algoritmo.fit(X_train, y_train)\n",
        "\n",
        "y_pred=algoritmo.predict(X_test)\n",
        "from sklearn.metrics import confusion_matrix\n",
        "matriz=confusion_matrix(y_test, y_pred)\n",
        "print(\"Matriz de confusión\")\n",
        "print(matriz)"
      ],
      "metadata": {
        "id": "vrDGjW084EV-",
        "colab": {
          "base_uri": "https://localhost:8080/"
        },
        "outputId": "a349994d-043e-4104-94dc-27ed36bdf211"
      },
      "execution_count": null,
      "outputs": [
        {
          "output_type": "stream",
          "name": "stdout",
          "text": [
            "Matriz de confusión\n",
            "[[   0  666]\n",
            " [   0 7412]]\n"
          ]
        }
      ]
    },
    {
      "cell_type": "code",
      "source": [
        "#calcular precision del modelo\n",
        "from sklearn.metrics import precision_score\n",
        "precision=precision_score(y_test, y_pred, average=\"binary\", pos_label=\"yes\")\n",
        "print(\"precision del modelo:\")\n",
        "print(precision)"
      ],
      "metadata": {
        "id": "OGRt67FhSyDd"
      },
      "execution_count": null,
      "outputs": []
    },
    {
      "cell_type": "code",
      "source": [
        "#calcular exactitud\n",
        "from sklearn.metrics import accuracy_score\n",
        "exactitud=accuracy_score(y_test, y_pred)\n",
        "print(\"exactitud del modelo\")\n",
        "print(exactitud)"
      ],
      "metadata": {
        "id": "Bt2K67-PS1Dk"
      },
      "execution_count": null,
      "outputs": []
    },
    {
      "cell_type": "code",
      "source": [
        "#calcular la sensibilidad\n",
        "from sklearn.metrics import recall_score\n",
        "\n",
        "sensibilidad=recall_score(y_test, y_pred, average=\"binary\", pos_label=\"yes\")\n",
        "print(\"sensibilidad del modelo\")\n",
        "print(sensibilidad)"
      ],
      "metadata": {
        "id": "Jsdc6jynS27i"
      },
      "execution_count": null,
      "outputs": []
    },
    {
      "cell_type": "markdown",
      "source": [
        "MODELO has_availability"
      ],
      "metadata": {
        "id": "ra5fspUrS45Y"
      }
    },
    {
      "cell_type": "code",
      "source": [
        "#Declarar las variables independientes y la dependiente\n",
        "Vars_Indep=df[[\"price\", \"reviews_per_month\", \"bedrooms\"]]\n",
        "Var_Dep=df[\"has_availability\"]\n",
        "X=Vars_Indep\n",
        "y=Var_Dep\n",
        "\n",
        "#Dividimos el conjunto de datos\n",
        "X_train, X_test, y_train, y_test = train_test_split(X,y, test_size=0.30, random_state=None)\n",
        "\n",
        "#Se escalan los datos\n",
        "escalar=StandardScaler()\n",
        "X_train=escalar.fit_transform(X_train)\n",
        "X_test=escalar.fit_transform(X_test)\n",
        "\n",
        "#definimos el algoritmo a utilizar\n",
        "from sklearn.linear_model import LogisticRegression\n",
        "algoritmo=LogisticRegression()\n",
        "\n",
        "#Entrenar el modelo\n",
        "algoritmo.fit(X_train, y_train)\n",
        "\n",
        "y_pred=algoritmo.predict(X_test)\n",
        "from sklearn.metrics import confusion_matrix\n",
        "matriz=confusion_matrix(y_test, y_pred)\n",
        "print(\"Matriz de confusión\")\n",
        "print(matriz)"
      ],
      "metadata": {
        "colab": {
          "base_uri": "https://localhost:8080/"
        },
        "id": "EjhNkwukS-Mo",
        "outputId": "2909e542-1d64-499d-a9be-69858ad2f3a4"
      },
      "execution_count": null,
      "outputs": [
        {
          "output_type": "stream",
          "name": "stdout",
          "text": [
            "Matriz de confusión\n",
            "[[   0   27]\n",
            " [   0 8051]]\n"
          ]
        }
      ]
    },
    {
      "cell_type": "code",
      "source": [
        "#calcular precision del modelo\n",
        "from sklearn.metrics import precision_score\n",
        "precision=precision_score(y_test, y_pred, average=\"binary\", pos_label=\"yes\")\n",
        "print(\"precision del modelo:\")\n",
        "print(precision)"
      ],
      "metadata": {
        "colab": {
          "base_uri": "https://localhost:8080/"
        },
        "collapsed": true,
        "id": "PV6jnKz4TE0H",
        "outputId": "14a232f7-a4ec-4e4c-9639-3a5f2cf166e6"
      },
      "execution_count": null,
      "outputs": [
        {
          "output_type": "stream",
          "name": "stdout",
          "text": [
            "precision del modelo:\n",
            "0.9966575885120079\n"
          ]
        }
      ]
    },
    {
      "cell_type": "code",
      "source": [
        "#calcular exactitud\n",
        "from sklearn.metrics import accuracy_score\n",
        "exactitud=accuracy_score(y_test, y_pred)\n",
        "print(\"exactitud del modelo\")\n",
        "print(exactitud)"
      ],
      "metadata": {
        "id": "s9t3Kmm8THgO"
      },
      "execution_count": null,
      "outputs": []
    },
    {
      "cell_type": "code",
      "source": [
        "#calcular la sensibilidad\n",
        "from sklearn.metrics import recall_score\n",
        "\n",
        "sensibilidad=recall_score(y_test, y_pred, average=\"binary\", pos_label=\"yes\")\n",
        "print(\"sensibilidad del modelo\")\n",
        "print(sensibilidad)"
      ],
      "metadata": {
        "id": "g4iDBrLzTKDy"
      },
      "execution_count": null,
      "outputs": []
    },
    {
      "cell_type": "markdown",
      "source": [
        "------------------------------"
      ],
      "metadata": {
        "id": "A9Ue8HkLnD_R"
      }
    },
    {
      "cell_type": "markdown",
      "source": [
        "---------------"
      ],
      "metadata": {
        "id": "KBgizJHBnHnm"
      }
    },
    {
      "cell_type": "markdown",
      "source": [
        "---------------"
      ],
      "metadata": {
        "id": "k7gbarRgnIrH"
      }
    },
    {
      "cell_type": "markdown",
      "source": [
        "Creación de categorías a partir de clases"
      ],
      "metadata": {
        "id": "u-TVVll3Abdl"
      }
    },
    {
      "cell_type": "markdown",
      "source": [
        "host_acceptance_rate"
      ],
      "metadata": {
        "id": "5zLF1z5qdJ4e"
      }
    },
    {
      "cell_type": "code",
      "source": [
        "Max=df[\"host_acceptance_rate\"].max()\n",
        "Min=df[\"host_acceptance_rate\"].min()\n",
        "Limites=[Min, Max]\n",
        "Limites\n"
      ],
      "metadata": {
        "colab": {
          "base_uri": "https://localhost:8080/"
        },
        "id": "6EXQ8veZAaSO",
        "outputId": "afbcec80-866a-4483-946d-20661f673081",
        "collapsed": true
      },
      "execution_count": 5,
      "outputs": [
        {
          "output_type": "execute_result",
          "data": {
            "text/plain": [
              "[0.0, 1.0]"
            ]
          },
          "metadata": {},
          "execution_count": 5
        }
      ]
    },
    {
      "cell_type": "code",
      "source": [
        "#categorizar las variables\n",
        "#declarar dos intervalos\n",
        "\n",
        "intervalos=np.linspace(-0.1,1.1,3)\n",
        "intervalos\n",
        "\n",
        "#Crear las categorías\n",
        "categorias=[\"Aceptacion baja\", \"Aceptacion alta\"]\n",
        "\n",
        "df[\"host_acceptance_rate\"]=pd.cut(x=df[\"host_acceptance_rate\"], bins=intervalos, labels=categorias)\n",
        "\n",
        "df[\"host_acceptance_rate\"]"
      ],
      "metadata": {
        "colab": {
          "base_uri": "https://localhost:8080/",
          "height": 458
        },
        "collapsed": true,
        "id": "57Q-ojdugO5F",
        "outputId": "cc1505b9-0639-4abc-da2a-38f9399aa355"
      },
      "execution_count": 6,
      "outputs": [
        {
          "output_type": "execute_result",
          "data": {
            "text/plain": [
              "0        Aceptacion alta\n",
              "1        Aceptacion alta\n",
              "2        Aceptacion alta\n",
              "3        Aceptacion baja\n",
              "4        Aceptacion alta\n",
              "              ...       \n",
              "26920    Aceptacion baja\n",
              "26921    Aceptacion alta\n",
              "26922    Aceptacion alta\n",
              "26923    Aceptacion alta\n",
              "26924    Aceptacion alta\n",
              "Name: host_acceptance_rate, Length: 26925, dtype: category\n",
              "Categories (2, object): ['Aceptacion baja' < 'Aceptacion alta']"
            ],
            "text/html": [
              "<div>\n",
              "<style scoped>\n",
              "    .dataframe tbody tr th:only-of-type {\n",
              "        vertical-align: middle;\n",
              "    }\n",
              "\n",
              "    .dataframe tbody tr th {\n",
              "        vertical-align: top;\n",
              "    }\n",
              "\n",
              "    .dataframe thead th {\n",
              "        text-align: right;\n",
              "    }\n",
              "</style>\n",
              "<table border=\"1\" class=\"dataframe\">\n",
              "  <thead>\n",
              "    <tr style=\"text-align: right;\">\n",
              "      <th></th>\n",
              "      <th>host_acceptance_rate</th>\n",
              "    </tr>\n",
              "  </thead>\n",
              "  <tbody>\n",
              "    <tr>\n",
              "      <th>0</th>\n",
              "      <td>Aceptacion alta</td>\n",
              "    </tr>\n",
              "    <tr>\n",
              "      <th>1</th>\n",
              "      <td>Aceptacion alta</td>\n",
              "    </tr>\n",
              "    <tr>\n",
              "      <th>2</th>\n",
              "      <td>Aceptacion alta</td>\n",
              "    </tr>\n",
              "    <tr>\n",
              "      <th>3</th>\n",
              "      <td>Aceptacion baja</td>\n",
              "    </tr>\n",
              "    <tr>\n",
              "      <th>4</th>\n",
              "      <td>Aceptacion alta</td>\n",
              "    </tr>\n",
              "    <tr>\n",
              "      <th>...</th>\n",
              "      <td>...</td>\n",
              "    </tr>\n",
              "    <tr>\n",
              "      <th>26920</th>\n",
              "      <td>Aceptacion baja</td>\n",
              "    </tr>\n",
              "    <tr>\n",
              "      <th>26921</th>\n",
              "      <td>Aceptacion alta</td>\n",
              "    </tr>\n",
              "    <tr>\n",
              "      <th>26922</th>\n",
              "      <td>Aceptacion alta</td>\n",
              "    </tr>\n",
              "    <tr>\n",
              "      <th>26923</th>\n",
              "      <td>Aceptacion alta</td>\n",
              "    </tr>\n",
              "    <tr>\n",
              "      <th>26924</th>\n",
              "      <td>Aceptacion alta</td>\n",
              "    </tr>\n",
              "  </tbody>\n",
              "</table>\n",
              "<p>26925 rows × 1 columns</p>\n",
              "</div><br><label><b>dtype:</b> category</label>"
            ]
          },
          "metadata": {},
          "execution_count": 6
        }
      ]
    },
    {
      "cell_type": "markdown",
      "source": [
        "host_response_rate"
      ],
      "metadata": {
        "id": "Ll4gb_ZQf4nZ"
      }
    },
    {
      "cell_type": "code",
      "source": [
        "Max=df[\"host_response_rate\"].max()\n",
        "Min=df[\"host_response_rate\"].min()\n",
        "Limites=[Min, Max]\n",
        "Limites\n",
        "\n"
      ],
      "metadata": {
        "colab": {
          "base_uri": "https://localhost:8080/"
        },
        "collapsed": true,
        "id": "57Zcdb_Gfz-Z",
        "outputId": "a7521562-a606-4387-ec8d-d86fb58a6ebd"
      },
      "execution_count": 7,
      "outputs": [
        {
          "output_type": "execute_result",
          "data": {
            "text/plain": [
              "[0.0, 1.0]"
            ]
          },
          "metadata": {},
          "execution_count": 7
        }
      ]
    },
    {
      "cell_type": "code",
      "source": [
        "#categorizar las variables\n",
        "#declarar dos intervalos\n",
        "\n",
        "intervalos=np.linspace(-0.1, 1.1,3)\n",
        "intervalos\n",
        "\n",
        "#Crear las categorías\n",
        "categorias=[\"Respuesta baja\", \"Respuesta alta\"]\n",
        "\n",
        "df[\"host_response_rate\"]=pd.cut(x=df[\"host_response_rate\"], bins=intervalos, labels=categorias)\n",
        "\n",
        "df[\"host_response_rate\"]"
      ],
      "metadata": {
        "colab": {
          "base_uri": "https://localhost:8080/",
          "height": 458
        },
        "collapsed": true,
        "id": "FE7_EXTOgUVA",
        "outputId": "abd6b59b-03e8-4c67-b3a1-30fb1ce726f5"
      },
      "execution_count": 8,
      "outputs": [
        {
          "output_type": "execute_result",
          "data": {
            "text/plain": [
              "0        Respuesta alta\n",
              "1        Respuesta baja\n",
              "2        Respuesta alta\n",
              "3        Respuesta alta\n",
              "4        Respuesta alta\n",
              "              ...      \n",
              "26920    Respuesta alta\n",
              "26921    Respuesta alta\n",
              "26922    Respuesta alta\n",
              "26923    Respuesta alta\n",
              "26924    Respuesta alta\n",
              "Name: host_response_rate, Length: 26925, dtype: category\n",
              "Categories (2, object): ['Respuesta baja' < 'Respuesta alta']"
            ],
            "text/html": [
              "<div>\n",
              "<style scoped>\n",
              "    .dataframe tbody tr th:only-of-type {\n",
              "        vertical-align: middle;\n",
              "    }\n",
              "\n",
              "    .dataframe tbody tr th {\n",
              "        vertical-align: top;\n",
              "    }\n",
              "\n",
              "    .dataframe thead th {\n",
              "        text-align: right;\n",
              "    }\n",
              "</style>\n",
              "<table border=\"1\" class=\"dataframe\">\n",
              "  <thead>\n",
              "    <tr style=\"text-align: right;\">\n",
              "      <th></th>\n",
              "      <th>host_response_rate</th>\n",
              "    </tr>\n",
              "  </thead>\n",
              "  <tbody>\n",
              "    <tr>\n",
              "      <th>0</th>\n",
              "      <td>Respuesta alta</td>\n",
              "    </tr>\n",
              "    <tr>\n",
              "      <th>1</th>\n",
              "      <td>Respuesta baja</td>\n",
              "    </tr>\n",
              "    <tr>\n",
              "      <th>2</th>\n",
              "      <td>Respuesta alta</td>\n",
              "    </tr>\n",
              "    <tr>\n",
              "      <th>3</th>\n",
              "      <td>Respuesta alta</td>\n",
              "    </tr>\n",
              "    <tr>\n",
              "      <th>4</th>\n",
              "      <td>Respuesta alta</td>\n",
              "    </tr>\n",
              "    <tr>\n",
              "      <th>...</th>\n",
              "      <td>...</td>\n",
              "    </tr>\n",
              "    <tr>\n",
              "      <th>26920</th>\n",
              "      <td>Respuesta alta</td>\n",
              "    </tr>\n",
              "    <tr>\n",
              "      <th>26921</th>\n",
              "      <td>Respuesta alta</td>\n",
              "    </tr>\n",
              "    <tr>\n",
              "      <th>26922</th>\n",
              "      <td>Respuesta alta</td>\n",
              "    </tr>\n",
              "    <tr>\n",
              "      <th>26923</th>\n",
              "      <td>Respuesta alta</td>\n",
              "    </tr>\n",
              "    <tr>\n",
              "      <th>26924</th>\n",
              "      <td>Respuesta alta</td>\n",
              "    </tr>\n",
              "  </tbody>\n",
              "</table>\n",
              "<p>26925 rows × 1 columns</p>\n",
              "</div><br><label><b>dtype:</b> category</label>"
            ]
          },
          "metadata": {},
          "execution_count": 8
        }
      ]
    },
    {
      "cell_type": "markdown",
      "source": [
        "host_total_listings_count"
      ],
      "metadata": {
        "id": "V2U6_GUlgoNr"
      }
    },
    {
      "cell_type": "code",
      "source": [
        "Max=df[\"host_total_listings_count\"].max()\n",
        "Min=df[\"host_total_listings_count\"].min()\n",
        "Limites=[Min, Max]\n",
        "Limites"
      ],
      "metadata": {
        "colab": {
          "base_uri": "https://localhost:8080/"
        },
        "collapsed": true,
        "id": "Ox1376jYg7Kt",
        "outputId": "22750efa-c2b0-42d9-9803-0b0edc09616c"
      },
      "execution_count": 9,
      "outputs": [
        {
          "output_type": "execute_result",
          "data": {
            "text/plain": [
              "[1.0, 468.0]"
            ]
          },
          "metadata": {},
          "execution_count": 9
        }
      ]
    },
    {
      "cell_type": "code",
      "source": [
        "\n",
        "#categorizar las variables\n",
        "#declarar dos intervalos\n",
        "\n",
        "intervalos=np.linspace(0.9, 468.1,3)\n",
        "intervalos\n",
        "\n",
        "#Crear las categorías\n",
        "categorias=[\"Aceptacion baja\", \"Aceptacion alta\"]\n",
        "\n",
        "df[\"host_total_listings_count\"]=pd.cut(x=df[\"host_total_listings_count\"], bins=intervalos, labels=categorias)\n",
        "\n",
        "df[\"host_total_listings_count\"]"
      ],
      "metadata": {
        "collapsed": true,
        "colab": {
          "base_uri": "https://localhost:8080/",
          "height": 458
        },
        "id": "elQ9lxGOgZGy",
        "outputId": "7c09c6b3-e09c-4cd4-dcde-534753f3f550"
      },
      "execution_count": 10,
      "outputs": [
        {
          "output_type": "execute_result",
          "data": {
            "text/plain": [
              "0        Aceptacion baja\n",
              "1        Aceptacion baja\n",
              "2        Aceptacion baja\n",
              "3        Aceptacion baja\n",
              "4        Aceptacion baja\n",
              "              ...       \n",
              "26920    Aceptacion baja\n",
              "26921    Aceptacion baja\n",
              "26922    Aceptacion baja\n",
              "26923    Aceptacion baja\n",
              "26924    Aceptacion baja\n",
              "Name: host_total_listings_count, Length: 26925, dtype: category\n",
              "Categories (2, object): ['Aceptacion baja' < 'Aceptacion alta']"
            ],
            "text/html": [
              "<div>\n",
              "<style scoped>\n",
              "    .dataframe tbody tr th:only-of-type {\n",
              "        vertical-align: middle;\n",
              "    }\n",
              "\n",
              "    .dataframe tbody tr th {\n",
              "        vertical-align: top;\n",
              "    }\n",
              "\n",
              "    .dataframe thead th {\n",
              "        text-align: right;\n",
              "    }\n",
              "</style>\n",
              "<table border=\"1\" class=\"dataframe\">\n",
              "  <thead>\n",
              "    <tr style=\"text-align: right;\">\n",
              "      <th></th>\n",
              "      <th>host_total_listings_count</th>\n",
              "    </tr>\n",
              "  </thead>\n",
              "  <tbody>\n",
              "    <tr>\n",
              "      <th>0</th>\n",
              "      <td>Aceptacion baja</td>\n",
              "    </tr>\n",
              "    <tr>\n",
              "      <th>1</th>\n",
              "      <td>Aceptacion baja</td>\n",
              "    </tr>\n",
              "    <tr>\n",
              "      <th>2</th>\n",
              "      <td>Aceptacion baja</td>\n",
              "    </tr>\n",
              "    <tr>\n",
              "      <th>3</th>\n",
              "      <td>Aceptacion baja</td>\n",
              "    </tr>\n",
              "    <tr>\n",
              "      <th>4</th>\n",
              "      <td>Aceptacion baja</td>\n",
              "    </tr>\n",
              "    <tr>\n",
              "      <th>...</th>\n",
              "      <td>...</td>\n",
              "    </tr>\n",
              "    <tr>\n",
              "      <th>26920</th>\n",
              "      <td>Aceptacion baja</td>\n",
              "    </tr>\n",
              "    <tr>\n",
              "      <th>26921</th>\n",
              "      <td>Aceptacion baja</td>\n",
              "    </tr>\n",
              "    <tr>\n",
              "      <th>26922</th>\n",
              "      <td>Aceptacion baja</td>\n",
              "    </tr>\n",
              "    <tr>\n",
              "      <th>26923</th>\n",
              "      <td>Aceptacion baja</td>\n",
              "    </tr>\n",
              "    <tr>\n",
              "      <th>26924</th>\n",
              "      <td>Aceptacion baja</td>\n",
              "    </tr>\n",
              "  </tbody>\n",
              "</table>\n",
              "<p>26925 rows × 1 columns</p>\n",
              "</div><br><label><b>dtype:</b> category</label>"
            ]
          },
          "metadata": {},
          "execution_count": 10
        }
      ]
    },
    {
      "cell_type": "markdown",
      "source": [
        "number_of_reviews"
      ],
      "metadata": {
        "id": "Yk3Wddz4hOkf"
      }
    },
    {
      "cell_type": "code",
      "source": [
        "Max=df[\"number_of_reviews\"].max()\n",
        "Min=df[\"number_of_reviews\"].min()\n",
        "Limites=[Min, Max]\n",
        "Limites"
      ],
      "metadata": {
        "colab": {
          "base_uri": "https://localhost:8080/"
        },
        "collapsed": true,
        "id": "_wCXh6JLhNiL",
        "outputId": "4b8ebf8e-05b9-415c-e7dc-23f31f0d24e4"
      },
      "execution_count": 11,
      "outputs": [
        {
          "output_type": "execute_result",
          "data": {
            "text/plain": [
              "[0.0, 294.0]"
            ]
          },
          "metadata": {},
          "execution_count": 11
        }
      ]
    },
    {
      "cell_type": "code",
      "source": [
        "\n",
        "#categorizar las variables\n",
        "#declarar dos intervalos\n",
        "\n",
        "intervalos=np.linspace(-0.1, 294.1,3)\n",
        "intervalos\n",
        "\n",
        "#Crear las categorías\n",
        "categorias=[\"Reseñas bajas\", \"Reseñas altas\"]\n",
        "\n",
        "df[\"number_of_reviews\"]=pd.cut(x=df[\"number_of_reviews\"], bins=intervalos, labels=categorias)\n",
        "\n",
        "df[\"number_of_reviews\"]"
      ],
      "metadata": {
        "colab": {
          "base_uri": "https://localhost:8080/",
          "height": 458
        },
        "collapsed": true,
        "id": "RWhSoJXfgeFK",
        "outputId": "843d4678-c2c2-4c38-97d1-037d1992d689"
      },
      "execution_count": 12,
      "outputs": [
        {
          "output_type": "execute_result",
          "data": {
            "text/plain": [
              "0        Reseñas bajas\n",
              "1        Reseñas bajas\n",
              "2        Reseñas altas\n",
              "3        Reseñas bajas\n",
              "4        Reseñas bajas\n",
              "             ...      \n",
              "26920    Reseñas bajas\n",
              "26921    Reseñas bajas\n",
              "26922    Reseñas altas\n",
              "26923    Reseñas bajas\n",
              "26924    Reseñas bajas\n",
              "Name: number_of_reviews, Length: 26925, dtype: category\n",
              "Categories (2, object): ['Reseñas bajas' < 'Reseñas altas']"
            ],
            "text/html": [
              "<div>\n",
              "<style scoped>\n",
              "    .dataframe tbody tr th:only-of-type {\n",
              "        vertical-align: middle;\n",
              "    }\n",
              "\n",
              "    .dataframe tbody tr th {\n",
              "        vertical-align: top;\n",
              "    }\n",
              "\n",
              "    .dataframe thead th {\n",
              "        text-align: right;\n",
              "    }\n",
              "</style>\n",
              "<table border=\"1\" class=\"dataframe\">\n",
              "  <thead>\n",
              "    <tr style=\"text-align: right;\">\n",
              "      <th></th>\n",
              "      <th>number_of_reviews</th>\n",
              "    </tr>\n",
              "  </thead>\n",
              "  <tbody>\n",
              "    <tr>\n",
              "      <th>0</th>\n",
              "      <td>Reseñas bajas</td>\n",
              "    </tr>\n",
              "    <tr>\n",
              "      <th>1</th>\n",
              "      <td>Reseñas bajas</td>\n",
              "    </tr>\n",
              "    <tr>\n",
              "      <th>2</th>\n",
              "      <td>Reseñas altas</td>\n",
              "    </tr>\n",
              "    <tr>\n",
              "      <th>3</th>\n",
              "      <td>Reseñas bajas</td>\n",
              "    </tr>\n",
              "    <tr>\n",
              "      <th>4</th>\n",
              "      <td>Reseñas bajas</td>\n",
              "    </tr>\n",
              "    <tr>\n",
              "      <th>...</th>\n",
              "      <td>...</td>\n",
              "    </tr>\n",
              "    <tr>\n",
              "      <th>26920</th>\n",
              "      <td>Reseñas bajas</td>\n",
              "    </tr>\n",
              "    <tr>\n",
              "      <th>26921</th>\n",
              "      <td>Reseñas bajas</td>\n",
              "    </tr>\n",
              "    <tr>\n",
              "      <th>26922</th>\n",
              "      <td>Reseñas altas</td>\n",
              "    </tr>\n",
              "    <tr>\n",
              "      <th>26923</th>\n",
              "      <td>Reseñas bajas</td>\n",
              "    </tr>\n",
              "    <tr>\n",
              "      <th>26924</th>\n",
              "      <td>Reseñas bajas</td>\n",
              "    </tr>\n",
              "  </tbody>\n",
              "</table>\n",
              "<p>26925 rows × 1 columns</p>\n",
              "</div><br><label><b>dtype:</b> category</label>"
            ]
          },
          "metadata": {},
          "execution_count": 12
        }
      ]
    },
    {
      "cell_type": "markdown",
      "source": [
        "latitude"
      ],
      "metadata": {
        "id": "Rch3sXcshiF5"
      }
    },
    {
      "cell_type": "code",
      "source": [
        "Max=df[\"latitude\"].max()\n",
        "Min=df[\"latitude\"].min()\n",
        "Limites=[Min, Max]\n",
        "Limites"
      ],
      "metadata": {
        "colab": {
          "base_uri": "https://localhost:8080/"
        },
        "collapsed": true,
        "id": "MMWhnCB4hgew",
        "outputId": "cc86ccf1-bca6-433f-d436-8e9364bcf943"
      },
      "execution_count": 13,
      "outputs": [
        {
          "output_type": "execute_result",
          "data": {
            "text/plain": [
              "[40.35107, 40.49229]"
            ]
          },
          "metadata": {},
          "execution_count": 13
        }
      ]
    },
    {
      "cell_type": "code",
      "source": [
        "\n",
        "#categorizar las variables\n",
        "#declarar dos intervalos\n",
        "\n",
        "intervalos=np.linspace(40.34, 40.50,3)\n",
        "intervalos\n",
        "\n",
        "#Crear las categorías\n",
        "categorias=[\"Latitud bajas\", \"Latitud altas\"]\n",
        "\n",
        "df[\"latitude\"]=pd.cut(x=df[\"latitude\"], bins=intervalos, labels=categorias)\n",
        "\n",
        "df[\"latitude\"]\n"
      ],
      "metadata": {
        "collapsed": true,
        "colab": {
          "base_uri": "https://localhost:8080/",
          "height": 458
        },
        "id": "X61hcXSbgiIJ",
        "outputId": "675e4d15-425f-4392-a917-9634bdd63cf4"
      },
      "execution_count": 14,
      "outputs": [
        {
          "output_type": "execute_result",
          "data": {
            "text/plain": [
              "0        Latitud bajas\n",
              "1        Latitud bajas\n",
              "2        Latitud bajas\n",
              "3        Latitud bajas\n",
              "4        Latitud altas\n",
              "             ...      \n",
              "26920    Latitud bajas\n",
              "26921    Latitud altas\n",
              "26922    Latitud bajas\n",
              "26923    Latitud bajas\n",
              "26924    Latitud altas\n",
              "Name: latitude, Length: 26925, dtype: category\n",
              "Categories (2, object): ['Latitud bajas' < 'Latitud altas']"
            ],
            "text/html": [
              "<div>\n",
              "<style scoped>\n",
              "    .dataframe tbody tr th:only-of-type {\n",
              "        vertical-align: middle;\n",
              "    }\n",
              "\n",
              "    .dataframe tbody tr th {\n",
              "        vertical-align: top;\n",
              "    }\n",
              "\n",
              "    .dataframe thead th {\n",
              "        text-align: right;\n",
              "    }\n",
              "</style>\n",
              "<table border=\"1\" class=\"dataframe\">\n",
              "  <thead>\n",
              "    <tr style=\"text-align: right;\">\n",
              "      <th></th>\n",
              "      <th>latitude</th>\n",
              "    </tr>\n",
              "  </thead>\n",
              "  <tbody>\n",
              "    <tr>\n",
              "      <th>0</th>\n",
              "      <td>Latitud bajas</td>\n",
              "    </tr>\n",
              "    <tr>\n",
              "      <th>1</th>\n",
              "      <td>Latitud bajas</td>\n",
              "    </tr>\n",
              "    <tr>\n",
              "      <th>2</th>\n",
              "      <td>Latitud bajas</td>\n",
              "    </tr>\n",
              "    <tr>\n",
              "      <th>3</th>\n",
              "      <td>Latitud bajas</td>\n",
              "    </tr>\n",
              "    <tr>\n",
              "      <th>4</th>\n",
              "      <td>Latitud altas</td>\n",
              "    </tr>\n",
              "    <tr>\n",
              "      <th>...</th>\n",
              "      <td>...</td>\n",
              "    </tr>\n",
              "    <tr>\n",
              "      <th>26920</th>\n",
              "      <td>Latitud bajas</td>\n",
              "    </tr>\n",
              "    <tr>\n",
              "      <th>26921</th>\n",
              "      <td>Latitud altas</td>\n",
              "    </tr>\n",
              "    <tr>\n",
              "      <th>26922</th>\n",
              "      <td>Latitud bajas</td>\n",
              "    </tr>\n",
              "    <tr>\n",
              "      <th>26923</th>\n",
              "      <td>Latitud bajas</td>\n",
              "    </tr>\n",
              "    <tr>\n",
              "      <th>26924</th>\n",
              "      <td>Latitud altas</td>\n",
              "    </tr>\n",
              "  </tbody>\n",
              "</table>\n",
              "<p>26925 rows × 1 columns</p>\n",
              "</div><br><label><b>dtype:</b> category</label>"
            ]
          },
          "metadata": {},
          "execution_count": 14
        }
      ]
    },
    {
      "cell_type": "code",
      "source": [
        "df =df.fillna(method=\"bfill\")\n",
        "df =df.fillna(method=\"ffill\")\n",
        "df.isnull().sum()"
      ],
      "metadata": {
        "colab": {
          "base_uri": "https://localhost:8080/",
          "height": 709
        },
        "collapsed": true,
        "id": "mF9l8dfol-TA",
        "outputId": "490cc0c4-dc0d-407d-fc7c-759357d9b464"
      },
      "execution_count": null,
      "outputs": [
        {
          "output_type": "stream",
          "name": "stderr",
          "text": [
            "<ipython-input-123-f51a50de52de>:1: FutureWarning: DataFrame.fillna with 'method' is deprecated and will raise in a future version. Use obj.ffill() or obj.bfill() instead.\n",
            "  df =df.fillna(method=\"bfill\")\n",
            "<ipython-input-123-f51a50de52de>:2: FutureWarning: DataFrame.fillna with 'method' is deprecated and will raise in a future version. Use obj.ffill() or obj.bfill() instead.\n",
            "  df =df.fillna(method=\"ffill\")\n"
          ]
        },
        {
          "output_type": "execute_result",
          "data": {
            "text/plain": [
              "Unnamed: 0                   0\n",
              "host_response_rate           0\n",
              "host_acceptance_rate         0\n",
              "host_total_listings_count    0\n",
              "latitude                     0\n",
              "accommodates                 0\n",
              "bathrooms                    0\n",
              "minimum_nights               0\n",
              "number_of_reviews            0\n",
              "bedrooms                     0\n",
              "reviews_per_month            0\n",
              "price                        0\n",
              "host_is_superhost            0\n",
              "host_has_profile_pic         0\n",
              "host_identity_verified       0\n",
              "has_availability             0\n",
              "instant_bookable             0\n",
              "dtype: int64"
            ],
            "text/html": [
              "<div>\n",
              "<style scoped>\n",
              "    .dataframe tbody tr th:only-of-type {\n",
              "        vertical-align: middle;\n",
              "    }\n",
              "\n",
              "    .dataframe tbody tr th {\n",
              "        vertical-align: top;\n",
              "    }\n",
              "\n",
              "    .dataframe thead th {\n",
              "        text-align: right;\n",
              "    }\n",
              "</style>\n",
              "<table border=\"1\" class=\"dataframe\">\n",
              "  <thead>\n",
              "    <tr style=\"text-align: right;\">\n",
              "      <th></th>\n",
              "      <th>0</th>\n",
              "    </tr>\n",
              "  </thead>\n",
              "  <tbody>\n",
              "    <tr>\n",
              "      <th>Unnamed: 0</th>\n",
              "      <td>0</td>\n",
              "    </tr>\n",
              "    <tr>\n",
              "      <th>host_response_rate</th>\n",
              "      <td>0</td>\n",
              "    </tr>\n",
              "    <tr>\n",
              "      <th>host_acceptance_rate</th>\n",
              "      <td>0</td>\n",
              "    </tr>\n",
              "    <tr>\n",
              "      <th>host_total_listings_count</th>\n",
              "      <td>0</td>\n",
              "    </tr>\n",
              "    <tr>\n",
              "      <th>latitude</th>\n",
              "      <td>0</td>\n",
              "    </tr>\n",
              "    <tr>\n",
              "      <th>accommodates</th>\n",
              "      <td>0</td>\n",
              "    </tr>\n",
              "    <tr>\n",
              "      <th>bathrooms</th>\n",
              "      <td>0</td>\n",
              "    </tr>\n",
              "    <tr>\n",
              "      <th>minimum_nights</th>\n",
              "      <td>0</td>\n",
              "    </tr>\n",
              "    <tr>\n",
              "      <th>number_of_reviews</th>\n",
              "      <td>0</td>\n",
              "    </tr>\n",
              "    <tr>\n",
              "      <th>bedrooms</th>\n",
              "      <td>0</td>\n",
              "    </tr>\n",
              "    <tr>\n",
              "      <th>reviews_per_month</th>\n",
              "      <td>0</td>\n",
              "    </tr>\n",
              "    <tr>\n",
              "      <th>price</th>\n",
              "      <td>0</td>\n",
              "    </tr>\n",
              "    <tr>\n",
              "      <th>host_is_superhost</th>\n",
              "      <td>0</td>\n",
              "    </tr>\n",
              "    <tr>\n",
              "      <th>host_has_profile_pic</th>\n",
              "      <td>0</td>\n",
              "    </tr>\n",
              "    <tr>\n",
              "      <th>host_identity_verified</th>\n",
              "      <td>0</td>\n",
              "    </tr>\n",
              "    <tr>\n",
              "      <th>has_availability</th>\n",
              "      <td>0</td>\n",
              "    </tr>\n",
              "    <tr>\n",
              "      <th>instant_bookable</th>\n",
              "      <td>0</td>\n",
              "    </tr>\n",
              "  </tbody>\n",
              "</table>\n",
              "</div><br><label><b>dtype:</b> int64</label>"
            ]
          },
          "metadata": {},
          "execution_count": 123
        }
      ]
    },
    {
      "cell_type": "markdown",
      "source": [
        "---------------"
      ],
      "metadata": {
        "id": "6ofSX8DQnPQY"
      }
    },
    {
      "cell_type": "markdown",
      "source": [
        "---------------"
      ],
      "metadata": {
        "id": "1WEIUjb5nN-L"
      }
    },
    {
      "cell_type": "markdown",
      "source": [
        "---------------"
      ],
      "metadata": {
        "id": "yUQjPHXdnOZQ"
      }
    },
    {
      "cell_type": "markdown",
      "source": [
        "Regresión logistica"
      ],
      "metadata": {
        "id": "SznD29ePjv4l"
      }
    },
    {
      "cell_type": "markdown",
      "source": [
        "host_acceptance_rate"
      ],
      "metadata": {
        "id": "4a0JAdYVm2Xx"
      }
    },
    {
      "cell_type": "code",
      "source": [
        "#Declarar las variables independientes y la dependiente\n",
        "Vars_Indep=df[[\"price\", \"accommodates\", \"bedrooms\"]]\n",
        "Var_Dep=df[\"host_acceptance_rate\"]\n",
        "X=Vars_Indep\n",
        "y=Var_Dep\n",
        "\n",
        "#Dividimos el conjunto de datos\n",
        "X_train, X_test, y_train, y_test = train_test_split(X,y, test_size=0.30, random_state=None)\n",
        "\n",
        "#Se escalan los datos\n",
        "escalar=StandardScaler()\n",
        "X_train=escalar.fit_transform(X_train)\n",
        "X_test=escalar.fit_transform(X_test)\n",
        "\n",
        "#definimos el algoritmo a utilizar\n",
        "from sklearn.linear_model import LogisticRegression\n",
        "algoritmo=LogisticRegression()\n",
        "\n",
        "#Entrenar el modelo\n",
        "algoritmo.fit(X_train, y_train)\n",
        "\n",
        "y_pred=algoritmo.predict(X_test)\n",
        "from sklearn.metrics import confusion_matrix\n",
        "matriz=confusion_matrix(y_test, y_pred)\n",
        "print(\"Matriz de confusión\")\n",
        "print(matriz)"
      ],
      "metadata": {
        "colab": {
          "base_uri": "https://localhost:8080/"
        },
        "collapsed": true,
        "id": "R9pSmdj3jxoM",
        "outputId": "e8f1d48c-9fd2-4280-80aa-f8bdcfa517ac"
      },
      "execution_count": null,
      "outputs": [
        {
          "output_type": "stream",
          "name": "stdout",
          "text": [
            "Matriz de confusión\n",
            "[[7363    0]\n",
            " [ 715    0]]\n"
          ]
        }
      ]
    },
    {
      "cell_type": "code",
      "source": [
        "#calcular precision del modelo\n",
        "from sklearn.metrics import precision_score\n",
        "precision=precision_score(y_test, y_pred, average=\"binary\", pos_label=\"Aceptacion alta\")\n",
        "print(\"precision del modelo:\")\n",
        "print(precision)"
      ],
      "metadata": {
        "id": "DMVq_kKVnVVM"
      },
      "execution_count": null,
      "outputs": []
    },
    {
      "cell_type": "code",
      "source": [
        "#calcular exactitud\n",
        "from sklearn.metrics import accuracy_score\n",
        "exactitud=accuracy_score(y_test, y_pred)\n",
        "print(\"exactitud del modelo\")\n",
        "print(exactitud)"
      ],
      "metadata": {
        "id": "EmyIHw4NnfdH"
      },
      "execution_count": null,
      "outputs": []
    },
    {
      "cell_type": "code",
      "source": [
        "from sklearn.metrics import recall_score\n",
        "\n",
        "sensibilidad=recall_score(y_test, y_pred, average=\"binary\", pos_label=\"Aceptacion alta\")\n",
        "print(\"sensibilidad del modelo\")\n",
        "print(sensibilidad)"
      ],
      "metadata": {
        "id": "-YQfpjz3novl"
      },
      "execution_count": null,
      "outputs": []
    },
    {
      "cell_type": "markdown",
      "source": [
        "host_response_rate"
      ],
      "metadata": {
        "id": "ML9-DZv2m5uC"
      }
    },
    {
      "cell_type": "code",
      "source": [
        "#Declarar las variables independientes y la dependiente\n",
        "Vars_Indep=df[[\"price\", \"accommodates\", \"bedrooms\"]]\n",
        "Var_Dep=df[\"host_response_rate\"]\n",
        "X=Vars_Indep\n",
        "y=Var_Dep\n",
        "\n",
        "#Dividimos el conjunto de datos\n",
        "X_train, X_test, y_train, y_test = train_test_split(X,y, test_size=0.30, random_state=None)\n",
        "\n",
        "#Se escalan los datos\n",
        "escalar=StandardScaler()\n",
        "X_train=escalar.fit_transform(X_train)\n",
        "X_test=escalar.fit_transform(X_test)\n",
        "\n",
        "#definimos el algoritmo a utilizar\n",
        "from sklearn.linear_model import LogisticRegression\n",
        "algoritmo=LogisticRegression()\n",
        "\n",
        "#Entrenar el modelo\n",
        "algoritmo.fit(X_train, y_train)\n",
        "\n",
        "y_pred=algoritmo.predict(X_test)\n",
        "from sklearn.metrics import confusion_matrix\n",
        "matriz=confusion_matrix(y_test, y_pred)\n",
        "print(\"Matriz de confusión\")\n",
        "print(matriz)"
      ],
      "metadata": {
        "colab": {
          "base_uri": "https://localhost:8080/"
        },
        "collapsed": true,
        "id": "H18dz1HimMyt",
        "outputId": "81eb2f17-16f1-4317-dcb3-c651a5952993"
      },
      "execution_count": null,
      "outputs": [
        {
          "output_type": "stream",
          "name": "stdout",
          "text": [
            "Matriz de confusión\n",
            "[[7812    0]\n",
            " [ 266    0]]\n"
          ]
        }
      ]
    },
    {
      "cell_type": "code",
      "source": [
        "#calcular precision del modelo\n",
        "from sklearn.metrics import precision_score\n",
        "precision=precision_score(y_test, y_pred, average=\"binary\", pos_label=\"Respuesta alta\")\n",
        "print(\"precision del modelo:\")\n",
        "print(precision)"
      ],
      "metadata": {
        "id": "T-kvOPLbnWhN"
      },
      "execution_count": null,
      "outputs": []
    },
    {
      "cell_type": "code",
      "source": [
        "#calcular exactitud\n",
        "from sklearn.metrics import accuracy_score\n",
        "exactitud=accuracy_score(y_test, y_pred)\n",
        "print(\"exactitud del modelo\")\n",
        "print(exactitud)"
      ],
      "metadata": {
        "id": "UmGxW_DXngZ7"
      },
      "execution_count": null,
      "outputs": []
    },
    {
      "cell_type": "code",
      "source": [
        "from sklearn.metrics import recall_score\n",
        "\n",
        "sensibilidad=recall_score(y_test, y_pred, average=\"binary\", pos_label=\"Respuesta alta\")\n",
        "print(\"sensibilidad del modelo\")\n",
        "print(sensibilidad)"
      ],
      "metadata": {
        "id": "1TAp2Mq1nn1j"
      },
      "execution_count": null,
      "outputs": []
    },
    {
      "cell_type": "markdown",
      "source": [
        "host_total_listings_count"
      ],
      "metadata": {
        "id": "r8iWRrfLm7td"
      }
    },
    {
      "cell_type": "code",
      "source": [
        "#Declarar las variables independientes y la dependiente\n",
        "Vars_Indep=df[[\"price\", \"accommodates\", \"bedrooms\"]]\n",
        "Var_Dep=df[\"host_total_listings_count\"]\n",
        "X=Vars_Indep\n",
        "y=Var_Dep\n",
        "\n",
        "#Dividimos el conjunto de datos\n",
        "X_train, X_test, y_train, y_test = train_test_split(X,y, test_size=0.30, random_state=None)\n",
        "\n",
        "#Se escalan los datos\n",
        "escalar=StandardScaler()\n",
        "X_train=escalar.fit_transform(X_train)\n",
        "X_test=escalar.fit_transform(X_test)\n",
        "\n",
        "#definimos el algoritmo a utilizar\n",
        "from sklearn.linear_model import LogisticRegression\n",
        "algoritmo=LogisticRegression()\n",
        "\n",
        "#Entrenar el modelo\n",
        "algoritmo.fit(X_train, y_train)\n",
        "\n",
        "y_pred=algoritmo.predict(X_test)\n",
        "from sklearn.metrics import confusion_matrix\n",
        "matriz=confusion_matrix(y_test, y_pred)\n",
        "print(\"Matriz de confusión\")\n",
        "print(matriz)"
      ],
      "metadata": {
        "colab": {
          "base_uri": "https://localhost:8080/"
        },
        "collapsed": true,
        "id": "64E6D-KVmdTS",
        "outputId": "30b1e3f1-f254-4d96-e5de-b0bbdd747e9f"
      },
      "execution_count": null,
      "outputs": [
        {
          "output_type": "stream",
          "name": "stdout",
          "text": [
            "Matriz de confusión\n",
            "[[   0  463]\n",
            " [   0 7615]]\n"
          ]
        }
      ]
    },
    {
      "cell_type": "code",
      "source": [
        "#calcular precision del modelo\n",
        "from sklearn.metrics import precision_score\n",
        "precision=precision_score(y_test, y_pred, average=\"binary\", pos_label=\"Aceptacion alta\")\n",
        "print(\"precision del modelo:\")\n",
        "print(precision)"
      ],
      "metadata": {
        "id": "gkyQ66n2nXnU"
      },
      "execution_count": null,
      "outputs": []
    },
    {
      "cell_type": "code",
      "source": [
        "#calcular exactitud\n",
        "from sklearn.metrics import accuracy_score\n",
        "exactitud=accuracy_score(y_test, y_pred)\n",
        "print(\"exactitud del modelo\")\n",
        "print(exactitud)"
      ],
      "metadata": {
        "id": "A_z7ok8mnhcl"
      },
      "execution_count": null,
      "outputs": []
    },
    {
      "cell_type": "code",
      "source": [
        "from sklearn.metrics import recall_score\n",
        "\n",
        "sensibilidad=recall_score(y_test, y_pred, average=\"binary\", pos_label=\"Aceptacion alta\")\n",
        "print(\"sensibilidad del modelo\")\n",
        "print(sensibilidad)"
      ],
      "metadata": {
        "id": "RchIZNSGnnAD"
      },
      "execution_count": null,
      "outputs": []
    },
    {
      "cell_type": "markdown",
      "source": [
        "number_of_reviews"
      ],
      "metadata": {
        "id": "ted9dgKUm--w"
      }
    },
    {
      "cell_type": "code",
      "source": [
        "#Declarar las variables independientes y la dependiente\n",
        "Vars_Indep=df[[\"price\", \"accommodates\", \"bedrooms\"]]\n",
        "Var_Dep=df[\"number_of_reviews\"]\n",
        "X=Vars_Indep\n",
        "y=Var_Dep\n",
        "\n",
        "#Dividimos el conjunto de datos\n",
        "X_train, X_test, y_train, y_test = train_test_split(X,y, test_size=0.30, random_state=None)\n",
        "\n",
        "#Se escalan los datos\n",
        "escalar=StandardScaler()\n",
        "X_train=escalar.fit_transform(X_train)\n",
        "X_test=escalar.fit_transform(X_test)\n",
        "\n",
        "#definimos el algoritmo a utilizar\n",
        "from sklearn.linear_model import LogisticRegression\n",
        "algoritmo=LogisticRegression()\n",
        "\n",
        "#Entrenar el modelo\n",
        "algoritmo.fit(X_train, y_train)\n",
        "\n",
        "y_pred=algoritmo.predict(X_test)\n",
        "from sklearn.metrics import confusion_matrix\n",
        "matriz=confusion_matrix(y_test, y_pred)\n",
        "print(\"Matriz de confusión\")\n",
        "print(matriz)"
      ],
      "metadata": {
        "colab": {
          "base_uri": "https://localhost:8080/"
        },
        "collapsed": true,
        "id": "GSspVkD5mi-S",
        "outputId": "c31b7e88-d4dd-4268-fc7b-caee72c1c1f5"
      },
      "execution_count": null,
      "outputs": [
        {
          "output_type": "stream",
          "name": "stdout",
          "text": [
            "Matriz de confusión\n",
            "[[   0  593]\n",
            " [   0 7485]]\n"
          ]
        }
      ]
    },
    {
      "cell_type": "code",
      "source": [
        "#calcular precision del modelo\n",
        "from sklearn.metrics import precision_score\n",
        "precision=precision_score(y_test, y_pred, average=\"binary\", pos_label=\"Reseñas altas\")\n",
        "print(\"precision del modelo:\")\n",
        "print(precision)"
      ],
      "metadata": {
        "id": "23caKMTjnYyP"
      },
      "execution_count": null,
      "outputs": []
    },
    {
      "cell_type": "code",
      "source": [
        "#calcular exactitud\n",
        "from sklearn.metrics import accuracy_score\n",
        "exactitud=accuracy_score(y_test, y_pred)\n",
        "print(\"exactitud del modelo\")\n",
        "print(exactitud)"
      ],
      "metadata": {
        "id": "Nsq0_aP4niNy"
      },
      "execution_count": null,
      "outputs": []
    },
    {
      "cell_type": "code",
      "source": [
        "from sklearn.metrics import recall_score\n",
        "\n",
        "sensibilidad=recall_score(y_test, y_pred, average=\"binary\", pos_label=\"Reseñas altas\")\n",
        "print(\"sensibilidad del modelo\")\n",
        "print(sensibilidad)"
      ],
      "metadata": {
        "id": "hAIivIHvnmGK"
      },
      "execution_count": null,
      "outputs": []
    },
    {
      "cell_type": "markdown",
      "source": [
        "latitude"
      ],
      "metadata": {
        "id": "GCRR6BknnA1B"
      }
    },
    {
      "cell_type": "code",
      "source": [
        "#Declarar las variables independientes y la dependiente\n",
        "Vars_Indep=df[[\"price\", \"accommodates\", \"bedrooms\"]]\n",
        "Var_Dep=df[\"latitude\"]\n",
        "X=Vars_Indep\n",
        "y=Var_Dep\n",
        "\n",
        "#Dividimos el conjunto de datos\n",
        "X_train, X_test, y_train, y_test = train_test_split(X,y, test_size=0.30, random_state=None)\n",
        "\n",
        "#Se escalan los datos\n",
        "escalar=StandardScaler()\n",
        "X_train=escalar.fit_transform(X_train)\n",
        "X_test=escalar.fit_transform(X_test)\n",
        "\n",
        "#definimos el algoritmo a utilizar\n",
        "from sklearn.linear_model import LogisticRegression\n",
        "algoritmo=LogisticRegression()\n",
        "\n",
        "#Entrenar el modelo\n",
        "algoritmo.fit(X_train, y_train)\n",
        "\n",
        "y_pred=algoritmo.predict(X_test)\n",
        "from sklearn.metrics import confusion_matrix\n",
        "matriz=confusion_matrix(y_test, y_pred)\n",
        "print(\"Matriz de confusión\")\n",
        "print(matriz)"
      ],
      "metadata": {
        "colab": {
          "base_uri": "https://localhost:8080/"
        },
        "collapsed": true,
        "id": "zgn7Zef-mudS",
        "outputId": "b4d76962-1f33-4301-d283-433580f3dad1"
      },
      "execution_count": null,
      "outputs": [
        {
          "output_type": "stream",
          "name": "stdout",
          "text": [
            "Matriz de confusión\n",
            "[[  53 3636]\n",
            " [  81 4308]]\n"
          ]
        }
      ]
    },
    {
      "cell_type": "code",
      "source": [
        "#calcular precision del modelo\n",
        "from sklearn.metrics import precision_score\n",
        "precision=precision_score(y_test, y_pred, average=\"binary\", pos_label=\"Latitud altas\")\n",
        "print(\"precision del modelo:\")\n",
        "print(precision)"
      ],
      "metadata": {
        "id": "CPLoBuqxnZSL"
      },
      "execution_count": null,
      "outputs": []
    },
    {
      "cell_type": "code",
      "source": [
        "#calcular exactitud\n",
        "from sklearn.metrics import accuracy_score\n",
        "exactitud=accuracy_score(y_test, y_pred)\n",
        "print(\"exactitud del modelo\")\n",
        "print(exactitud)"
      ],
      "metadata": {
        "id": "BiOHFCosni46"
      },
      "execution_count": null,
      "outputs": []
    },
    {
      "cell_type": "code",
      "source": [
        "from sklearn.metrics import recall_score\n",
        "\n",
        "sensibilidad=recall_score(y_test, y_pred, average=\"binary\", pos_label=\"Latitud altas\")\n",
        "print(\"sensibilidad del modelo\")\n",
        "print(sensibilidad)"
      ],
      "metadata": {
        "id": "gh7LKuBznlVk"
      },
      "execution_count": null,
      "outputs": []
    }
  ]
}