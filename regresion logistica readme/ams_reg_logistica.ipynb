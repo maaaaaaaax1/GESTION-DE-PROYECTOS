{
  "nbformat": 4,
  "nbformat_minor": 0,
  "metadata": {
    "colab": {
      "provenance": []
    },
    "kernelspec": {
      "name": "python3",
      "display_name": "Python 3"
    },
    "language_info": {
      "name": "python"
    }
  },
  "cells": [
    {
      "cell_type": "code",
      "execution_count": 40,
      "metadata": {
        "id": "3_GhlRH2z5es"
      },
      "outputs": [],
      "source": [
        "import pandas as pd\n",
        "import numpy as np\n",
        "import matplotlib.pyplot as plt\n",
        "import scipy.special as special\n",
        "from scipy.optimize import curve_fit\n",
        "import seaborn as sns\n",
        "from sklearn.metrics import r2_score\n",
        "from sklearn.model_selection import train_test_split\n",
        "from sklearn.preprocessing import StandardScaler"
      ]
    },
    {
      "cell_type": "code",
      "source": [
        "df=pd.read_csv('ams_LIMPIO.csv')\n",
        "df.head(5)"
      ],
      "metadata": {
        "colab": {
          "base_uri": "https://localhost:8080/",
          "height": 620
        },
        "id": "JrTwN7yE0pzX",
        "outputId": "e5c68ca5-ba2e-4903-e664-4450d0efab44",
        "collapsed": true
      },
      "execution_count": 114,
      "outputs": [
        {
          "output_type": "execute_result",
          "data": {
            "text/plain": [
              "   Unnamed: 0      id       scrape_id  host_id  host_listings_count  \\\n",
              "0           0  306852  20240610194833  1141485                  3.0   \n",
              "1           1  307497  20240610194833  1582128                  2.0   \n",
              "2           2  307621  20240610194833  1141485                  3.0   \n",
              "3           3  308028  20240610194833  1141485                  3.0   \n",
              "4           4  311124  20240610194833  1600010                  1.0   \n",
              "\n",
              "   host_total_listings_count  neighbourhood_group_cleansed  latitude  \\\n",
              "0                        3.0                           NaN  52.35931   \n",
              "1                        2.0                           NaN  52.39185   \n",
              "2                        3.0                           NaN  52.35871   \n",
              "3                        3.0                           NaN  52.35972   \n",
              "4                        1.0                           NaN  52.37104   \n",
              "\n",
              "   longitude  accommodates  ...        room_type     bathrooms_text  \\\n",
              "0    4.89844           4.0  ...  Entire home/apt          1.5 baths   \n",
              "1    4.88690           2.9  ...  Entire home/apt          2.5 baths   \n",
              "2    4.89616           2.0  ...  Entire home/apt             1 bath   \n",
              "3    4.89750           2.0  ...     Private room  Private half-bath   \n",
              "4    4.87713           2.0  ...  Entire home/apt             1 bath   \n",
              "\n",
              "                                           amenities  calendar_updated  \\\n",
              "0  [\"Hair dryer\", \"Iron\", \"Microwave\", \"Smoke ala...                 -   \n",
              "1  [\"Patio or balcony\", \"Pets allowed\", \"Stove\", ...                 -   \n",
              "2  [\"Hair dryer\", \"Iron\", \"High chair\", \"Smoke al...                 -   \n",
              "3  [\"Hair dryer\", \"Iron\", \"Microwave\", \"Pets allo...                 -   \n",
              "4  [\"Iron\", \"MI box sound system\", \"Wine glasses\"...                 -   \n",
              "\n",
              "   has_availability  calendar_last_scraped  first_review  last_review  \\\n",
              "0                 t             2024-06-11    2012-09-14   2023-04-01   \n",
              "1                 t             2024-06-11    2012-09-10   2024-05-12   \n",
              "2                 t             2024-06-11    2013-04-02   2023-03-27   \n",
              "3                 t             2024-06-11    2014-03-25   2023-02-28   \n",
              "4                 t             2024-06-11    2012-05-01   2024-05-27   \n",
              "\n",
              "                    license  instant_bookable  \n",
              "0  0363 33C3 B936 3911 FC42                 f  \n",
              "1                    Exempt                 f  \n",
              "2  0363 33C3 B936 3911 FC42                 f  \n",
              "3  0363 33C3 B936 3911 FC42                 f  \n",
              "4  0363 59D8 7D30 6CFA DC81                 f  \n",
              "\n",
              "[5 rows x 76 columns]"
            ],
            "text/html": [
              "\n",
              "  <div id=\"df-f193aefb-c7dd-4fbe-9713-d4408117a352\" class=\"colab-df-container\">\n",
              "    <div>\n",
              "<style scoped>\n",
              "    .dataframe tbody tr th:only-of-type {\n",
              "        vertical-align: middle;\n",
              "    }\n",
              "\n",
              "    .dataframe tbody tr th {\n",
              "        vertical-align: top;\n",
              "    }\n",
              "\n",
              "    .dataframe thead th {\n",
              "        text-align: right;\n",
              "    }\n",
              "</style>\n",
              "<table border=\"1\" class=\"dataframe\">\n",
              "  <thead>\n",
              "    <tr style=\"text-align: right;\">\n",
              "      <th></th>\n",
              "      <th>Unnamed: 0</th>\n",
              "      <th>id</th>\n",
              "      <th>scrape_id</th>\n",
              "      <th>host_id</th>\n",
              "      <th>host_listings_count</th>\n",
              "      <th>host_total_listings_count</th>\n",
              "      <th>neighbourhood_group_cleansed</th>\n",
              "      <th>latitude</th>\n",
              "      <th>longitude</th>\n",
              "      <th>accommodates</th>\n",
              "      <th>...</th>\n",
              "      <th>room_type</th>\n",
              "      <th>bathrooms_text</th>\n",
              "      <th>amenities</th>\n",
              "      <th>calendar_updated</th>\n",
              "      <th>has_availability</th>\n",
              "      <th>calendar_last_scraped</th>\n",
              "      <th>first_review</th>\n",
              "      <th>last_review</th>\n",
              "      <th>license</th>\n",
              "      <th>instant_bookable</th>\n",
              "    </tr>\n",
              "  </thead>\n",
              "  <tbody>\n",
              "    <tr>\n",
              "      <th>0</th>\n",
              "      <td>0</td>\n",
              "      <td>306852</td>\n",
              "      <td>20240610194833</td>\n",
              "      <td>1141485</td>\n",
              "      <td>3.0</td>\n",
              "      <td>3.0</td>\n",
              "      <td>NaN</td>\n",
              "      <td>52.35931</td>\n",
              "      <td>4.89844</td>\n",
              "      <td>4.0</td>\n",
              "      <td>...</td>\n",
              "      <td>Entire home/apt</td>\n",
              "      <td>1.5 baths</td>\n",
              "      <td>[\"Hair dryer\", \"Iron\", \"Microwave\", \"Smoke ala...</td>\n",
              "      <td>-</td>\n",
              "      <td>t</td>\n",
              "      <td>2024-06-11</td>\n",
              "      <td>2012-09-14</td>\n",
              "      <td>2023-04-01</td>\n",
              "      <td>0363 33C3 B936 3911 FC42</td>\n",
              "      <td>f</td>\n",
              "    </tr>\n",
              "    <tr>\n",
              "      <th>1</th>\n",
              "      <td>1</td>\n",
              "      <td>307497</td>\n",
              "      <td>20240610194833</td>\n",
              "      <td>1582128</td>\n",
              "      <td>2.0</td>\n",
              "      <td>2.0</td>\n",
              "      <td>NaN</td>\n",
              "      <td>52.39185</td>\n",
              "      <td>4.88690</td>\n",
              "      <td>2.9</td>\n",
              "      <td>...</td>\n",
              "      <td>Entire home/apt</td>\n",
              "      <td>2.5 baths</td>\n",
              "      <td>[\"Patio or balcony\", \"Pets allowed\", \"Stove\", ...</td>\n",
              "      <td>-</td>\n",
              "      <td>t</td>\n",
              "      <td>2024-06-11</td>\n",
              "      <td>2012-09-10</td>\n",
              "      <td>2024-05-12</td>\n",
              "      <td>Exempt</td>\n",
              "      <td>f</td>\n",
              "    </tr>\n",
              "    <tr>\n",
              "      <th>2</th>\n",
              "      <td>2</td>\n",
              "      <td>307621</td>\n",
              "      <td>20240610194833</td>\n",
              "      <td>1141485</td>\n",
              "      <td>3.0</td>\n",
              "      <td>3.0</td>\n",
              "      <td>NaN</td>\n",
              "      <td>52.35871</td>\n",
              "      <td>4.89616</td>\n",
              "      <td>2.0</td>\n",
              "      <td>...</td>\n",
              "      <td>Entire home/apt</td>\n",
              "      <td>1 bath</td>\n",
              "      <td>[\"Hair dryer\", \"Iron\", \"High chair\", \"Smoke al...</td>\n",
              "      <td>-</td>\n",
              "      <td>t</td>\n",
              "      <td>2024-06-11</td>\n",
              "      <td>2013-04-02</td>\n",
              "      <td>2023-03-27</td>\n",
              "      <td>0363 33C3 B936 3911 FC42</td>\n",
              "      <td>f</td>\n",
              "    </tr>\n",
              "    <tr>\n",
              "      <th>3</th>\n",
              "      <td>3</td>\n",
              "      <td>308028</td>\n",
              "      <td>20240610194833</td>\n",
              "      <td>1141485</td>\n",
              "      <td>3.0</td>\n",
              "      <td>3.0</td>\n",
              "      <td>NaN</td>\n",
              "      <td>52.35972</td>\n",
              "      <td>4.89750</td>\n",
              "      <td>2.0</td>\n",
              "      <td>...</td>\n",
              "      <td>Private room</td>\n",
              "      <td>Private half-bath</td>\n",
              "      <td>[\"Hair dryer\", \"Iron\", \"Microwave\", \"Pets allo...</td>\n",
              "      <td>-</td>\n",
              "      <td>t</td>\n",
              "      <td>2024-06-11</td>\n",
              "      <td>2014-03-25</td>\n",
              "      <td>2023-02-28</td>\n",
              "      <td>0363 33C3 B936 3911 FC42</td>\n",
              "      <td>f</td>\n",
              "    </tr>\n",
              "    <tr>\n",
              "      <th>4</th>\n",
              "      <td>4</td>\n",
              "      <td>311124</td>\n",
              "      <td>20240610194833</td>\n",
              "      <td>1600010</td>\n",
              "      <td>1.0</td>\n",
              "      <td>1.0</td>\n",
              "      <td>NaN</td>\n",
              "      <td>52.37104</td>\n",
              "      <td>4.87713</td>\n",
              "      <td>2.0</td>\n",
              "      <td>...</td>\n",
              "      <td>Entire home/apt</td>\n",
              "      <td>1 bath</td>\n",
              "      <td>[\"Iron\", \"MI box sound system\", \"Wine glasses\"...</td>\n",
              "      <td>-</td>\n",
              "      <td>t</td>\n",
              "      <td>2024-06-11</td>\n",
              "      <td>2012-05-01</td>\n",
              "      <td>2024-05-27</td>\n",
              "      <td>0363 59D8 7D30 6CFA DC81</td>\n",
              "      <td>f</td>\n",
              "    </tr>\n",
              "  </tbody>\n",
              "</table>\n",
              "<p>5 rows × 76 columns</p>\n",
              "</div>\n",
              "    <div class=\"colab-df-buttons\">\n",
              "\n",
              "  <div class=\"colab-df-container\">\n",
              "    <button class=\"colab-df-convert\" onclick=\"convertToInteractive('df-f193aefb-c7dd-4fbe-9713-d4408117a352')\"\n",
              "            title=\"Convert this dataframe to an interactive table.\"\n",
              "            style=\"display:none;\">\n",
              "\n",
              "  <svg xmlns=\"http://www.w3.org/2000/svg\" height=\"24px\" viewBox=\"0 -960 960 960\">\n",
              "    <path d=\"M120-120v-720h720v720H120Zm60-500h600v-160H180v160Zm220 220h160v-160H400v160Zm0 220h160v-160H400v160ZM180-400h160v-160H180v160Zm440 0h160v-160H620v160ZM180-180h160v-160H180v160Zm440 0h160v-160H620v160Z\"/>\n",
              "  </svg>\n",
              "    </button>\n",
              "\n",
              "  <style>\n",
              "    .colab-df-container {\n",
              "      display:flex;\n",
              "      gap: 12px;\n",
              "    }\n",
              "\n",
              "    .colab-df-convert {\n",
              "      background-color: #E8F0FE;\n",
              "      border: none;\n",
              "      border-radius: 50%;\n",
              "      cursor: pointer;\n",
              "      display: none;\n",
              "      fill: #1967D2;\n",
              "      height: 32px;\n",
              "      padding: 0 0 0 0;\n",
              "      width: 32px;\n",
              "    }\n",
              "\n",
              "    .colab-df-convert:hover {\n",
              "      background-color: #E2EBFA;\n",
              "      box-shadow: 0px 1px 2px rgba(60, 64, 67, 0.3), 0px 1px 3px 1px rgba(60, 64, 67, 0.15);\n",
              "      fill: #174EA6;\n",
              "    }\n",
              "\n",
              "    .colab-df-buttons div {\n",
              "      margin-bottom: 4px;\n",
              "    }\n",
              "\n",
              "    [theme=dark] .colab-df-convert {\n",
              "      background-color: #3B4455;\n",
              "      fill: #D2E3FC;\n",
              "    }\n",
              "\n",
              "    [theme=dark] .colab-df-convert:hover {\n",
              "      background-color: #434B5C;\n",
              "      box-shadow: 0px 1px 3px 1px rgba(0, 0, 0, 0.15);\n",
              "      filter: drop-shadow(0px 1px 2px rgba(0, 0, 0, 0.3));\n",
              "      fill: #FFFFFF;\n",
              "    }\n",
              "  </style>\n",
              "\n",
              "    <script>\n",
              "      const buttonEl =\n",
              "        document.querySelector('#df-f193aefb-c7dd-4fbe-9713-d4408117a352 button.colab-df-convert');\n",
              "      buttonEl.style.display =\n",
              "        google.colab.kernel.accessAllowed ? 'block' : 'none';\n",
              "\n",
              "      async function convertToInteractive(key) {\n",
              "        const element = document.querySelector('#df-f193aefb-c7dd-4fbe-9713-d4408117a352');\n",
              "        const dataTable =\n",
              "          await google.colab.kernel.invokeFunction('convertToInteractive',\n",
              "                                                    [key], {});\n",
              "        if (!dataTable) return;\n",
              "\n",
              "        const docLinkHtml = 'Like what you see? Visit the ' +\n",
              "          '<a target=\"_blank\" href=https://colab.research.google.com/notebooks/data_table.ipynb>data table notebook</a>'\n",
              "          + ' to learn more about interactive tables.';\n",
              "        element.innerHTML = '';\n",
              "        dataTable['output_type'] = 'display_data';\n",
              "        await google.colab.output.renderOutput(dataTable, element);\n",
              "        const docLink = document.createElement('div');\n",
              "        docLink.innerHTML = docLinkHtml;\n",
              "        element.appendChild(docLink);\n",
              "      }\n",
              "    </script>\n",
              "  </div>\n",
              "\n",
              "\n",
              "<div id=\"df-a5299784-22b0-426e-8986-7d5247f90053\">\n",
              "  <button class=\"colab-df-quickchart\" onclick=\"quickchart('df-a5299784-22b0-426e-8986-7d5247f90053')\"\n",
              "            title=\"Suggest charts\"\n",
              "            style=\"display:none;\">\n",
              "\n",
              "<svg xmlns=\"http://www.w3.org/2000/svg\" height=\"24px\"viewBox=\"0 0 24 24\"\n",
              "     width=\"24px\">\n",
              "    <g>\n",
              "        <path d=\"M19 3H5c-1.1 0-2 .9-2 2v14c0 1.1.9 2 2 2h14c1.1 0 2-.9 2-2V5c0-1.1-.9-2-2-2zM9 17H7v-7h2v7zm4 0h-2V7h2v10zm4 0h-2v-4h2v4z\"/>\n",
              "    </g>\n",
              "</svg>\n",
              "  </button>\n",
              "\n",
              "<style>\n",
              "  .colab-df-quickchart {\n",
              "      --bg-color: #E8F0FE;\n",
              "      --fill-color: #1967D2;\n",
              "      --hover-bg-color: #E2EBFA;\n",
              "      --hover-fill-color: #174EA6;\n",
              "      --disabled-fill-color: #AAA;\n",
              "      --disabled-bg-color: #DDD;\n",
              "  }\n",
              "\n",
              "  [theme=dark] .colab-df-quickchart {\n",
              "      --bg-color: #3B4455;\n",
              "      --fill-color: #D2E3FC;\n",
              "      --hover-bg-color: #434B5C;\n",
              "      --hover-fill-color: #FFFFFF;\n",
              "      --disabled-bg-color: #3B4455;\n",
              "      --disabled-fill-color: #666;\n",
              "  }\n",
              "\n",
              "  .colab-df-quickchart {\n",
              "    background-color: var(--bg-color);\n",
              "    border: none;\n",
              "    border-radius: 50%;\n",
              "    cursor: pointer;\n",
              "    display: none;\n",
              "    fill: var(--fill-color);\n",
              "    height: 32px;\n",
              "    padding: 0;\n",
              "    width: 32px;\n",
              "  }\n",
              "\n",
              "  .colab-df-quickchart:hover {\n",
              "    background-color: var(--hover-bg-color);\n",
              "    box-shadow: 0 1px 2px rgba(60, 64, 67, 0.3), 0 1px 3px 1px rgba(60, 64, 67, 0.15);\n",
              "    fill: var(--button-hover-fill-color);\n",
              "  }\n",
              "\n",
              "  .colab-df-quickchart-complete:disabled,\n",
              "  .colab-df-quickchart-complete:disabled:hover {\n",
              "    background-color: var(--disabled-bg-color);\n",
              "    fill: var(--disabled-fill-color);\n",
              "    box-shadow: none;\n",
              "  }\n",
              "\n",
              "  .colab-df-spinner {\n",
              "    border: 2px solid var(--fill-color);\n",
              "    border-color: transparent;\n",
              "    border-bottom-color: var(--fill-color);\n",
              "    animation:\n",
              "      spin 1s steps(1) infinite;\n",
              "  }\n",
              "\n",
              "  @keyframes spin {\n",
              "    0% {\n",
              "      border-color: transparent;\n",
              "      border-bottom-color: var(--fill-color);\n",
              "      border-left-color: var(--fill-color);\n",
              "    }\n",
              "    20% {\n",
              "      border-color: transparent;\n",
              "      border-left-color: var(--fill-color);\n",
              "      border-top-color: var(--fill-color);\n",
              "    }\n",
              "    30% {\n",
              "      border-color: transparent;\n",
              "      border-left-color: var(--fill-color);\n",
              "      border-top-color: var(--fill-color);\n",
              "      border-right-color: var(--fill-color);\n",
              "    }\n",
              "    40% {\n",
              "      border-color: transparent;\n",
              "      border-right-color: var(--fill-color);\n",
              "      border-top-color: var(--fill-color);\n",
              "    }\n",
              "    60% {\n",
              "      border-color: transparent;\n",
              "      border-right-color: var(--fill-color);\n",
              "    }\n",
              "    80% {\n",
              "      border-color: transparent;\n",
              "      border-right-color: var(--fill-color);\n",
              "      border-bottom-color: var(--fill-color);\n",
              "    }\n",
              "    90% {\n",
              "      border-color: transparent;\n",
              "      border-bottom-color: var(--fill-color);\n",
              "    }\n",
              "  }\n",
              "</style>\n",
              "\n",
              "  <script>\n",
              "    async function quickchart(key) {\n",
              "      const quickchartButtonEl =\n",
              "        document.querySelector('#' + key + ' button');\n",
              "      quickchartButtonEl.disabled = true;  // To prevent multiple clicks.\n",
              "      quickchartButtonEl.classList.add('colab-df-spinner');\n",
              "      try {\n",
              "        const charts = await google.colab.kernel.invokeFunction(\n",
              "            'suggestCharts', [key], {});\n",
              "      } catch (error) {\n",
              "        console.error('Error during call to suggestCharts:', error);\n",
              "      }\n",
              "      quickchartButtonEl.classList.remove('colab-df-spinner');\n",
              "      quickchartButtonEl.classList.add('colab-df-quickchart-complete');\n",
              "    }\n",
              "    (() => {\n",
              "      let quickchartButtonEl =\n",
              "        document.querySelector('#df-a5299784-22b0-426e-8986-7d5247f90053 button');\n",
              "      quickchartButtonEl.style.display =\n",
              "        google.colab.kernel.accessAllowed ? 'block' : 'none';\n",
              "    })();\n",
              "  </script>\n",
              "</div>\n",
              "\n",
              "    </div>\n",
              "  </div>\n"
            ],
            "application/vnd.google.colaboratory.intrinsic+json": {
              "type": "dataframe",
              "variable_name": "df"
            }
          },
          "metadata": {},
          "execution_count": 114
        }
      ]
    },
    {
      "cell_type": "code",
      "source": [
        "df['host_is_superhost'] = df['host_is_superhost'].replace({\n",
        "    't': 'yes',\n",
        "    'f': 'no',\n",
        "    'VALIDACIÓN PENDIENTE': np.nan\n",
        "})\n",
        "\n",
        "df['host_has_profile_pic'] = df['host_has_profile_pic'].replace({\n",
        "    't': 'yes',\n",
        "    'f': 'no',\n",
        "    'INFORMACIÓN FALTANTE': np.nan\n",
        "})\n",
        "\n",
        "df['host_identity_verified'] = df['host_identity_verified'].replace({\n",
        "    't': 'yes',\n",
        "    'f': 'no',\n",
        "    'INFORMACIÓN FALTANTE': np.nan\n",
        "})\n",
        "\n",
        "df['has_availability'] = df['has_availability'].replace({\n",
        "    't': 'yes',\n",
        "    'f': 'no',\n",
        "    'INFORMACIÓN NO DISPONIBLE': np.nan\n",
        "})\n",
        "\n",
        "df['instant_bookable'] = df['instant_bookable'].replace({\n",
        "    't': 'yes',\n",
        "    'f': 'no',\n",
        "    'INFORMACIÓN NO DISPONIBLE': np.nan\n",
        "})\n",
        "\n",
        "df =df.fillna(method=\"bfill\")\n",
        "df =df.fillna(method=\"ffill\")"
      ],
      "metadata": {
        "colab": {
          "base_uri": "https://localhost:8080/"
        },
        "collapsed": true,
        "id": "8uUksW60NA7Y",
        "outputId": "96ab38b3-3765-4440-9b9c-b64c1f488135"
      },
      "execution_count": 42,
      "outputs": [
        {
          "output_type": "stream",
          "name": "stderr",
          "text": [
            "<ipython-input-42-d98a12bdaf1e>:31: FutureWarning: DataFrame.fillna with 'method' is deprecated and will raise in a future version. Use obj.ffill() or obj.bfill() instead.\n",
            "  df =df.fillna(method=\"bfill\")\n",
            "<ipython-input-42-d98a12bdaf1e>:32: FutureWarning: DataFrame.fillna with 'method' is deprecated and will raise in a future version. Use obj.ffill() or obj.bfill() instead.\n",
            "  df =df.fillna(method=\"ffill\")\n"
          ]
        }
      ]
    },
    {
      "cell_type": "code",
      "source": [
        "df['host_has_profile_pic'].unique()"
      ],
      "metadata": {
        "colab": {
          "base_uri": "https://localhost:8080/"
        },
        "collapsed": true,
        "id": "S33-Em68txjv",
        "outputId": "603645d1-3412-42c9-cf4f-bf6fd4f4d55a"
      },
      "execution_count": 4,
      "outputs": [
        {
          "output_type": "execute_result",
          "data": {
            "text/plain": [
              "array(['yes', 'no'], dtype=object)"
            ]
          },
          "metadata": {},
          "execution_count": 4
        }
      ]
    },
    {
      "cell_type": "code",
      "source": [
        "df[\"host_has_profile_pic\"].head(30)"
      ],
      "metadata": {
        "colab": {
          "base_uri": "https://localhost:8080/",
          "height": 1000
        },
        "collapsed": true,
        "id": "pLTg6gGk0u1Z",
        "outputId": "396841ac-b4ca-4073-99c9-9fad379e8374"
      },
      "execution_count": 5,
      "outputs": [
        {
          "output_type": "execute_result",
          "data": {
            "text/plain": [
              "0     yes\n",
              "1     yes\n",
              "2     yes\n",
              "3     yes\n",
              "4     yes\n",
              "5     yes\n",
              "6     yes\n",
              "7     yes\n",
              "8     yes\n",
              "9     yes\n",
              "10    yes\n",
              "11    yes\n",
              "12    yes\n",
              "13    yes\n",
              "14    yes\n",
              "15    yes\n",
              "16    yes\n",
              "17    yes\n",
              "18    yes\n",
              "19    yes\n",
              "20    yes\n",
              "21    yes\n",
              "22    yes\n",
              "23    yes\n",
              "24    yes\n",
              "25    yes\n",
              "26    yes\n",
              "27    yes\n",
              "28    yes\n",
              "29    yes\n",
              "Name: host_has_profile_pic, dtype: object"
            ],
            "text/html": [
              "<div>\n",
              "<style scoped>\n",
              "    .dataframe tbody tr th:only-of-type {\n",
              "        vertical-align: middle;\n",
              "    }\n",
              "\n",
              "    .dataframe tbody tr th {\n",
              "        vertical-align: top;\n",
              "    }\n",
              "\n",
              "    .dataframe thead th {\n",
              "        text-align: right;\n",
              "    }\n",
              "</style>\n",
              "<table border=\"1\" class=\"dataframe\">\n",
              "  <thead>\n",
              "    <tr style=\"text-align: right;\">\n",
              "      <th></th>\n",
              "      <th>host_has_profile_pic</th>\n",
              "    </tr>\n",
              "  </thead>\n",
              "  <tbody>\n",
              "    <tr>\n",
              "      <th>0</th>\n",
              "      <td>yes</td>\n",
              "    </tr>\n",
              "    <tr>\n",
              "      <th>1</th>\n",
              "      <td>yes</td>\n",
              "    </tr>\n",
              "    <tr>\n",
              "      <th>2</th>\n",
              "      <td>yes</td>\n",
              "    </tr>\n",
              "    <tr>\n",
              "      <th>3</th>\n",
              "      <td>yes</td>\n",
              "    </tr>\n",
              "    <tr>\n",
              "      <th>4</th>\n",
              "      <td>yes</td>\n",
              "    </tr>\n",
              "    <tr>\n",
              "      <th>5</th>\n",
              "      <td>yes</td>\n",
              "    </tr>\n",
              "    <tr>\n",
              "      <th>6</th>\n",
              "      <td>yes</td>\n",
              "    </tr>\n",
              "    <tr>\n",
              "      <th>7</th>\n",
              "      <td>yes</td>\n",
              "    </tr>\n",
              "    <tr>\n",
              "      <th>8</th>\n",
              "      <td>yes</td>\n",
              "    </tr>\n",
              "    <tr>\n",
              "      <th>9</th>\n",
              "      <td>yes</td>\n",
              "    </tr>\n",
              "    <tr>\n",
              "      <th>10</th>\n",
              "      <td>yes</td>\n",
              "    </tr>\n",
              "    <tr>\n",
              "      <th>11</th>\n",
              "      <td>yes</td>\n",
              "    </tr>\n",
              "    <tr>\n",
              "      <th>12</th>\n",
              "      <td>yes</td>\n",
              "    </tr>\n",
              "    <tr>\n",
              "      <th>13</th>\n",
              "      <td>yes</td>\n",
              "    </tr>\n",
              "    <tr>\n",
              "      <th>14</th>\n",
              "      <td>yes</td>\n",
              "    </tr>\n",
              "    <tr>\n",
              "      <th>15</th>\n",
              "      <td>yes</td>\n",
              "    </tr>\n",
              "    <tr>\n",
              "      <th>16</th>\n",
              "      <td>yes</td>\n",
              "    </tr>\n",
              "    <tr>\n",
              "      <th>17</th>\n",
              "      <td>yes</td>\n",
              "    </tr>\n",
              "    <tr>\n",
              "      <th>18</th>\n",
              "      <td>yes</td>\n",
              "    </tr>\n",
              "    <tr>\n",
              "      <th>19</th>\n",
              "      <td>yes</td>\n",
              "    </tr>\n",
              "    <tr>\n",
              "      <th>20</th>\n",
              "      <td>yes</td>\n",
              "    </tr>\n",
              "    <tr>\n",
              "      <th>21</th>\n",
              "      <td>yes</td>\n",
              "    </tr>\n",
              "    <tr>\n",
              "      <th>22</th>\n",
              "      <td>yes</td>\n",
              "    </tr>\n",
              "    <tr>\n",
              "      <th>23</th>\n",
              "      <td>yes</td>\n",
              "    </tr>\n",
              "    <tr>\n",
              "      <th>24</th>\n",
              "      <td>yes</td>\n",
              "    </tr>\n",
              "    <tr>\n",
              "      <th>25</th>\n",
              "      <td>yes</td>\n",
              "    </tr>\n",
              "    <tr>\n",
              "      <th>26</th>\n",
              "      <td>yes</td>\n",
              "    </tr>\n",
              "    <tr>\n",
              "      <th>27</th>\n",
              "      <td>yes</td>\n",
              "    </tr>\n",
              "    <tr>\n",
              "      <th>28</th>\n",
              "      <td>yes</td>\n",
              "    </tr>\n",
              "    <tr>\n",
              "      <th>29</th>\n",
              "      <td>yes</td>\n",
              "    </tr>\n",
              "  </tbody>\n",
              "</table>\n",
              "</div><br><label><b>dtype:</b> object</label>"
            ]
          },
          "metadata": {},
          "execution_count": 5
        }
      ]
    },
    {
      "cell_type": "markdown",
      "source": [
        "MODELO 1 host_is_superhost"
      ],
      "metadata": {
        "id": "1S7AruoCysAu"
      }
    },
    {
      "cell_type": "code",
      "source": [
        "#Declarar las variables independientes y la dependiente\n",
        "Vars_Indep=df[[\"price\", \"reviews_per_month\", \"bedrooms\"]]\n",
        "Var_Dep=df[\"host_is_superhost\"]\n",
        "X=Vars_Indep\n",
        "y=Var_Dep\n",
        "\n",
        "#Dividimos el conjunto de datos\n",
        "X_train, X_test, y_train, y_test = train_test_split(X,y, test_size=0.30, random_state=None)\n",
        "\n",
        "#Se escalan los datos\n",
        "escalar=StandardScaler()\n",
        "X_train=escalar.fit_transform(X_train)\n",
        "X_test=escalar.fit_transform(X_test)\n",
        "\n",
        "#definimos el algoritmo a utilizar\n",
        "from sklearn.linear_model import LogisticRegression\n",
        "algoritmo=LogisticRegression()\n",
        "\n",
        "#Entrenar el modelo\n",
        "algoritmo.fit(X_train, y_train)\n",
        "\n",
        "y_pred=algoritmo.predict(X_test)\n",
        "from sklearn.metrics import confusion_matrix\n",
        "matriz=confusion_matrix(y_test, y_pred)\n",
        "print(\"Matriz de confusión\")\n",
        "print(matriz)"
      ],
      "metadata": {
        "id": "8reg5_cM2s2s",
        "colab": {
          "base_uri": "https://localhost:8080/"
        },
        "collapsed": true,
        "outputId": "59bcb87c-e8dc-412f-93df-e6c62af9c7b7"
      },
      "execution_count": 6,
      "outputs": [
        {
          "output_type": "stream",
          "name": "stdout",
          "text": [
            "Matriz de confusión\n",
            "[[2245   57]\n",
            " [ 365  126]]\n"
          ]
        }
      ]
    },
    {
      "cell_type": "code",
      "source": [
        "#calcular precision del modelo\n",
        "from sklearn.metrics import precision_score\n",
        "precision=precision_score(y_test, y_pred, average=\"binary\", pos_label=\"yes\")\n",
        "print(\"precision del modelo:\")\n",
        "print(precision)"
      ],
      "metadata": {
        "colab": {
          "base_uri": "https://localhost:8080/"
        },
        "id": "Rn69eJFt8tcN",
        "outputId": "f66f69b5-58a8-455d-86b2-9016152b1657",
        "collapsed": true
      },
      "execution_count": 7,
      "outputs": [
        {
          "output_type": "stream",
          "name": "stdout",
          "text": [
            "precision del modelo:\n",
            "0.6885245901639344\n"
          ]
        }
      ]
    },
    {
      "cell_type": "code",
      "source": [
        "#calcular exactitud\n",
        "from sklearn.metrics import accuracy_score\n",
        "exactitud=accuracy_score(y_test, y_pred)\n",
        "print(\"exactitud del modelo\")\n",
        "print(exactitud)"
      ],
      "metadata": {
        "colab": {
          "base_uri": "https://localhost:8080/"
        },
        "collapsed": true,
        "id": "eJu4q6rr-VPG",
        "outputId": "eb2589f2-a290-46b2-fcc3-26c6077d32a8"
      },
      "execution_count": 8,
      "outputs": [
        {
          "output_type": "stream",
          "name": "stdout",
          "text": [
            "exactitud del modelo\n",
            "0.8489079842463301\n"
          ]
        }
      ]
    },
    {
      "cell_type": "code",
      "source": [
        "#calcular la sensibilidad\n",
        "from sklearn.metrics import recall_score\n",
        "\n",
        "sensibilidad=recall_score(y_test, y_pred, average=\"binary\", pos_label=\"yes\")\n",
        "print(\"sensibilidad del modelo\")\n",
        "print(sensibilidad)"
      ],
      "metadata": {
        "colab": {
          "base_uri": "https://localhost:8080/"
        },
        "id": "Jg8egLC3-t65",
        "outputId": "7801bc50-a295-4c86-aa05-7d39c367c2ae",
        "collapsed": true
      },
      "execution_count": 9,
      "outputs": [
        {
          "output_type": "stream",
          "name": "stdout",
          "text": [
            "sensibilidad del modelo\n",
            "0.25661914460285135\n"
          ]
        }
      ]
    },
    {
      "cell_type": "markdown",
      "source": [
        "MODELO 2 host_has_profile_pic"
      ],
      "metadata": {
        "id": "vO6ma-4fz1ua"
      }
    },
    {
      "cell_type": "code",
      "source": [
        "#Declarar las variables independientes y la dependiente\n",
        "Vars_Indep=df[[\"price\", \"reviews_per_month\", \"bedrooms\"]]\n",
        "Var_Dep=df[\"host_has_profile_pic\"]\n",
        "X=Vars_Indep\n",
        "y=Var_Dep\n",
        "\n",
        "#Dividimos el conjunto de datos\n",
        "X_train, X_test, y_train, y_test = train_test_split(X,y, test_size=0.30, random_state=None)\n",
        "\n",
        "#Se escalan los datos\n",
        "escalar=StandardScaler()\n",
        "X_train=escalar.fit_transform(X_train)\n",
        "X_test=escalar.fit_transform(X_test)\n",
        "\n",
        "#definimos el algoritmo a utilizar\n",
        "from sklearn.linear_model import LogisticRegression\n",
        "algoritmo=LogisticRegression()\n",
        "\n",
        "#Entrenar el modelo\n",
        "algoritmo.fit(X_train, y_train)\n",
        "\n",
        "y_pred=algoritmo.predict(X_test)\n",
        "from sklearn.metrics import confusion_matrix\n",
        "matriz=confusion_matrix(y_test, y_pred)\n",
        "print(\"Matriz de confusión\")\n",
        "print(matriz)"
      ],
      "metadata": {
        "colab": {
          "base_uri": "https://localhost:8080/"
        },
        "id": "w6MEO-Adz0Zf",
        "outputId": "b64fca97-ae7a-4f9f-dc41-bd57ae1f2630",
        "collapsed": true
      },
      "execution_count": 10,
      "outputs": [
        {
          "output_type": "stream",
          "name": "stdout",
          "text": [
            "Matriz de confusión\n",
            "[[   0   33]\n",
            " [   0 2760]]\n"
          ]
        }
      ]
    },
    {
      "cell_type": "code",
      "source": [
        "#calcular precision del modelo\n",
        "from sklearn.metrics import precision_score\n",
        "precision=precision_score(y_test, y_pred, average=\"binary\", pos_label=\"yes\")\n",
        "print(\"precision del modelo:\")\n",
        "print(precision)"
      ],
      "metadata": {
        "colab": {
          "base_uri": "https://localhost:8080/"
        },
        "id": "oKclgS5N3Y9z",
        "outputId": "347184b7-666c-4bd7-ab04-cdfe28b08caa",
        "collapsed": true
      },
      "execution_count": 11,
      "outputs": [
        {
          "output_type": "stream",
          "name": "stdout",
          "text": [
            "precision del modelo:\n",
            "0.9881847475832438\n"
          ]
        }
      ]
    },
    {
      "cell_type": "code",
      "source": [
        "#calcular exactitud\n",
        "from sklearn.metrics import accuracy_score\n",
        "exactitud=accuracy_score(y_test, y_pred)\n",
        "print(\"exactitud del modelo\")\n",
        "print(exactitud)"
      ],
      "metadata": {
        "colab": {
          "base_uri": "https://localhost:8080/"
        },
        "id": "5Jnc4yDh3eVV",
        "outputId": "db560070-08a4-4d20-f656-79459052d1ae",
        "collapsed": true
      },
      "execution_count": 12,
      "outputs": [
        {
          "output_type": "stream",
          "name": "stdout",
          "text": [
            "exactitud del modelo\n",
            "0.9881847475832438\n"
          ]
        }
      ]
    },
    {
      "cell_type": "code",
      "source": [
        "#calcular la sensibilidad\n",
        "from sklearn.metrics import recall_score\n",
        "\n",
        "sensibilidad=recall_score(y_test, y_pred, average=\"binary\", pos_label=\"yes\")\n",
        "print(\"sensibilidad del modelo\")\n",
        "print(sensibilidad)"
      ],
      "metadata": {
        "colab": {
          "base_uri": "https://localhost:8080/"
        },
        "id": "qrLsN1jS3ks6",
        "outputId": "8eff2659-377a-4c0a-98ed-8f5b2c3b1f92",
        "collapsed": true
      },
      "execution_count": 13,
      "outputs": [
        {
          "output_type": "stream",
          "name": "stdout",
          "text": [
            "sensibilidad del modelo\n",
            "1.0\n"
          ]
        }
      ]
    },
    {
      "cell_type": "markdown",
      "source": [
        "MODELO 3 host_identity_verified"
      ],
      "metadata": {
        "id": "VUC7hmKL39U2"
      }
    },
    {
      "cell_type": "code",
      "source": [
        "#Declarar las variables independientes y la dependiente\n",
        "Vars_Indep=df[[\"price\", \"reviews_per_month\", \"bedrooms\"]]\n",
        "Var_Dep=df[\"host_identity_verified\"]\n",
        "X=Vars_Indep\n",
        "y=Var_Dep\n",
        "\n",
        "#Dividimos el conjunto de datos\n",
        "X_train, X_test, y_train, y_test = train_test_split(X,y, test_size=0.30, random_state=None)\n",
        "\n",
        "#Se escalan los datos\n",
        "escalar=StandardScaler()\n",
        "X_train=escalar.fit_transform(X_train)\n",
        "X_test=escalar.fit_transform(X_test)\n",
        "\n",
        "#definimos el algoritmo a utilizar\n",
        "from sklearn.linear_model import LogisticRegression\n",
        "algoritmo=LogisticRegression()\n",
        "\n",
        "#Entrenar el modelo\n",
        "algoritmo.fit(X_train, y_train)\n",
        "\n",
        "y_pred=algoritmo.predict(X_test)\n",
        "from sklearn.metrics import confusion_matrix\n",
        "matriz=confusion_matrix(y_test, y_pred)\n",
        "print(\"Matriz de confusión\")\n",
        "print(matriz)"
      ],
      "metadata": {
        "id": "vrDGjW084EV-",
        "colab": {
          "base_uri": "https://localhost:8080/"
        },
        "outputId": "fe5aa73e-a075-47f0-ac4b-971b378e8da5"
      },
      "execution_count": 14,
      "outputs": [
        {
          "output_type": "stream",
          "name": "stdout",
          "text": [
            "Matriz de confusión\n",
            "[[   0   87]\n",
            " [   0 2706]]\n"
          ]
        }
      ]
    },
    {
      "cell_type": "code",
      "source": [
        "#calcular precision del modelo\n",
        "from sklearn.metrics import precision_score\n",
        "precision=precision_score(y_test, y_pred, average=\"binary\", pos_label=\"yes\")\n",
        "print(\"precision del modelo:\")\n",
        "print(precision)"
      ],
      "metadata": {
        "id": "OGRt67FhSyDd",
        "colab": {
          "base_uri": "https://localhost:8080/"
        },
        "outputId": "5b7d58d4-de44-4bf1-f865-6cd226025f25"
      },
      "execution_count": 15,
      "outputs": [
        {
          "output_type": "stream",
          "name": "stdout",
          "text": [
            "precision del modelo:\n",
            "0.9688506981740065\n"
          ]
        }
      ]
    },
    {
      "cell_type": "code",
      "source": [
        "#calcular exactitud\n",
        "from sklearn.metrics import accuracy_score\n",
        "exactitud=accuracy_score(y_test, y_pred)\n",
        "print(\"exactitud del modelo\")\n",
        "print(exactitud)"
      ],
      "metadata": {
        "id": "Bt2K67-PS1Dk",
        "colab": {
          "base_uri": "https://localhost:8080/"
        },
        "outputId": "ef538669-cdb5-447f-f46e-be62f6dfe94f"
      },
      "execution_count": 16,
      "outputs": [
        {
          "output_type": "stream",
          "name": "stdout",
          "text": [
            "exactitud del modelo\n",
            "0.9688506981740065\n"
          ]
        }
      ]
    },
    {
      "cell_type": "code",
      "source": [
        "#calcular la sensibilidad\n",
        "from sklearn.metrics import recall_score\n",
        "\n",
        "sensibilidad=recall_score(y_test, y_pred, average=\"binary\", pos_label=\"yes\")\n",
        "print(\"sensibilidad del modelo\")\n",
        "print(sensibilidad)"
      ],
      "metadata": {
        "id": "Jsdc6jynS27i",
        "colab": {
          "base_uri": "https://localhost:8080/"
        },
        "outputId": "c4d0e047-0716-441f-a88f-c3a51a813bc0"
      },
      "execution_count": 17,
      "outputs": [
        {
          "output_type": "stream",
          "name": "stdout",
          "text": [
            "sensibilidad del modelo\n",
            "1.0\n"
          ]
        }
      ]
    },
    {
      "cell_type": "markdown",
      "source": [
        "MODELO has_availability"
      ],
      "metadata": {
        "id": "ra5fspUrS45Y"
      }
    },
    {
      "cell_type": "code",
      "source": [
        "#Declarar las variables independientes y la dependiente\n",
        "Vars_Indep=df[[\"price\", \"reviews_per_month\", \"bedrooms\"]]\n",
        "Var_Dep=df[\"has_availability\"]\n",
        "X=Vars_Indep\n",
        "y=Var_Dep\n",
        "\n",
        "#Dividimos el conjunto de datos\n",
        "X_train, X_test, y_train, y_test = train_test_split(X,y, test_size=0.30, random_state=None)\n",
        "\n",
        "#Se escalan los datos\n",
        "escalar=StandardScaler()\n",
        "X_train=escalar.fit_transform(X_train)\n",
        "X_test=escalar.fit_transform(X_test)\n",
        "\n",
        "#definimos el algoritmo a utilizar\n",
        "from sklearn.linear_model import LogisticRegression\n",
        "algoritmo=LogisticRegression()\n",
        "\n",
        "#Entrenar el modelo\n",
        "algoritmo.fit(X_train, y_train)\n",
        "\n",
        "y_pred=algoritmo.predict(X_test)\n",
        "from sklearn.metrics import confusion_matrix\n",
        "matriz=confusion_matrix(y_test, y_pred)\n",
        "print(\"Matriz de confusión\")\n",
        "print(matriz)"
      ],
      "metadata": {
        "colab": {
          "base_uri": "https://localhost:8080/"
        },
        "id": "EjhNkwukS-Mo",
        "outputId": "64c0463d-5f1d-4225-a7b8-6123be232d54"
      },
      "execution_count": 18,
      "outputs": [
        {
          "output_type": "stream",
          "name": "stdout",
          "text": [
            "Matriz de confusión\n",
            "[[   0   14]\n",
            " [   0 2779]]\n"
          ]
        }
      ]
    },
    {
      "cell_type": "code",
      "source": [
        "#calcular precision del modelo\n",
        "from sklearn.metrics import precision_score\n",
        "precision=precision_score(y_test, y_pred, average=\"binary\", pos_label=\"yes\")\n",
        "print(\"precision del modelo:\")\n",
        "print(precision)"
      ],
      "metadata": {
        "colab": {
          "base_uri": "https://localhost:8080/"
        },
        "collapsed": true,
        "id": "PV6jnKz4TE0H",
        "outputId": "30e0a18b-4473-4fb0-dd37-5350674c8dfb"
      },
      "execution_count": 19,
      "outputs": [
        {
          "output_type": "stream",
          "name": "stdout",
          "text": [
            "precision del modelo:\n",
            "0.9949874686716792\n"
          ]
        }
      ]
    },
    {
      "cell_type": "code",
      "source": [
        "#calcular exactitud\n",
        "from sklearn.metrics import accuracy_score\n",
        "exactitud=accuracy_score(y_test, y_pred)\n",
        "print(\"exactitud del modelo\")\n",
        "print(exactitud)"
      ],
      "metadata": {
        "id": "s9t3Kmm8THgO",
        "colab": {
          "base_uri": "https://localhost:8080/"
        },
        "outputId": "20459fbd-20e2-4a52-bc28-ac8db63eb968"
      },
      "execution_count": 20,
      "outputs": [
        {
          "output_type": "stream",
          "name": "stdout",
          "text": [
            "exactitud del modelo\n",
            "0.9949874686716792\n"
          ]
        }
      ]
    },
    {
      "cell_type": "code",
      "source": [
        "#calcular la sensibilidad\n",
        "from sklearn.metrics import recall_score\n",
        "\n",
        "sensibilidad=recall_score(y_test, y_pred, average=\"binary\", pos_label=\"yes\")\n",
        "print(\"sensibilidad del modelo\")\n",
        "print(sensibilidad)"
      ],
      "metadata": {
        "id": "g4iDBrLzTKDy",
        "colab": {
          "base_uri": "https://localhost:8080/"
        },
        "outputId": "924bf91d-7913-463d-f978-23069f9d1091"
      },
      "execution_count": 21,
      "outputs": [
        {
          "output_type": "stream",
          "name": "stdout",
          "text": [
            "sensibilidad del modelo\n",
            "1.0\n"
          ]
        }
      ]
    },
    {
      "cell_type": "markdown",
      "source": [
        "------------------------------"
      ],
      "metadata": {
        "id": "A9Ue8HkLnD_R"
      }
    },
    {
      "cell_type": "markdown",
      "source": [
        "---------------"
      ],
      "metadata": {
        "id": "KBgizJHBnHnm"
      }
    },
    {
      "cell_type": "markdown",
      "source": [
        "---------------"
      ],
      "metadata": {
        "id": "k7gbarRgnIrH"
      }
    },
    {
      "cell_type": "markdown",
      "source": [
        "Creación de categorías a partir de clases"
      ],
      "metadata": {
        "id": "u-TVVll3Abdl"
      }
    },
    {
      "cell_type": "markdown",
      "source": [
        "host_acceptance_rate"
      ],
      "metadata": {
        "id": "cgF6vNhRZ46C"
      }
    },
    {
      "cell_type": "code",
      "source": [
        "# Asegurarse de que la columna sea de tipo string\n",
        "df['host_acceptance_rate'] = df['host_acceptance_rate'].astype(str)\n",
        "\n",
        "# Eliminar el símbolo de porcentaje y convertir a numérico\n",
        "df['host_acceptance_rate'] = pd.to_numeric(df['host_acceptance_rate'].str.replace('%', ''), errors='coerce')\n",
        "\n",
        "df['host_acceptance_rate'] = df['host_acceptance_rate'] / 100\n",
        "df[\"host_acceptance_rate\"] = df[\"host_acceptance_rate\"].fillna(round(df[\"host_acceptance_rate\"].mean(), 1))"
      ],
      "metadata": {
        "id": "jE495DqBZ8dS"
      },
      "execution_count": 115,
      "outputs": []
    },
    {
      "cell_type": "code",
      "source": [
        "Max=df[\"host_acceptance_rate\"].max()\n",
        "Min=df[\"host_acceptance_rate\"].min()\n",
        "Limites=[Min, Max]\n",
        "Limites"
      ],
      "metadata": {
        "colab": {
          "base_uri": "https://localhost:8080/"
        },
        "id": "rIVpzQkUaBBA",
        "outputId": "36575f4a-261b-43d5-df56-699f7de99684"
      },
      "execution_count": 116,
      "outputs": [
        {
          "output_type": "execute_result",
          "data": {
            "text/plain": [
              "[0.0, 1.0]"
            ]
          },
          "metadata": {},
          "execution_count": 116
        }
      ]
    },
    {
      "cell_type": "code",
      "source": [
        "#categorizar las variables\n",
        "#declarar dos intervalos\n",
        "\n",
        "intervalos=np.linspace(-0.1, 1.1,3)\n",
        "intervalos\n",
        "\n",
        "#Crear las categorías\n",
        "categorias=[\"Aceptacion baja\", \"Aceptacion alta\"]\n",
        "\n",
        "df[\"host_acceptance_rate\"]=pd.cut(x=df[\"host_acceptance_rate\"], bins=intervalos, labels=categorias)\n",
        "\n",
        "df[\"host_acceptance_rate\"]"
      ],
      "metadata": {
        "colab": {
          "base_uri": "https://localhost:8080/",
          "height": 458
        },
        "id": "5ufZsWj8aFHY",
        "outputId": "cfb7e037-466c-4cdb-c457-6924daba4246"
      },
      "execution_count": 117,
      "outputs": [
        {
          "output_type": "execute_result",
          "data": {
            "text/plain": [
              "0       Aceptacion alta\n",
              "1       Aceptacion alta\n",
              "2       Aceptacion alta\n",
              "3       Aceptacion alta\n",
              "4       Aceptacion alta\n",
              "             ...       \n",
              "9305    Aceptacion alta\n",
              "9306    Aceptacion alta\n",
              "9307    Aceptacion alta\n",
              "9308    Aceptacion alta\n",
              "9309    Aceptacion alta\n",
              "Name: host_acceptance_rate, Length: 9310, dtype: category\n",
              "Categories (2, object): ['Aceptacion baja' < 'Aceptacion alta']"
            ],
            "text/html": [
              "<div>\n",
              "<style scoped>\n",
              "    .dataframe tbody tr th:only-of-type {\n",
              "        vertical-align: middle;\n",
              "    }\n",
              "\n",
              "    .dataframe tbody tr th {\n",
              "        vertical-align: top;\n",
              "    }\n",
              "\n",
              "    .dataframe thead th {\n",
              "        text-align: right;\n",
              "    }\n",
              "</style>\n",
              "<table border=\"1\" class=\"dataframe\">\n",
              "  <thead>\n",
              "    <tr style=\"text-align: right;\">\n",
              "      <th></th>\n",
              "      <th>host_acceptance_rate</th>\n",
              "    </tr>\n",
              "  </thead>\n",
              "  <tbody>\n",
              "    <tr>\n",
              "      <th>0</th>\n",
              "      <td>Aceptacion alta</td>\n",
              "    </tr>\n",
              "    <tr>\n",
              "      <th>1</th>\n",
              "      <td>Aceptacion alta</td>\n",
              "    </tr>\n",
              "    <tr>\n",
              "      <th>2</th>\n",
              "      <td>Aceptacion alta</td>\n",
              "    </tr>\n",
              "    <tr>\n",
              "      <th>3</th>\n",
              "      <td>Aceptacion alta</td>\n",
              "    </tr>\n",
              "    <tr>\n",
              "      <th>4</th>\n",
              "      <td>Aceptacion alta</td>\n",
              "    </tr>\n",
              "    <tr>\n",
              "      <th>...</th>\n",
              "      <td>...</td>\n",
              "    </tr>\n",
              "    <tr>\n",
              "      <th>9305</th>\n",
              "      <td>Aceptacion alta</td>\n",
              "    </tr>\n",
              "    <tr>\n",
              "      <th>9306</th>\n",
              "      <td>Aceptacion alta</td>\n",
              "    </tr>\n",
              "    <tr>\n",
              "      <th>9307</th>\n",
              "      <td>Aceptacion alta</td>\n",
              "    </tr>\n",
              "    <tr>\n",
              "      <th>9308</th>\n",
              "      <td>Aceptacion alta</td>\n",
              "    </tr>\n",
              "    <tr>\n",
              "      <th>9309</th>\n",
              "      <td>Aceptacion alta</td>\n",
              "    </tr>\n",
              "  </tbody>\n",
              "</table>\n",
              "<p>9310 rows × 1 columns</p>\n",
              "</div><br><label><b>dtype:</b> category</label>"
            ]
          },
          "metadata": {},
          "execution_count": 117
        }
      ]
    },
    {
      "cell_type": "markdown",
      "source": [
        "host_response_rate"
      ],
      "metadata": {
        "id": "Ll4gb_ZQf4nZ"
      }
    },
    {
      "cell_type": "code",
      "source": [
        "# Asegurarse de que la columna sea de tipo string\n",
        "df['host_response_rate'] = df['host_response_rate'].astype(str)\n",
        "\n",
        "# Eliminar el símbolo de porcentaje y convertir a numérico\n",
        "df['host_response_rate'] = pd.to_numeric(df['host_response_rate'].str.replace('%', ''), errors='coerce')\n",
        "\n",
        "df['host_response_rate'] = df['host_response_rate'] / 100\n",
        "df[\"host_response_rate\"] = df[\"host_response_rate\"].fillna(round(df[\"host_response_rate\"].mean(), 1))"
      ],
      "metadata": {
        "id": "JEDORq7UYc5W"
      },
      "execution_count": 118,
      "outputs": []
    },
    {
      "cell_type": "code",
      "source": [
        "Max=df[\"host_response_rate\"].max()\n",
        "Min=df[\"host_response_rate\"].min()\n",
        "Limites=[Min, Max]\n",
        "Limites"
      ],
      "metadata": {
        "colab": {
          "base_uri": "https://localhost:8080/"
        },
        "collapsed": true,
        "id": "57Zcdb_Gfz-Z",
        "outputId": "21ecd72a-0b20-42ad-9134-2a42b4b40e88"
      },
      "execution_count": 119,
      "outputs": [
        {
          "output_type": "execute_result",
          "data": {
            "text/plain": [
              "[0.0, 1.0]"
            ]
          },
          "metadata": {},
          "execution_count": 119
        }
      ]
    },
    {
      "cell_type": "code",
      "source": [
        "#categorizar las variables\n",
        "#declarar dos intervalos\n",
        "\n",
        "intervalos=np.linspace(-0.1, 1.1,3)\n",
        "intervalos\n",
        "\n",
        "#Crear las categorías\n",
        "categorias=[\"Respuesta baja\", \"Respuesta alta\"]\n",
        "\n",
        "df[\"host_response_rate\"]=pd.cut(x=df[\"host_response_rate\"], bins=intervalos, labels=categorias)\n",
        "\n",
        "df[\"host_response_rate\"]"
      ],
      "metadata": {
        "colab": {
          "base_uri": "https://localhost:8080/",
          "height": 458
        },
        "collapsed": true,
        "id": "CiKATMRaYoTY",
        "outputId": "96c43d81-1ae4-4922-cdcf-6917ac616dbb"
      },
      "execution_count": 120,
      "outputs": [
        {
          "output_type": "execute_result",
          "data": {
            "text/plain": [
              "0       Respuesta alta\n",
              "1       Respuesta baja\n",
              "2       Respuesta alta\n",
              "3       Respuesta alta\n",
              "4       Respuesta alta\n",
              "             ...      \n",
              "9305    Respuesta alta\n",
              "9306    Respuesta alta\n",
              "9307    Respuesta alta\n",
              "9308    Respuesta alta\n",
              "9309    Respuesta alta\n",
              "Name: host_response_rate, Length: 9310, dtype: category\n",
              "Categories (2, object): ['Respuesta baja' < 'Respuesta alta']"
            ],
            "text/html": [
              "<div>\n",
              "<style scoped>\n",
              "    .dataframe tbody tr th:only-of-type {\n",
              "        vertical-align: middle;\n",
              "    }\n",
              "\n",
              "    .dataframe tbody tr th {\n",
              "        vertical-align: top;\n",
              "    }\n",
              "\n",
              "    .dataframe thead th {\n",
              "        text-align: right;\n",
              "    }\n",
              "</style>\n",
              "<table border=\"1\" class=\"dataframe\">\n",
              "  <thead>\n",
              "    <tr style=\"text-align: right;\">\n",
              "      <th></th>\n",
              "      <th>host_response_rate</th>\n",
              "    </tr>\n",
              "  </thead>\n",
              "  <tbody>\n",
              "    <tr>\n",
              "      <th>0</th>\n",
              "      <td>Respuesta alta</td>\n",
              "    </tr>\n",
              "    <tr>\n",
              "      <th>1</th>\n",
              "      <td>Respuesta baja</td>\n",
              "    </tr>\n",
              "    <tr>\n",
              "      <th>2</th>\n",
              "      <td>Respuesta alta</td>\n",
              "    </tr>\n",
              "    <tr>\n",
              "      <th>3</th>\n",
              "      <td>Respuesta alta</td>\n",
              "    </tr>\n",
              "    <tr>\n",
              "      <th>4</th>\n",
              "      <td>Respuesta alta</td>\n",
              "    </tr>\n",
              "    <tr>\n",
              "      <th>...</th>\n",
              "      <td>...</td>\n",
              "    </tr>\n",
              "    <tr>\n",
              "      <th>9305</th>\n",
              "      <td>Respuesta alta</td>\n",
              "    </tr>\n",
              "    <tr>\n",
              "      <th>9306</th>\n",
              "      <td>Respuesta alta</td>\n",
              "    </tr>\n",
              "    <tr>\n",
              "      <th>9307</th>\n",
              "      <td>Respuesta alta</td>\n",
              "    </tr>\n",
              "    <tr>\n",
              "      <th>9308</th>\n",
              "      <td>Respuesta alta</td>\n",
              "    </tr>\n",
              "    <tr>\n",
              "      <th>9309</th>\n",
              "      <td>Respuesta alta</td>\n",
              "    </tr>\n",
              "  </tbody>\n",
              "</table>\n",
              "<p>9310 rows × 1 columns</p>\n",
              "</div><br><label><b>dtype:</b> category</label>"
            ]
          },
          "metadata": {},
          "execution_count": 120
        }
      ]
    },
    {
      "cell_type": "markdown",
      "source": [
        "host_total_listings_count"
      ],
      "metadata": {
        "id": "V2U6_GUlgoNr"
      }
    },
    {
      "cell_type": "code",
      "source": [
        "Max=df[\"host_total_listings_count\"].max()\n",
        "Min=df[\"host_total_listings_count\"].min()\n",
        "Limites=[Min, Max]\n",
        "Limites"
      ],
      "metadata": {
        "colab": {
          "base_uri": "https://localhost:8080/"
        },
        "collapsed": true,
        "id": "Ox1376jYg7Kt",
        "outputId": "2682d73e-5245-42d0-bf05-542228ae121d"
      },
      "execution_count": 121,
      "outputs": [
        {
          "output_type": "execute_result",
          "data": {
            "text/plain": [
              "[1.0, 127.0]"
            ]
          },
          "metadata": {},
          "execution_count": 121
        }
      ]
    },
    {
      "cell_type": "code",
      "source": [
        "#categorizar las variables\n",
        "#declarar dos intervalos\n",
        "\n",
        "intervalos=np.linspace(0.9, 127.1,3)\n",
        "intervalos\n",
        "\n",
        "#Crear las categorías\n",
        "categorias=[\"Aceptacion baja\", \"Aceptacion alta\"]\n",
        "\n",
        "df[\"host_total_listings_count\"]=pd.cut(x=df[\"host_total_listings_count\"], bins=intervalos, labels=categorias)\n",
        "\n",
        "df[\"host_total_listings_count\"]"
      ],
      "metadata": {
        "id": "BhC4YlNraky6"
      },
      "execution_count": null,
      "outputs": []
    },
    {
      "cell_type": "markdown",
      "source": [
        "number_of_reviews"
      ],
      "metadata": {
        "id": "Yk3Wddz4hOkf"
      }
    },
    {
      "cell_type": "code",
      "source": [
        "Max=df[\"number_of_reviews\"].max()\n",
        "Min=df[\"number_of_reviews\"].min()\n",
        "Limites=[Min, Max]\n",
        "Limites"
      ],
      "metadata": {
        "colab": {
          "base_uri": "https://localhost:8080/"
        },
        "collapsed": true,
        "id": "_wCXh6JLhNiL",
        "outputId": "b14acb1c-e913-4c97-c411-1c72919f9855"
      },
      "execution_count": 123,
      "outputs": [
        {
          "output_type": "execute_result",
          "data": {
            "text/plain": [
              "[0.0, 395.0]"
            ]
          },
          "metadata": {},
          "execution_count": 123
        }
      ]
    },
    {
      "cell_type": "code",
      "source": [
        "\n",
        "#categorizar las variables\n",
        "#declarar dos intervalos\n",
        "\n",
        "intervalos=np.linspace(-0.1, 395.1,3)\n",
        "intervalos\n",
        "\n",
        "#Crear las categorías\n",
        "categorias=[\"Reseñas bajas\", \"Reseñas altas\"]\n",
        "\n",
        "df[\"number_of_reviews\"]=pd.cut(x=df[\"number_of_reviews\"], bins=intervalos, labels=categorias)\n",
        "\n",
        "df[\"number_of_reviews\"]"
      ],
      "metadata": {
        "colab": {
          "base_uri": "https://localhost:8080/",
          "height": 458
        },
        "collapsed": true,
        "id": "r6mLaZA6asrM",
        "outputId": "287f6b1e-fd90-4135-8220-03c1a3df860d"
      },
      "execution_count": 124,
      "outputs": [
        {
          "output_type": "execute_result",
          "data": {
            "text/plain": [
              "0       Reseñas bajas\n",
              "1       Reseñas bajas\n",
              "2       Reseñas bajas\n",
              "3       Reseñas bajas\n",
              "4       Reseñas bajas\n",
              "            ...      \n",
              "9305    Reseñas bajas\n",
              "9306    Reseñas bajas\n",
              "9307    Reseñas bajas\n",
              "9308    Reseñas bajas\n",
              "9309    Reseñas bajas\n",
              "Name: number_of_reviews, Length: 9310, dtype: category\n",
              "Categories (2, object): ['Reseñas bajas' < 'Reseñas altas']"
            ],
            "text/html": [
              "<div>\n",
              "<style scoped>\n",
              "    .dataframe tbody tr th:only-of-type {\n",
              "        vertical-align: middle;\n",
              "    }\n",
              "\n",
              "    .dataframe tbody tr th {\n",
              "        vertical-align: top;\n",
              "    }\n",
              "\n",
              "    .dataframe thead th {\n",
              "        text-align: right;\n",
              "    }\n",
              "</style>\n",
              "<table border=\"1\" class=\"dataframe\">\n",
              "  <thead>\n",
              "    <tr style=\"text-align: right;\">\n",
              "      <th></th>\n",
              "      <th>number_of_reviews</th>\n",
              "    </tr>\n",
              "  </thead>\n",
              "  <tbody>\n",
              "    <tr>\n",
              "      <th>0</th>\n",
              "      <td>Reseñas bajas</td>\n",
              "    </tr>\n",
              "    <tr>\n",
              "      <th>1</th>\n",
              "      <td>Reseñas bajas</td>\n",
              "    </tr>\n",
              "    <tr>\n",
              "      <th>2</th>\n",
              "      <td>Reseñas bajas</td>\n",
              "    </tr>\n",
              "    <tr>\n",
              "      <th>3</th>\n",
              "      <td>Reseñas bajas</td>\n",
              "    </tr>\n",
              "    <tr>\n",
              "      <th>4</th>\n",
              "      <td>Reseñas bajas</td>\n",
              "    </tr>\n",
              "    <tr>\n",
              "      <th>...</th>\n",
              "      <td>...</td>\n",
              "    </tr>\n",
              "    <tr>\n",
              "      <th>9305</th>\n",
              "      <td>Reseñas bajas</td>\n",
              "    </tr>\n",
              "    <tr>\n",
              "      <th>9306</th>\n",
              "      <td>Reseñas bajas</td>\n",
              "    </tr>\n",
              "    <tr>\n",
              "      <th>9307</th>\n",
              "      <td>Reseñas bajas</td>\n",
              "    </tr>\n",
              "    <tr>\n",
              "      <th>9308</th>\n",
              "      <td>Reseñas bajas</td>\n",
              "    </tr>\n",
              "    <tr>\n",
              "      <th>9309</th>\n",
              "      <td>Reseñas bajas</td>\n",
              "    </tr>\n",
              "  </tbody>\n",
              "</table>\n",
              "<p>9310 rows × 1 columns</p>\n",
              "</div><br><label><b>dtype:</b> category</label>"
            ]
          },
          "metadata": {},
          "execution_count": 124
        }
      ]
    },
    {
      "cell_type": "markdown",
      "source": [
        "latitude"
      ],
      "metadata": {
        "id": "Rch3sXcshiF5"
      }
    },
    {
      "cell_type": "code",
      "source": [
        "Max=df[\"latitude\"].max()\n",
        "Min=df[\"latitude\"].min()\n",
        "Limites=[Min, Max]\n",
        "Limites"
      ],
      "metadata": {
        "colab": {
          "base_uri": "https://localhost:8080/"
        },
        "collapsed": true,
        "id": "MMWhnCB4hgew",
        "outputId": "3dc8fa9e-f504-4d0d-9643-05728d53ce6a"
      },
      "execution_count": 125,
      "outputs": [
        {
          "output_type": "execute_result",
          "data": {
            "text/plain": [
              "[52.31458, 52.41878]"
            ]
          },
          "metadata": {},
          "execution_count": 125
        }
      ]
    },
    {
      "cell_type": "code",
      "source": [
        "#categorizar las variables\n",
        "#declarar dos intervalos\n",
        "\n",
        "intervalos=np.linspace(52.30, 52.5,3)\n",
        "intervalos\n",
        "\n",
        "#Crear las categorías\n",
        "categorias=[\"Latitud bajas\", \"Latitud altas\"]\n",
        "\n",
        "df[\"latitude\"]=pd.cut(x=df[\"latitude\"], bins=intervalos, labels=categorias)\n",
        "\n",
        "df[\"latitude\"]"
      ],
      "metadata": {
        "colab": {
          "base_uri": "https://localhost:8080/",
          "height": 458
        },
        "collapsed": true,
        "id": "2oIMxMBPa5ZI",
        "outputId": "fa69ba74-15df-4fae-bc93-8d618bf791de"
      },
      "execution_count": 126,
      "outputs": [
        {
          "output_type": "execute_result",
          "data": {
            "text/plain": [
              "0       Latitud bajas\n",
              "1       Latitud bajas\n",
              "2       Latitud bajas\n",
              "3       Latitud bajas\n",
              "4       Latitud bajas\n",
              "            ...      \n",
              "9305    Latitud bajas\n",
              "9306    Latitud bajas\n",
              "9307    Latitud altas\n",
              "9308    Latitud bajas\n",
              "9309    Latitud bajas\n",
              "Name: latitude, Length: 9310, dtype: category\n",
              "Categories (2, object): ['Latitud bajas' < 'Latitud altas']"
            ],
            "text/html": [
              "<div>\n",
              "<style scoped>\n",
              "    .dataframe tbody tr th:only-of-type {\n",
              "        vertical-align: middle;\n",
              "    }\n",
              "\n",
              "    .dataframe tbody tr th {\n",
              "        vertical-align: top;\n",
              "    }\n",
              "\n",
              "    .dataframe thead th {\n",
              "        text-align: right;\n",
              "    }\n",
              "</style>\n",
              "<table border=\"1\" class=\"dataframe\">\n",
              "  <thead>\n",
              "    <tr style=\"text-align: right;\">\n",
              "      <th></th>\n",
              "      <th>latitude</th>\n",
              "    </tr>\n",
              "  </thead>\n",
              "  <tbody>\n",
              "    <tr>\n",
              "      <th>0</th>\n",
              "      <td>Latitud bajas</td>\n",
              "    </tr>\n",
              "    <tr>\n",
              "      <th>1</th>\n",
              "      <td>Latitud bajas</td>\n",
              "    </tr>\n",
              "    <tr>\n",
              "      <th>2</th>\n",
              "      <td>Latitud bajas</td>\n",
              "    </tr>\n",
              "    <tr>\n",
              "      <th>3</th>\n",
              "      <td>Latitud bajas</td>\n",
              "    </tr>\n",
              "    <tr>\n",
              "      <th>4</th>\n",
              "      <td>Latitud bajas</td>\n",
              "    </tr>\n",
              "    <tr>\n",
              "      <th>...</th>\n",
              "      <td>...</td>\n",
              "    </tr>\n",
              "    <tr>\n",
              "      <th>9305</th>\n",
              "      <td>Latitud bajas</td>\n",
              "    </tr>\n",
              "    <tr>\n",
              "      <th>9306</th>\n",
              "      <td>Latitud bajas</td>\n",
              "    </tr>\n",
              "    <tr>\n",
              "      <th>9307</th>\n",
              "      <td>Latitud altas</td>\n",
              "    </tr>\n",
              "    <tr>\n",
              "      <th>9308</th>\n",
              "      <td>Latitud bajas</td>\n",
              "    </tr>\n",
              "    <tr>\n",
              "      <th>9309</th>\n",
              "      <td>Latitud bajas</td>\n",
              "    </tr>\n",
              "  </tbody>\n",
              "</table>\n",
              "<p>9310 rows × 1 columns</p>\n",
              "</div><br><label><b>dtype:</b> category</label>"
            ]
          },
          "metadata": {},
          "execution_count": 126
        }
      ]
    },
    {
      "cell_type": "code",
      "source": [
        "df.isnull().sum()"
      ],
      "metadata": {
        "collapsed": true,
        "colab": {
          "base_uri": "https://localhost:8080/",
          "height": 458
        },
        "id": "_lpG1pgZbDkF",
        "outputId": "d5d5bd65-759f-4dd1-9bf2-c164a8ea5c6f"
      },
      "execution_count": 127,
      "outputs": [
        {
          "output_type": "execute_result",
          "data": {
            "text/plain": [
              "Unnamed: 0               0\n",
              "id                       0\n",
              "scrape_id                0\n",
              "host_id                  0\n",
              "host_listings_count      0\n",
              "                        ..\n",
              "calendar_last_scraped    0\n",
              "first_review             0\n",
              "last_review              0\n",
              "license                  0\n",
              "instant_bookable         0\n",
              "Length: 76, dtype: int64"
            ],
            "text/html": [
              "<div>\n",
              "<style scoped>\n",
              "    .dataframe tbody tr th:only-of-type {\n",
              "        vertical-align: middle;\n",
              "    }\n",
              "\n",
              "    .dataframe tbody tr th {\n",
              "        vertical-align: top;\n",
              "    }\n",
              "\n",
              "    .dataframe thead th {\n",
              "        text-align: right;\n",
              "    }\n",
              "</style>\n",
              "<table border=\"1\" class=\"dataframe\">\n",
              "  <thead>\n",
              "    <tr style=\"text-align: right;\">\n",
              "      <th></th>\n",
              "      <th>0</th>\n",
              "    </tr>\n",
              "  </thead>\n",
              "  <tbody>\n",
              "    <tr>\n",
              "      <th>Unnamed: 0</th>\n",
              "      <td>0</td>\n",
              "    </tr>\n",
              "    <tr>\n",
              "      <th>id</th>\n",
              "      <td>0</td>\n",
              "    </tr>\n",
              "    <tr>\n",
              "      <th>scrape_id</th>\n",
              "      <td>0</td>\n",
              "    </tr>\n",
              "    <tr>\n",
              "      <th>host_id</th>\n",
              "      <td>0</td>\n",
              "    </tr>\n",
              "    <tr>\n",
              "      <th>host_listings_count</th>\n",
              "      <td>0</td>\n",
              "    </tr>\n",
              "    <tr>\n",
              "      <th>...</th>\n",
              "      <td>...</td>\n",
              "    </tr>\n",
              "    <tr>\n",
              "      <th>calendar_last_scraped</th>\n",
              "      <td>0</td>\n",
              "    </tr>\n",
              "    <tr>\n",
              "      <th>first_review</th>\n",
              "      <td>0</td>\n",
              "    </tr>\n",
              "    <tr>\n",
              "      <th>last_review</th>\n",
              "      <td>0</td>\n",
              "    </tr>\n",
              "    <tr>\n",
              "      <th>license</th>\n",
              "      <td>0</td>\n",
              "    </tr>\n",
              "    <tr>\n",
              "      <th>instant_bookable</th>\n",
              "      <td>0</td>\n",
              "    </tr>\n",
              "  </tbody>\n",
              "</table>\n",
              "<p>76 rows × 1 columns</p>\n",
              "</div><br><label><b>dtype:</b> int64</label>"
            ]
          },
          "metadata": {},
          "execution_count": 127
        }
      ]
    },
    {
      "cell_type": "code",
      "source": [
        "df =df.fillna(method=\"bfill\")\n",
        "df =df.fillna(method=\"ffill\")\n",
        "df.isnull().sum()"
      ],
      "metadata": {
        "colab": {
          "base_uri": "https://localhost:8080/",
          "height": 550
        },
        "collapsed": true,
        "id": "mF9l8dfol-TA",
        "outputId": "8c9eaf9f-d6ea-4354-cf59-9b76983daf4b"
      },
      "execution_count": 108,
      "outputs": [
        {
          "output_type": "stream",
          "name": "stderr",
          "text": [
            "<ipython-input-108-f51a50de52de>:1: FutureWarning: DataFrame.fillna with 'method' is deprecated and will raise in a future version. Use obj.ffill() or obj.bfill() instead.\n",
            "  df =df.fillna(method=\"bfill\")\n",
            "<ipython-input-108-f51a50de52de>:2: FutureWarning: DataFrame.fillna with 'method' is deprecated and will raise in a future version. Use obj.ffill() or obj.bfill() instead.\n",
            "  df =df.fillna(method=\"ffill\")\n"
          ]
        },
        {
          "output_type": "execute_result",
          "data": {
            "text/plain": [
              "Unnamed: 0               0\n",
              "id                       0\n",
              "scrape_id                0\n",
              "host_id                  0\n",
              "host_listings_count      0\n",
              "                        ..\n",
              "calendar_last_scraped    0\n",
              "first_review             0\n",
              "last_review              0\n",
              "license                  0\n",
              "instant_bookable         0\n",
              "Length: 76, dtype: int64"
            ],
            "text/html": [
              "<div>\n",
              "<style scoped>\n",
              "    .dataframe tbody tr th:only-of-type {\n",
              "        vertical-align: middle;\n",
              "    }\n",
              "\n",
              "    .dataframe tbody tr th {\n",
              "        vertical-align: top;\n",
              "    }\n",
              "\n",
              "    .dataframe thead th {\n",
              "        text-align: right;\n",
              "    }\n",
              "</style>\n",
              "<table border=\"1\" class=\"dataframe\">\n",
              "  <thead>\n",
              "    <tr style=\"text-align: right;\">\n",
              "      <th></th>\n",
              "      <th>0</th>\n",
              "    </tr>\n",
              "  </thead>\n",
              "  <tbody>\n",
              "    <tr>\n",
              "      <th>Unnamed: 0</th>\n",
              "      <td>0</td>\n",
              "    </tr>\n",
              "    <tr>\n",
              "      <th>id</th>\n",
              "      <td>0</td>\n",
              "    </tr>\n",
              "    <tr>\n",
              "      <th>scrape_id</th>\n",
              "      <td>0</td>\n",
              "    </tr>\n",
              "    <tr>\n",
              "      <th>host_id</th>\n",
              "      <td>0</td>\n",
              "    </tr>\n",
              "    <tr>\n",
              "      <th>host_listings_count</th>\n",
              "      <td>0</td>\n",
              "    </tr>\n",
              "    <tr>\n",
              "      <th>...</th>\n",
              "      <td>...</td>\n",
              "    </tr>\n",
              "    <tr>\n",
              "      <th>calendar_last_scraped</th>\n",
              "      <td>0</td>\n",
              "    </tr>\n",
              "    <tr>\n",
              "      <th>first_review</th>\n",
              "      <td>0</td>\n",
              "    </tr>\n",
              "    <tr>\n",
              "      <th>last_review</th>\n",
              "      <td>0</td>\n",
              "    </tr>\n",
              "    <tr>\n",
              "      <th>license</th>\n",
              "      <td>0</td>\n",
              "    </tr>\n",
              "    <tr>\n",
              "      <th>instant_bookable</th>\n",
              "      <td>0</td>\n",
              "    </tr>\n",
              "  </tbody>\n",
              "</table>\n",
              "<p>76 rows × 1 columns</p>\n",
              "</div><br><label><b>dtype:</b> int64</label>"
            ]
          },
          "metadata": {},
          "execution_count": 108
        }
      ]
    },
    {
      "cell_type": "markdown",
      "source": [
        "---------------"
      ],
      "metadata": {
        "id": "6ofSX8DQnPQY"
      }
    },
    {
      "cell_type": "markdown",
      "source": [
        "---------------"
      ],
      "metadata": {
        "id": "1WEIUjb5nN-L"
      }
    },
    {
      "cell_type": "markdown",
      "source": [
        "---------------"
      ],
      "metadata": {
        "id": "yUQjPHXdnOZQ"
      }
    },
    {
      "cell_type": "markdown",
      "source": [
        "Regresión logistica"
      ],
      "metadata": {
        "id": "SznD29ePjv4l"
      }
    },
    {
      "cell_type": "markdown",
      "source": [
        "host_acceptance_rate"
      ],
      "metadata": {
        "id": "4a0JAdYVm2Xx"
      }
    },
    {
      "cell_type": "code",
      "source": [
        "#Declarar las variables independientes y la dependiente\n",
        "Vars_Indep=df[[\"price\", \"accommodates\", \"bedrooms\"]]\n",
        "Var_Dep=df[\"host_acceptance_rate\"]\n",
        "X=Vars_Indep\n",
        "y=Var_Dep\n",
        "\n",
        "#Dividimos el conjunto de datos\n",
        "X_train, X_test, y_train, y_test = train_test_split(X,y, test_size=0.30, random_state=None)\n",
        "\n",
        "#Se escalan los datos\n",
        "escalar=StandardScaler()\n",
        "X_train=escalar.fit_transform(X_train)\n",
        "X_test=escalar.fit_transform(X_test)\n",
        "\n",
        "#definimos el algoritmo a utilizar\n",
        "from sklearn.linear_model import LogisticRegression\n",
        "algoritmo=LogisticRegression()\n",
        "\n",
        "#Entrenar el modelo\n",
        "algoritmo.fit(X_train, y_train)\n",
        "\n",
        "y_pred=algoritmo.predict(X_test)\n",
        "from sklearn.metrics import confusion_matrix\n",
        "matriz=confusion_matrix(y_test, y_pred)\n",
        "print(\"Matriz de confusión\")\n",
        "print(matriz)"
      ],
      "metadata": {
        "colab": {
          "base_uri": "https://localhost:8080/"
        },
        "collapsed": true,
        "id": "R9pSmdj3jxoM",
        "outputId": "db798919-1baa-4183-a934-bed8ad50fae2"
      },
      "execution_count": 128,
      "outputs": [
        {
          "output_type": "stream",
          "name": "stdout",
          "text": [
            "Matriz de confusión\n",
            "[[2222    0]\n",
            " [ 571    0]]\n"
          ]
        }
      ]
    },
    {
      "cell_type": "code",
      "source": [
        "#calcular precision del modelo\n",
        "from sklearn.metrics import precision_score\n",
        "precision=precision_score(y_test, y_pred, average=\"binary\", pos_label=\"Aceptacion alta\")\n",
        "print(\"precision del modelo:\")\n",
        "print(precision)"
      ],
      "metadata": {
        "id": "DMVq_kKVnVVM",
        "colab": {
          "base_uri": "https://localhost:8080/"
        },
        "outputId": "4a5145c2-3a1d-4ae2-ca01-dd86c50352a0"
      },
      "execution_count": 131,
      "outputs": [
        {
          "output_type": "stream",
          "name": "stdout",
          "text": [
            "precision del modelo:\n",
            "0.7955603293949158\n"
          ]
        }
      ]
    },
    {
      "cell_type": "code",
      "source": [
        "#calcular exactitud\n",
        "from sklearn.metrics import accuracy_score\n",
        "exactitud=accuracy_score(y_test, y_pred)\n",
        "print(\"exactitud del modelo\")\n",
        "print(exactitud)"
      ],
      "metadata": {
        "id": "EmyIHw4NnfdH",
        "colab": {
          "base_uri": "https://localhost:8080/"
        },
        "collapsed": true,
        "outputId": "3bde1237-d191-4b99-858b-606edff65da2"
      },
      "execution_count": 132,
      "outputs": [
        {
          "output_type": "stream",
          "name": "stdout",
          "text": [
            "exactitud del modelo\n",
            "0.7955603293949158\n"
          ]
        }
      ]
    },
    {
      "cell_type": "code",
      "source": [
        "from sklearn.metrics import recall_score\n",
        "\n",
        "sensibilidad=recall_score(y_test, y_pred, average=\"binary\", pos_label=\"Aceptacion alta\")\n",
        "print(\"sensibilidad del modelo\")\n",
        "print(sensibilidad)"
      ],
      "metadata": {
        "id": "-YQfpjz3novl",
        "colab": {
          "base_uri": "https://localhost:8080/"
        },
        "collapsed": true,
        "outputId": "d8d4ea11-3915-4f47-c4bc-acd72b6917df"
      },
      "execution_count": 133,
      "outputs": [
        {
          "output_type": "stream",
          "name": "stdout",
          "text": [
            "sensibilidad del modelo\n",
            "1.0\n"
          ]
        }
      ]
    },
    {
      "cell_type": "markdown",
      "source": [
        "host_response_rate"
      ],
      "metadata": {
        "id": "ML9-DZv2m5uC"
      }
    },
    {
      "cell_type": "code",
      "source": [
        "#Declarar las variables independientes y la dependiente\n",
        "Vars_Indep=df[[\"price\", \"accommodates\", \"bedrooms\"]]\n",
        "Var_Dep=df[\"host_response_rate\"]\n",
        "X=Vars_Indep\n",
        "y=Var_Dep\n",
        "\n",
        "#Dividimos el conjunto de datos\n",
        "X_train, X_test, y_train, y_test = train_test_split(X,y, test_size=0.30, random_state=None)\n",
        "\n",
        "#Se escalan los datos\n",
        "escalar=StandardScaler()\n",
        "X_train=escalar.fit_transform(X_train)\n",
        "X_test=escalar.fit_transform(X_test)\n",
        "\n",
        "#definimos el algoritmo a utilizar\n",
        "from sklearn.linear_model import LogisticRegression\n",
        "algoritmo=LogisticRegression()\n",
        "\n",
        "#Entrenar el modelo\n",
        "algoritmo.fit(X_train, y_train)\n",
        "\n",
        "y_pred=algoritmo.predict(X_test)\n",
        "from sklearn.metrics import confusion_matrix\n",
        "matriz=confusion_matrix(y_test, y_pred)\n",
        "print(\"Matriz de confusión\")\n",
        "print(matriz)"
      ],
      "metadata": {
        "colab": {
          "base_uri": "https://localhost:8080/"
        },
        "collapsed": true,
        "id": "H18dz1HimMyt",
        "outputId": "5b7ec055-37cf-4e16-a257-7db65ea0f13d"
      },
      "execution_count": 134,
      "outputs": [
        {
          "output_type": "stream",
          "name": "stdout",
          "text": [
            "Matriz de confusión\n",
            "[[2704    0]\n",
            " [  89    0]]\n"
          ]
        }
      ]
    },
    {
      "cell_type": "code",
      "source": [
        "#calcular precision del modelo\n",
        "from sklearn.metrics import precision_score\n",
        "precision=precision_score(y_test, y_pred, average=\"binary\", pos_label=\"Respuesta alta\")\n",
        "print(\"precision del modelo:\")\n",
        "print(precision)"
      ],
      "metadata": {
        "id": "T-kvOPLbnWhN",
        "colab": {
          "base_uri": "https://localhost:8080/"
        },
        "outputId": "4740203e-7be6-42df-b41d-e8247ae3c62a"
      },
      "execution_count": 136,
      "outputs": [
        {
          "output_type": "stream",
          "name": "stdout",
          "text": [
            "precision del modelo:\n",
            "0.9681346222699606\n"
          ]
        }
      ]
    },
    {
      "cell_type": "code",
      "source": [
        "#calcular exactitud\n",
        "from sklearn.metrics import accuracy_score\n",
        "exactitud=accuracy_score(y_test, y_pred)\n",
        "print(\"exactitud del modelo\")\n",
        "print(exactitud)"
      ],
      "metadata": {
        "id": "UmGxW_DXngZ7",
        "colab": {
          "base_uri": "https://localhost:8080/"
        },
        "outputId": "aab07162-2a53-4a43-f015-25ac66976301"
      },
      "execution_count": 137,
      "outputs": [
        {
          "output_type": "stream",
          "name": "stdout",
          "text": [
            "exactitud del modelo\n",
            "0.9681346222699606\n"
          ]
        }
      ]
    },
    {
      "cell_type": "code",
      "source": [
        "from sklearn.metrics import recall_score\n",
        "\n",
        "sensibilidad=recall_score(y_test, y_pred, average=\"binary\", pos_label=\"Respuesta alta\")\n",
        "print(\"sensibilidad del modelo\")\n",
        "print(sensibilidad)"
      ],
      "metadata": {
        "id": "1TAp2Mq1nn1j",
        "colab": {
          "base_uri": "https://localhost:8080/"
        },
        "outputId": "ed1a83e6-d2e5-4080-dddd-691881edd0d2"
      },
      "execution_count": 139,
      "outputs": [
        {
          "output_type": "stream",
          "name": "stdout",
          "text": [
            "sensibilidad del modelo\n",
            "1.0\n"
          ]
        }
      ]
    },
    {
      "cell_type": "markdown",
      "source": [
        "host_total_listings_count"
      ],
      "metadata": {
        "id": "r8iWRrfLm7td"
      }
    },
    {
      "cell_type": "code",
      "source": [
        "#Declarar las variables independientes y la dependiente\n",
        "Vars_Indep=df[[\"price\", \"accommodates\", \"bedrooms\"]]\n",
        "Var_Dep=df[\"host_total_listings_count\"]\n",
        "X=Vars_Indep\n",
        "y=Var_Dep\n",
        "\n",
        "#Dividimos el conjunto de datos\n",
        "X_train, X_test, y_train, y_test = train_test_split(X,y, test_size=0.3, random_state=None)\n",
        "\n",
        "#Se escalan los datos\n",
        "escalar=StandardScaler()\n",
        "X_train=escalar.fit_transform(X_train)\n",
        "X_test=escalar.fit_transform(X_test)\n",
        "\n",
        "#definimos el algoritmo a utilizar\n",
        "from sklearn.linear_model import LogisticRegression\n",
        "algoritmo=LogisticRegression()\n",
        "\n",
        "#Entrenar el modelo\n",
        "algoritmo.fit(X_train, y_train)\n",
        "\n",
        "y_pred=algoritmo.predict(X_test)\n",
        "from sklearn.metrics import confusion_matrix\n",
        "matriz=confusion_matrix(y_test, y_pred)\n",
        "print(\"Matriz de confusión\")\n",
        "print(matriz)"
      ],
      "metadata": {
        "colab": {
          "base_uri": "https://localhost:8080/"
        },
        "collapsed": true,
        "id": "64E6D-KVmdTS",
        "outputId": "ed01ed39-f0a2-45a1-b364-bc3cd48f6933"
      },
      "execution_count": 218,
      "outputs": [
        {
          "output_type": "stream",
          "name": "stdout",
          "text": [
            "Matriz de confusión\n",
            "[[   0   11]\n",
            " [   0 2782]]\n"
          ]
        }
      ]
    },
    {
      "cell_type": "code",
      "source": [
        "df2=df.groupby([\"host_total_listings_count\"])[\"host_total_listings_count\"].count()\n",
        "df2"
      ],
      "metadata": {
        "colab": {
          "base_uri": "https://localhost:8080/",
          "height": 234
        },
        "id": "p3jcgc_td3q5",
        "outputId": "81c427ee-3c28-43ee-b2fa-be229692be22"
      },
      "execution_count": 160,
      "outputs": [
        {
          "output_type": "stream",
          "name": "stderr",
          "text": [
            "<ipython-input-160-007228395fa2>:1: FutureWarning: The default of observed=False is deprecated and will be changed to True in a future version of pandas. Pass observed=False to retain current behavior or observed=True to adopt the future default and silence this warning.\n",
            "  df2=df.groupby([\"host_total_listings_count\"])[\"host_total_listings_count\"].count()\n"
          ]
        },
        {
          "output_type": "execute_result",
          "data": {
            "text/plain": [
              "host_total_listings_count\n",
              "Aceptacion baja    9275\n",
              "Aceptacion alta      35\n",
              "Name: host_total_listings_count, dtype: int64"
            ],
            "text/html": [
              "<div>\n",
              "<style scoped>\n",
              "    .dataframe tbody tr th:only-of-type {\n",
              "        vertical-align: middle;\n",
              "    }\n",
              "\n",
              "    .dataframe tbody tr th {\n",
              "        vertical-align: top;\n",
              "    }\n",
              "\n",
              "    .dataframe thead th {\n",
              "        text-align: right;\n",
              "    }\n",
              "</style>\n",
              "<table border=\"1\" class=\"dataframe\">\n",
              "  <thead>\n",
              "    <tr style=\"text-align: right;\">\n",
              "      <th></th>\n",
              "      <th>host_total_listings_count</th>\n",
              "    </tr>\n",
              "    <tr>\n",
              "      <th>host_total_listings_count</th>\n",
              "      <th></th>\n",
              "    </tr>\n",
              "  </thead>\n",
              "  <tbody>\n",
              "    <tr>\n",
              "      <th>Aceptacion baja</th>\n",
              "      <td>9275</td>\n",
              "    </tr>\n",
              "    <tr>\n",
              "      <th>Aceptacion alta</th>\n",
              "      <td>35</td>\n",
              "    </tr>\n",
              "  </tbody>\n",
              "</table>\n",
              "</div><br><label><b>dtype:</b> int64</label>"
            ]
          },
          "metadata": {},
          "execution_count": 160
        }
      ]
    },
    {
      "cell_type": "code",
      "source": [
        "#calcular precision del modelo\n",
        "from sklearn.metrics import precision_score\n",
        "precision=precision_score(y_test, y_pred, average=\"binary\", pos_label=\"Aceptacion alta\")\n",
        "print(\"precision del modelo:\")\n",
        "print(precision)"
      ],
      "metadata": {
        "id": "gkyQ66n2nXnU",
        "colab": {
          "base_uri": "https://localhost:8080/"
        },
        "outputId": "c06bdf36-b416-4f27-ecf5-f1652f326298"
      },
      "execution_count": 144,
      "outputs": [
        {
          "output_type": "stream",
          "name": "stdout",
          "text": [
            "precision del modelo:\n",
            "0.0\n"
          ]
        },
        {
          "output_type": "stream",
          "name": "stderr",
          "text": [
            "/usr/local/lib/python3.10/dist-packages/sklearn/metrics/_classification.py:1531: UndefinedMetricWarning: Precision is ill-defined and being set to 0.0 due to no predicted samples. Use `zero_division` parameter to control this behavior.\n",
            "  _warn_prf(average, modifier, f\"{metric.capitalize()} is\", len(result))\n"
          ]
        }
      ]
    },
    {
      "cell_type": "code",
      "source": [
        "#calcular exactitud\n",
        "from sklearn.metrics import accuracy_score\n",
        "exactitud=accuracy_score(y_test, y_pred)\n",
        "print(\"exactitud del modelo\")\n",
        "print(exactitud)"
      ],
      "metadata": {
        "id": "A_z7ok8mnhcl",
        "colab": {
          "base_uri": "https://localhost:8080/"
        },
        "outputId": "7b4bcdce-8a86-4d36-dc28-2f83be10b27f"
      },
      "execution_count": 145,
      "outputs": [
        {
          "output_type": "stream",
          "name": "stdout",
          "text": [
            "exactitud del modelo\n",
            "0.9967776584317938\n"
          ]
        }
      ]
    },
    {
      "cell_type": "code",
      "source": [
        "from sklearn.metrics import recall_score\n",
        "\n",
        "sensibilidad=recall_score(y_test, y_pred, average=\"binary\", pos_label=\"Aceptacion alta\")\n",
        "print(\"sensibilidad del modelo\")\n",
        "print(sensibilidad)"
      ],
      "metadata": {
        "id": "RchIZNSGnnAD",
        "colab": {
          "base_uri": "https://localhost:8080/"
        },
        "outputId": "788af03d-69c4-4cb9-99db-a7f8f8fce94f"
      },
      "execution_count": 147,
      "outputs": [
        {
          "output_type": "stream",
          "name": "stdout",
          "text": [
            "sensibilidad del modelo\n",
            "0.0\n"
          ]
        }
      ]
    },
    {
      "cell_type": "markdown",
      "source": [
        "number_of_reviews"
      ],
      "metadata": {
        "id": "ted9dgKUm--w"
      }
    },
    {
      "cell_type": "code",
      "source": [
        "#Declarar las variables independientes y la dependiente\n",
        "Vars_Indep=df[[\"price\", \"accommodates\", \"bedrooms\"]]\n",
        "Var_Dep=df[\"number_of_reviews\"]\n",
        "X=Vars_Indep\n",
        "y=Var_Dep\n",
        "\n",
        "#Dividimos el conjunto de datos\n",
        "X_train, X_test, y_train, y_test = train_test_split(X,y, test_size=0.30, random_state=None)\n",
        "\n",
        "#Se escalan los datos\n",
        "escalar=StandardScaler()\n",
        "X_train=escalar.fit_transform(X_train)\n",
        "X_test=escalar.fit_transform(X_test)\n",
        "\n",
        "#definimos el algoritmo a utilizar\n",
        "from sklearn.linear_model import LogisticRegression\n",
        "algoritmo=LogisticRegression()\n",
        "\n",
        "#Entrenar el modelo\n",
        "algoritmo.fit(X_train, y_train)\n",
        "\n",
        "y_pred=algoritmo.predict(X_test)\n",
        "from sklearn.metrics import confusion_matrix\n",
        "matriz=confusion_matrix(y_test, y_pred)\n",
        "print(\"Matriz de confusión\")\n",
        "print(matriz)"
      ],
      "metadata": {
        "colab": {
          "base_uri": "https://localhost:8080/"
        },
        "collapsed": true,
        "id": "GSspVkD5mi-S",
        "outputId": "f261d7b3-5eea-400d-936c-7e47fd2f30e6"
      },
      "execution_count": 148,
      "outputs": [
        {
          "output_type": "stream",
          "name": "stdout",
          "text": [
            "Matriz de confusión\n",
            "[[   0  124]\n",
            " [   0 2669]]\n"
          ]
        }
      ]
    },
    {
      "cell_type": "code",
      "source": [
        "#calcular precision del modelo\n",
        "from sklearn.metrics import precision_score\n",
        "precision=precision_score(y_test, y_pred, average=\"binary\", pos_label=\"Reseñas altas\")\n",
        "print(\"precision del modelo:\")\n",
        "print(precision)"
      ],
      "metadata": {
        "id": "23caKMTjnYyP",
        "colab": {
          "base_uri": "https://localhost:8080/"
        },
        "collapsed": true,
        "outputId": "29ed895e-8a03-4a8f-b874-87f48b065694"
      },
      "execution_count": 150,
      "outputs": [
        {
          "output_type": "stream",
          "name": "stdout",
          "text": [
            "precision del modelo:\n",
            "0.0\n"
          ]
        },
        {
          "output_type": "stream",
          "name": "stderr",
          "text": [
            "/usr/local/lib/python3.10/dist-packages/sklearn/metrics/_classification.py:1531: UndefinedMetricWarning: Precision is ill-defined and being set to 0.0 due to no predicted samples. Use `zero_division` parameter to control this behavior.\n",
            "  _warn_prf(average, modifier, f\"{metric.capitalize()} is\", len(result))\n"
          ]
        }
      ]
    },
    {
      "cell_type": "code",
      "source": [
        "#calcular exactitud\n",
        "from sklearn.metrics import accuracy_score\n",
        "exactitud=accuracy_score(y_test, y_pred)\n",
        "print(\"exactitud del modelo\")\n",
        "print(exactitud)"
      ],
      "metadata": {
        "id": "Nsq0_aP4niNy",
        "colab": {
          "base_uri": "https://localhost:8080/"
        },
        "collapsed": true,
        "outputId": "3b19e752-4033-4b32-810d-9e6414352a5f"
      },
      "execution_count": 151,
      "outputs": [
        {
          "output_type": "stream",
          "name": "stdout",
          "text": [
            "exactitud del modelo\n",
            "0.9556032939491587\n"
          ]
        }
      ]
    },
    {
      "cell_type": "code",
      "source": [
        "from sklearn.metrics import recall_score\n",
        "\n",
        "sensibilidad=recall_score(y_test, y_pred, average=\"binary\", pos_label=\"Reseñas altas\")\n",
        "print(\"sensibilidad del modelo\")\n",
        "print(sensibilidad)"
      ],
      "metadata": {
        "id": "hAIivIHvnmGK",
        "colab": {
          "base_uri": "https://localhost:8080/"
        },
        "collapsed": true,
        "outputId": "a822c408-f68c-443a-8fdc-f7c66fbe9be9"
      },
      "execution_count": 153,
      "outputs": [
        {
          "output_type": "stream",
          "name": "stdout",
          "text": [
            "sensibilidad del modelo\n",
            "0.0\n"
          ]
        }
      ]
    },
    {
      "cell_type": "markdown",
      "source": [
        "latitude"
      ],
      "metadata": {
        "id": "GCRR6BknnA1B"
      }
    },
    {
      "cell_type": "code",
      "source": [
        "#Declarar las variables independientes y la dependiente\n",
        "Vars_Indep=df[[\"price\", \"accommodates\", \"bedrooms\"]]\n",
        "Var_Dep=df[\"latitude\"]\n",
        "X=Vars_Indep\n",
        "y=Var_Dep\n",
        "\n",
        "#Dividimos el conjunto de datos\n",
        "X_train, X_test, y_train, y_test = train_test_split(X,y, test_size=0.30, random_state=None)\n",
        "\n",
        "#Se escalan los datos\n",
        "escalar=StandardScaler()\n",
        "X_train=escalar.fit_transform(X_train)\n",
        "X_test=escalar.fit_transform(X_test)\n",
        "\n",
        "#definimos el algoritmo a utilizar\n",
        "from sklearn.linear_model import LogisticRegression\n",
        "algoritmo=LogisticRegression()\n",
        "\n",
        "#Entrenar el modelo\n",
        "algoritmo.fit(X_train, y_train)\n",
        "\n",
        "y_pred=algoritmo.predict(X_test)\n",
        "from sklearn.metrics import confusion_matrix\n",
        "matriz=confusion_matrix(y_test, y_pred)\n",
        "print(\"Matriz de confusión\")\n",
        "print(matriz)"
      ],
      "metadata": {
        "colab": {
          "base_uri": "https://localhost:8080/"
        },
        "collapsed": true,
        "id": "zgn7Zef-mudS",
        "outputId": "cb7cb31a-ada0-48df-b4aa-6e6d9db5898f"
      },
      "execution_count": 154,
      "outputs": [
        {
          "output_type": "stream",
          "name": "stdout",
          "text": [
            "Matriz de confusión\n",
            "[[   0   94]\n",
            " [   0 2699]]\n"
          ]
        }
      ]
    },
    {
      "cell_type": "code",
      "source": [
        "#calcular precision del modelo\n",
        "from sklearn.metrics import precision_score\n",
        "precision=precision_score(y_test, y_pred, average=\"binary\", pos_label=\"Latitud altas\")\n",
        "print(\"precision del modelo:\")\n",
        "print(precision)"
      ],
      "metadata": {
        "id": "CPLoBuqxnZSL",
        "colab": {
          "base_uri": "https://localhost:8080/"
        },
        "collapsed": true,
        "outputId": "365a5253-a1c3-4ac3-d858-ed50f25f6cfb"
      },
      "execution_count": 156,
      "outputs": [
        {
          "output_type": "stream",
          "name": "stdout",
          "text": [
            "precision del modelo:\n",
            "0.0\n"
          ]
        },
        {
          "output_type": "stream",
          "name": "stderr",
          "text": [
            "/usr/local/lib/python3.10/dist-packages/sklearn/metrics/_classification.py:1531: UndefinedMetricWarning: Precision is ill-defined and being set to 0.0 due to no predicted samples. Use `zero_division` parameter to control this behavior.\n",
            "  _warn_prf(average, modifier, f\"{metric.capitalize()} is\", len(result))\n"
          ]
        }
      ]
    },
    {
      "cell_type": "code",
      "source": [
        "#calcular exactitud\n",
        "from sklearn.metrics import accuracy_score\n",
        "exactitud=accuracy_score(y_test, y_pred)\n",
        "print(\"exactitud del modelo\")\n",
        "print(exactitud)"
      ],
      "metadata": {
        "id": "BiOHFCosni46",
        "colab": {
          "base_uri": "https://localhost:8080/"
        },
        "collapsed": true,
        "outputId": "4b73a078-84ca-42a7-d544-47c06ed38a08"
      },
      "execution_count": 157,
      "outputs": [
        {
          "output_type": "stream",
          "name": "stdout",
          "text": [
            "exactitud del modelo\n",
            "0.966344432509846\n"
          ]
        }
      ]
    },
    {
      "cell_type": "code",
      "source": [
        "from sklearn.metrics import recall_score\n",
        "\n",
        "sensibilidad=recall_score(y_test, y_pred, average=\"binary\", pos_label=\"Latitud altas\")\n",
        "print(\"sensibilidad del modelo\")\n",
        "print(sensibilidad)"
      ],
      "metadata": {
        "id": "gh7LKuBznlVk",
        "colab": {
          "base_uri": "https://localhost:8080/"
        },
        "collapsed": true,
        "outputId": "3ae3d90b-e3b1-4e22-bf66-ae9fba5ab210"
      },
      "execution_count": 158,
      "outputs": [
        {
          "output_type": "stream",
          "name": "stdout",
          "text": [
            "sensibilidad del modelo\n",
            "0.0\n"
          ]
        }
      ]
    }
  ]
}