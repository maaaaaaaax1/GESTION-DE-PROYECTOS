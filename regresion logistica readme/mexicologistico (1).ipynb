{
  "nbformat": 4,
  "nbformat_minor": 0,
  "metadata": {
    "colab": {
      "provenance": []
    },
    "kernelspec": {
      "name": "python3",
      "display_name": "Python 3"
    },
    "language_info": {
      "name": "python"
    }
  },
  "cells": [
    {
      "cell_type": "code",
      "execution_count": 1,
      "metadata": {
        "id": "lH51RlVWHITF"
      },
      "outputs": [],
      "source": [
        "#Cargamos librerias\n",
        "import pandas as pd\n",
        "import numpy as np\n",
        "import matplotlib.pyplot as plt\n",
        "import scipy.special as special\n",
        "from scipy.optimize import curve_fit\n",
        "import seaborn as sns\n",
        "from sklearn.metrics import r2_score\n",
        "from sklearn.model_selection import train_test_split\n",
        "from sklearn.preprocessing import StandardScaler"
      ]
    },
    {
      "cell_type": "code",
      "source": [
        "#Cargar archivo csv\n",
        "df=pd.read_csv('mexico_limpio.csv')\n",
        "df.head(3)\n"
      ],
      "metadata": {
        "colab": {
          "base_uri": "https://localhost:8080/",
          "height": 463
        },
        "id": "-4ESIWU1HiZW",
        "outputId": "ee06b8e4-c593-42b5-ce66-36d48e25198c"
      },
      "execution_count": 2,
      "outputs": [
        {
          "output_type": "execute_result",
          "data": {
            "text/plain": [
              "   Unnamed: 0  host_listings_count  host_total_listings_count  latitude  \\\n",
              "0           0                  3.0                        6.0  19.42063   \n",
              "1           1                  1.0                        1.0  19.38283   \n",
              "2           2                 17.0                       17.0  19.41162   \n",
              "\n",
              "   longitude  accommodates  bathrooms  bedrooms  beds   price  ...  \\\n",
              "0  -99.16586           2.0        1.0       1.0   2.0  1652.0  ...   \n",
              "1  -99.20000           2.0        1.0       1.0   1.0  3663.0  ...   \n",
              "2  -99.17794           3.1        1.4       5.0   1.8  1314.4  ...   \n",
              "\n",
              "         room_type  bathrooms_text  \\\n",
              "0  Entire home/apt          1 bath   \n",
              "1  Entire home/apt          1 bath   \n",
              "2  Entire home/apt       5.5 baths   \n",
              "\n",
              "                                           amenities  calendar_updated  \\\n",
              "0  [\"40 inch HDTV with Amazon Prime Video, Netfli...             nulos   \n",
              "1  [\"Hot water\", \"Washer\", \"Bed linens\", \"Wifi\", ...             nulos   \n",
              "2  [\"Wifi\", \"Coffee maker: Nespresso\", \"Host gree...             nulos   \n",
              "\n",
              "   has_availability  calendar_last_scraped  first_review  last_review  \\\n",
              "0                 t             2024-06-28    2013-03-30   2024-04-17   \n",
              "1                 t             2024-06-27    2013-03-30   2024-04-17   \n",
              "2                 t             2024-06-28    2011-11-09   2023-03-26   \n",
              "\n",
              "   license  instant_bookable  \n",
              "0    nulos                 f  \n",
              "1    nulos                 f  \n",
              "2    nulos                 f  \n",
              "\n",
              "[3 rows x 112 columns]"
            ],
            "text/html": [
              "\n",
              "  <div id=\"df-8c724374-d1b8-4abd-9a3a-1f5bf13207e4\" class=\"colab-df-container\">\n",
              "    <div>\n",
              "<style scoped>\n",
              "    .dataframe tbody tr th:only-of-type {\n",
              "        vertical-align: middle;\n",
              "    }\n",
              "\n",
              "    .dataframe tbody tr th {\n",
              "        vertical-align: top;\n",
              "    }\n",
              "\n",
              "    .dataframe thead th {\n",
              "        text-align: right;\n",
              "    }\n",
              "</style>\n",
              "<table border=\"1\" class=\"dataframe\">\n",
              "  <thead>\n",
              "    <tr style=\"text-align: right;\">\n",
              "      <th></th>\n",
              "      <th>Unnamed: 0</th>\n",
              "      <th>host_listings_count</th>\n",
              "      <th>host_total_listings_count</th>\n",
              "      <th>latitude</th>\n",
              "      <th>longitude</th>\n",
              "      <th>accommodates</th>\n",
              "      <th>bathrooms</th>\n",
              "      <th>bedrooms</th>\n",
              "      <th>beds</th>\n",
              "      <th>price</th>\n",
              "      <th>...</th>\n",
              "      <th>room_type</th>\n",
              "      <th>bathrooms_text</th>\n",
              "      <th>amenities</th>\n",
              "      <th>calendar_updated</th>\n",
              "      <th>has_availability</th>\n",
              "      <th>calendar_last_scraped</th>\n",
              "      <th>first_review</th>\n",
              "      <th>last_review</th>\n",
              "      <th>license</th>\n",
              "      <th>instant_bookable</th>\n",
              "    </tr>\n",
              "  </thead>\n",
              "  <tbody>\n",
              "    <tr>\n",
              "      <th>0</th>\n",
              "      <td>0</td>\n",
              "      <td>3.0</td>\n",
              "      <td>6.0</td>\n",
              "      <td>19.42063</td>\n",
              "      <td>-99.16586</td>\n",
              "      <td>2.0</td>\n",
              "      <td>1.0</td>\n",
              "      <td>1.0</td>\n",
              "      <td>2.0</td>\n",
              "      <td>1652.0</td>\n",
              "      <td>...</td>\n",
              "      <td>Entire home/apt</td>\n",
              "      <td>1 bath</td>\n",
              "      <td>[\"40 inch HDTV with Amazon Prime Video, Netfli...</td>\n",
              "      <td>nulos</td>\n",
              "      <td>t</td>\n",
              "      <td>2024-06-28</td>\n",
              "      <td>2013-03-30</td>\n",
              "      <td>2024-04-17</td>\n",
              "      <td>nulos</td>\n",
              "      <td>f</td>\n",
              "    </tr>\n",
              "    <tr>\n",
              "      <th>1</th>\n",
              "      <td>1</td>\n",
              "      <td>1.0</td>\n",
              "      <td>1.0</td>\n",
              "      <td>19.38283</td>\n",
              "      <td>-99.20000</td>\n",
              "      <td>2.0</td>\n",
              "      <td>1.0</td>\n",
              "      <td>1.0</td>\n",
              "      <td>1.0</td>\n",
              "      <td>3663.0</td>\n",
              "      <td>...</td>\n",
              "      <td>Entire home/apt</td>\n",
              "      <td>1 bath</td>\n",
              "      <td>[\"Hot water\", \"Washer\", \"Bed linens\", \"Wifi\", ...</td>\n",
              "      <td>nulos</td>\n",
              "      <td>t</td>\n",
              "      <td>2024-06-27</td>\n",
              "      <td>2013-03-30</td>\n",
              "      <td>2024-04-17</td>\n",
              "      <td>nulos</td>\n",
              "      <td>f</td>\n",
              "    </tr>\n",
              "    <tr>\n",
              "      <th>2</th>\n",
              "      <td>2</td>\n",
              "      <td>17.0</td>\n",
              "      <td>17.0</td>\n",
              "      <td>19.41162</td>\n",
              "      <td>-99.17794</td>\n",
              "      <td>3.1</td>\n",
              "      <td>1.4</td>\n",
              "      <td>5.0</td>\n",
              "      <td>1.8</td>\n",
              "      <td>1314.4</td>\n",
              "      <td>...</td>\n",
              "      <td>Entire home/apt</td>\n",
              "      <td>5.5 baths</td>\n",
              "      <td>[\"Wifi\", \"Coffee maker: Nespresso\", \"Host gree...</td>\n",
              "      <td>nulos</td>\n",
              "      <td>t</td>\n",
              "      <td>2024-06-28</td>\n",
              "      <td>2011-11-09</td>\n",
              "      <td>2023-03-26</td>\n",
              "      <td>nulos</td>\n",
              "      <td>f</td>\n",
              "    </tr>\n",
              "  </tbody>\n",
              "</table>\n",
              "<p>3 rows × 112 columns</p>\n",
              "</div>\n",
              "    <div class=\"colab-df-buttons\">\n",
              "\n",
              "  <div class=\"colab-df-container\">\n",
              "    <button class=\"colab-df-convert\" onclick=\"convertToInteractive('df-8c724374-d1b8-4abd-9a3a-1f5bf13207e4')\"\n",
              "            title=\"Convert this dataframe to an interactive table.\"\n",
              "            style=\"display:none;\">\n",
              "\n",
              "  <svg xmlns=\"http://www.w3.org/2000/svg\" height=\"24px\" viewBox=\"0 -960 960 960\">\n",
              "    <path d=\"M120-120v-720h720v720H120Zm60-500h600v-160H180v160Zm220 220h160v-160H400v160Zm0 220h160v-160H400v160ZM180-400h160v-160H180v160Zm440 0h160v-160H620v160ZM180-180h160v-160H180v160Zm440 0h160v-160H620v160Z\"/>\n",
              "  </svg>\n",
              "    </button>\n",
              "\n",
              "  <style>\n",
              "    .colab-df-container {\n",
              "      display:flex;\n",
              "      gap: 12px;\n",
              "    }\n",
              "\n",
              "    .colab-df-convert {\n",
              "      background-color: #E8F0FE;\n",
              "      border: none;\n",
              "      border-radius: 50%;\n",
              "      cursor: pointer;\n",
              "      display: none;\n",
              "      fill: #1967D2;\n",
              "      height: 32px;\n",
              "      padding: 0 0 0 0;\n",
              "      width: 32px;\n",
              "    }\n",
              "\n",
              "    .colab-df-convert:hover {\n",
              "      background-color: #E2EBFA;\n",
              "      box-shadow: 0px 1px 2px rgba(60, 64, 67, 0.3), 0px 1px 3px 1px rgba(60, 64, 67, 0.15);\n",
              "      fill: #174EA6;\n",
              "    }\n",
              "\n",
              "    .colab-df-buttons div {\n",
              "      margin-bottom: 4px;\n",
              "    }\n",
              "\n",
              "    [theme=dark] .colab-df-convert {\n",
              "      background-color: #3B4455;\n",
              "      fill: #D2E3FC;\n",
              "    }\n",
              "\n",
              "    [theme=dark] .colab-df-convert:hover {\n",
              "      background-color: #434B5C;\n",
              "      box-shadow: 0px 1px 3px 1px rgba(0, 0, 0, 0.15);\n",
              "      filter: drop-shadow(0px 1px 2px rgba(0, 0, 0, 0.3));\n",
              "      fill: #FFFFFF;\n",
              "    }\n",
              "  </style>\n",
              "\n",
              "    <script>\n",
              "      const buttonEl =\n",
              "        document.querySelector('#df-8c724374-d1b8-4abd-9a3a-1f5bf13207e4 button.colab-df-convert');\n",
              "      buttonEl.style.display =\n",
              "        google.colab.kernel.accessAllowed ? 'block' : 'none';\n",
              "\n",
              "      async function convertToInteractive(key) {\n",
              "        const element = document.querySelector('#df-8c724374-d1b8-4abd-9a3a-1f5bf13207e4');\n",
              "        const dataTable =\n",
              "          await google.colab.kernel.invokeFunction('convertToInteractive',\n",
              "                                                    [key], {});\n",
              "        if (!dataTable) return;\n",
              "\n",
              "        const docLinkHtml = 'Like what you see? Visit the ' +\n",
              "          '<a target=\"_blank\" href=https://colab.research.google.com/notebooks/data_table.ipynb>data table notebook</a>'\n",
              "          + ' to learn more about interactive tables.';\n",
              "        element.innerHTML = '';\n",
              "        dataTable['output_type'] = 'display_data';\n",
              "        await google.colab.output.renderOutput(dataTable, element);\n",
              "        const docLink = document.createElement('div');\n",
              "        docLink.innerHTML = docLinkHtml;\n",
              "        element.appendChild(docLink);\n",
              "      }\n",
              "    </script>\n",
              "  </div>\n",
              "\n",
              "\n",
              "<div id=\"df-07134e7a-bb60-41d2-868d-6ff65fc71a9d\">\n",
              "  <button class=\"colab-df-quickchart\" onclick=\"quickchart('df-07134e7a-bb60-41d2-868d-6ff65fc71a9d')\"\n",
              "            title=\"Suggest charts\"\n",
              "            style=\"display:none;\">\n",
              "\n",
              "<svg xmlns=\"http://www.w3.org/2000/svg\" height=\"24px\"viewBox=\"0 0 24 24\"\n",
              "     width=\"24px\">\n",
              "    <g>\n",
              "        <path d=\"M19 3H5c-1.1 0-2 .9-2 2v14c0 1.1.9 2 2 2h14c1.1 0 2-.9 2-2V5c0-1.1-.9-2-2-2zM9 17H7v-7h2v7zm4 0h-2V7h2v10zm4 0h-2v-4h2v4z\"/>\n",
              "    </g>\n",
              "</svg>\n",
              "  </button>\n",
              "\n",
              "<style>\n",
              "  .colab-df-quickchart {\n",
              "      --bg-color: #E8F0FE;\n",
              "      --fill-color: #1967D2;\n",
              "      --hover-bg-color: #E2EBFA;\n",
              "      --hover-fill-color: #174EA6;\n",
              "      --disabled-fill-color: #AAA;\n",
              "      --disabled-bg-color: #DDD;\n",
              "  }\n",
              "\n",
              "  [theme=dark] .colab-df-quickchart {\n",
              "      --bg-color: #3B4455;\n",
              "      --fill-color: #D2E3FC;\n",
              "      --hover-bg-color: #434B5C;\n",
              "      --hover-fill-color: #FFFFFF;\n",
              "      --disabled-bg-color: #3B4455;\n",
              "      --disabled-fill-color: #666;\n",
              "  }\n",
              "\n",
              "  .colab-df-quickchart {\n",
              "    background-color: var(--bg-color);\n",
              "    border: none;\n",
              "    border-radius: 50%;\n",
              "    cursor: pointer;\n",
              "    display: none;\n",
              "    fill: var(--fill-color);\n",
              "    height: 32px;\n",
              "    padding: 0;\n",
              "    width: 32px;\n",
              "  }\n",
              "\n",
              "  .colab-df-quickchart:hover {\n",
              "    background-color: var(--hover-bg-color);\n",
              "    box-shadow: 0 1px 2px rgba(60, 64, 67, 0.3), 0 1px 3px 1px rgba(60, 64, 67, 0.15);\n",
              "    fill: var(--button-hover-fill-color);\n",
              "  }\n",
              "\n",
              "  .colab-df-quickchart-complete:disabled,\n",
              "  .colab-df-quickchart-complete:disabled:hover {\n",
              "    background-color: var(--disabled-bg-color);\n",
              "    fill: var(--disabled-fill-color);\n",
              "    box-shadow: none;\n",
              "  }\n",
              "\n",
              "  .colab-df-spinner {\n",
              "    border: 2px solid var(--fill-color);\n",
              "    border-color: transparent;\n",
              "    border-bottom-color: var(--fill-color);\n",
              "    animation:\n",
              "      spin 1s steps(1) infinite;\n",
              "  }\n",
              "\n",
              "  @keyframes spin {\n",
              "    0% {\n",
              "      border-color: transparent;\n",
              "      border-bottom-color: var(--fill-color);\n",
              "      border-left-color: var(--fill-color);\n",
              "    }\n",
              "    20% {\n",
              "      border-color: transparent;\n",
              "      border-left-color: var(--fill-color);\n",
              "      border-top-color: var(--fill-color);\n",
              "    }\n",
              "    30% {\n",
              "      border-color: transparent;\n",
              "      border-left-color: var(--fill-color);\n",
              "      border-top-color: var(--fill-color);\n",
              "      border-right-color: var(--fill-color);\n",
              "    }\n",
              "    40% {\n",
              "      border-color: transparent;\n",
              "      border-right-color: var(--fill-color);\n",
              "      border-top-color: var(--fill-color);\n",
              "    }\n",
              "    60% {\n",
              "      border-color: transparent;\n",
              "      border-right-color: var(--fill-color);\n",
              "    }\n",
              "    80% {\n",
              "      border-color: transparent;\n",
              "      border-right-color: var(--fill-color);\n",
              "      border-bottom-color: var(--fill-color);\n",
              "    }\n",
              "    90% {\n",
              "      border-color: transparent;\n",
              "      border-bottom-color: var(--fill-color);\n",
              "    }\n",
              "  }\n",
              "</style>\n",
              "\n",
              "  <script>\n",
              "    async function quickchart(key) {\n",
              "      const quickchartButtonEl =\n",
              "        document.querySelector('#' + key + ' button');\n",
              "      quickchartButtonEl.disabled = true;  // To prevent multiple clicks.\n",
              "      quickchartButtonEl.classList.add('colab-df-spinner');\n",
              "      try {\n",
              "        const charts = await google.colab.kernel.invokeFunction(\n",
              "            'suggestCharts', [key], {});\n",
              "      } catch (error) {\n",
              "        console.error('Error during call to suggestCharts:', error);\n",
              "      }\n",
              "      quickchartButtonEl.classList.remove('colab-df-spinner');\n",
              "      quickchartButtonEl.classList.add('colab-df-quickchart-complete');\n",
              "    }\n",
              "    (() => {\n",
              "      let quickchartButtonEl =\n",
              "        document.querySelector('#df-07134e7a-bb60-41d2-868d-6ff65fc71a9d button');\n",
              "      quickchartButtonEl.style.display =\n",
              "        google.colab.kernel.accessAllowed ? 'block' : 'none';\n",
              "    })();\n",
              "  </script>\n",
              "</div>\n",
              "\n",
              "    </div>\n",
              "  </div>\n"
            ],
            "application/vnd.google.colaboratory.intrinsic+json": {
              "type": "dataframe",
              "variable_name": "df"
            }
          },
          "metadata": {},
          "execution_count": 2
        }
      ]
    },
    {
      "cell_type": "code",
      "source": [
        "df['host_is_superhost'] = df['host_is_superhost'].replace({\n",
        "    't': 'yes',\n",
        "    'f': 'no',\n",
        "    'VALIDACIÓN PENDIENTE': np.nan\n",
        "})\n",
        "\n",
        "df['host_has_profile_pic'] = df['host_has_profile_pic'].replace({\n",
        "    't': 'yes',\n",
        "    'f': 'no',\n",
        "    'INFORMACIÓN FALTANTE': np.nan\n",
        "})\n",
        "\n",
        "df['host_identity_verified'] = df['host_identity_verified'].replace({\n",
        "    't': 'yes',\n",
        "    'f': 'no',\n",
        "    'INFORMACIÓN FALTANTE': np.nan\n",
        "})\n",
        "\n",
        "df['has_availability'] = df['has_availability'].replace({\n",
        "    't': 'yes',\n",
        "    'f': 'no',\n",
        "    'INFORMACIÓN NO DISPONIBLE': np.nan\n",
        "})\n",
        "\n",
        "df['instant_bookable'] = df['instant_bookable'].replace({\n",
        "    't': 'yes',\n",
        "    'f': 'no',\n",
        "    'INFORMACIÓN NO DISPONIBLE': np.nan\n",
        "})\n",
        "\n",
        "df =df.fillna(method=\"bfill\")\n",
        "df =df.fillna(method=\"ffill\")"
      ],
      "metadata": {
        "colab": {
          "base_uri": "https://localhost:8080/"
        },
        "id": "t5vo0jDqKc5_",
        "outputId": "2ef27b32-f688-4d5a-faaa-d5ba73dfce5d"
      },
      "execution_count": 13,
      "outputs": [
        {
          "output_type": "stream",
          "name": "stderr",
          "text": [
            "<ipython-input-13-d98a12bdaf1e>:31: FutureWarning: DataFrame.fillna with 'method' is deprecated and will raise in a future version. Use obj.ffill() or obj.bfill() instead.\n",
            "  df =df.fillna(method=\"bfill\")\n",
            "<ipython-input-13-d98a12bdaf1e>:32: FutureWarning: DataFrame.fillna with 'method' is deprecated and will raise in a future version. Use obj.ffill() or obj.bfill() instead.\n",
            "  df =df.fillna(method=\"ffill\")\n"
          ]
        }
      ]
    },
    {
      "cell_type": "code",
      "source": [
        "df['host_has_profile_pic'].unique()"
      ],
      "metadata": {
        "colab": {
          "base_uri": "https://localhost:8080/"
        },
        "id": "AX7nTO1mKe1u",
        "outputId": "172c972b-6f70-445d-b784-7e7000528361"
      },
      "execution_count": 14,
      "outputs": [
        {
          "output_type": "execute_result",
          "data": {
            "text/plain": [
              "array(['yes', 'no'], dtype=object)"
            ]
          },
          "metadata": {},
          "execution_count": 14
        }
      ]
    },
    {
      "cell_type": "code",
      "source": [
        "df[\"host_has_profile_pic\"].head(10)"
      ],
      "metadata": {
        "colab": {
          "base_uri": "https://localhost:8080/",
          "height": 393
        },
        "id": "r9qUBtSMKi-s",
        "outputId": "5b634142-fd0d-4ff9-838f-ea36489a019f"
      },
      "execution_count": 16,
      "outputs": [
        {
          "output_type": "execute_result",
          "data": {
            "text/plain": [
              "0    yes\n",
              "1    yes\n",
              "2    yes\n",
              "3    yes\n",
              "4    yes\n",
              "5    yes\n",
              "6    yes\n",
              "7    yes\n",
              "8    yes\n",
              "9    yes\n",
              "Name: host_has_profile_pic, dtype: object"
            ],
            "text/html": [
              "<div>\n",
              "<style scoped>\n",
              "    .dataframe tbody tr th:only-of-type {\n",
              "        vertical-align: middle;\n",
              "    }\n",
              "\n",
              "    .dataframe tbody tr th {\n",
              "        vertical-align: top;\n",
              "    }\n",
              "\n",
              "    .dataframe thead th {\n",
              "        text-align: right;\n",
              "    }\n",
              "</style>\n",
              "<table border=\"1\" class=\"dataframe\">\n",
              "  <thead>\n",
              "    <tr style=\"text-align: right;\">\n",
              "      <th></th>\n",
              "      <th>host_has_profile_pic</th>\n",
              "    </tr>\n",
              "  </thead>\n",
              "  <tbody>\n",
              "    <tr>\n",
              "      <th>0</th>\n",
              "      <td>yes</td>\n",
              "    </tr>\n",
              "    <tr>\n",
              "      <th>1</th>\n",
              "      <td>yes</td>\n",
              "    </tr>\n",
              "    <tr>\n",
              "      <th>2</th>\n",
              "      <td>yes</td>\n",
              "    </tr>\n",
              "    <tr>\n",
              "      <th>3</th>\n",
              "      <td>yes</td>\n",
              "    </tr>\n",
              "    <tr>\n",
              "      <th>4</th>\n",
              "      <td>yes</td>\n",
              "    </tr>\n",
              "    <tr>\n",
              "      <th>5</th>\n",
              "      <td>yes</td>\n",
              "    </tr>\n",
              "    <tr>\n",
              "      <th>6</th>\n",
              "      <td>yes</td>\n",
              "    </tr>\n",
              "    <tr>\n",
              "      <th>7</th>\n",
              "      <td>yes</td>\n",
              "    </tr>\n",
              "    <tr>\n",
              "      <th>8</th>\n",
              "      <td>yes</td>\n",
              "    </tr>\n",
              "    <tr>\n",
              "      <th>9</th>\n",
              "      <td>yes</td>\n",
              "    </tr>\n",
              "  </tbody>\n",
              "</table>\n",
              "</div><br><label><b>dtype:</b> object</label>"
            ]
          },
          "metadata": {},
          "execution_count": 16
        }
      ]
    },
    {
      "cell_type": "markdown",
      "source": [
        "Modelo 1 host is super host"
      ],
      "metadata": {
        "id": "GdzYoXw1KqM6"
      }
    },
    {
      "cell_type": "code",
      "source": [
        "#Declarar las variables independientes y la dependiente\n",
        "Vars_Indep=df[[\"price\", \"reviews_per_month\", \"bedrooms\"]]\n",
        "Var_Dep=df[\"host_is_superhost\"]\n",
        "X=Vars_Indep\n",
        "y=Var_Dep\n",
        "\n",
        "#Dividimos el conjunto de datos\n",
        "X_train, X_test, y_train, y_test = train_test_split(X,y, test_size=0.30, random_state=None)\n",
        "\n",
        "#Se escalan los datos\n",
        "escalar=StandardScaler()\n",
        "X_train=escalar.fit_transform(X_train)\n",
        "X_test=escalar.fit_transform(X_test)\n",
        "\n",
        "#definimos el algoritmo a utilizar\n",
        "from sklearn.linear_model import LogisticRegression\n",
        "algoritmo=LogisticRegression()\n",
        "\n",
        "#Entrenar el modelo\n",
        "algoritmo.fit(X_train, y_train)\n",
        "\n",
        "y_pred=algoritmo.predict(X_test)\n",
        "from sklearn.metrics import confusion_matrix\n",
        "matriz=confusion_matrix(y_test, y_pred)\n",
        "print(\"Matriz de confusión\")\n",
        "print(matriz)"
      ],
      "metadata": {
        "colab": {
          "base_uri": "https://localhost:8080/"
        },
        "id": "yTBjcLSeKQfd",
        "outputId": "21415f2e-38e8-4396-d39f-35a596f22786"
      },
      "execution_count": 17,
      "outputs": [
        {
          "output_type": "stream",
          "name": "stdout",
          "text": [
            "Matriz de confusión\n",
            "[[4110  691]\n",
            " [2311  849]]\n"
          ]
        }
      ]
    },
    {
      "cell_type": "code",
      "source": [
        "#calcular precision del modelo\n",
        "from sklearn.metrics import precision_score\n",
        "precision=precision_score(y_test, y_pred, average=\"binary\", pos_label=\"yes\")\n",
        "print(\"precision del modelo:\")\n",
        "print(precision)"
      ],
      "metadata": {
        "colab": {
          "base_uri": "https://localhost:8080/"
        },
        "id": "wFD55TKyKzbQ",
        "outputId": "82401adc-453e-455f-e4aa-78cfd79d4a47"
      },
      "execution_count": 18,
      "outputs": [
        {
          "output_type": "stream",
          "name": "stdout",
          "text": [
            "precision del modelo:\n",
            "0.5512987012987013\n"
          ]
        }
      ]
    },
    {
      "cell_type": "code",
      "source": [
        "#calcular exactitud\n",
        "from sklearn.metrics import accuracy_score\n",
        "exactitud=accuracy_score(y_test, y_pred)\n",
        "print(\"exactitud del modelo\")\n",
        "print(exactitud)"
      ],
      "metadata": {
        "colab": {
          "base_uri": "https://localhost:8080/"
        },
        "id": "0LONFqlWK15H",
        "outputId": "05277f53-1e17-44bf-d06c-4f9fa71d707a"
      },
      "execution_count": 19,
      "outputs": [
        {
          "output_type": "stream",
          "name": "stdout",
          "text": [
            "exactitud del modelo\n",
            "0.6229116945107399\n"
          ]
        }
      ]
    },
    {
      "cell_type": "code",
      "source": [
        "#calcular la sensibilidad\n",
        "from sklearn.metrics import recall_score\n",
        "\n",
        "sensibilidad=recall_score(y_test, y_pred, average=\"binary\", pos_label=\"yes\")\n",
        "print(\"sensibilidad del modelo\")\n",
        "print(sensibilidad)"
      ],
      "metadata": {
        "colab": {
          "base_uri": "https://localhost:8080/"
        },
        "id": "b4b9gvAjK4Wj",
        "outputId": "bcd69001-5121-4aae-8d5e-af11694dabb3"
      },
      "execution_count": 20,
      "outputs": [
        {
          "output_type": "stream",
          "name": "stdout",
          "text": [
            "sensibilidad del modelo\n",
            "0.26867088607594936\n"
          ]
        }
      ]
    },
    {
      "cell_type": "markdown",
      "source": [
        "modelo 2 host has profile pic"
      ],
      "metadata": {
        "id": "NAhTKye7K8g-"
      }
    },
    {
      "cell_type": "code",
      "source": [
        "#Declarar las variables independientes y la dependiente\n",
        "Vars_Indep=df[[\"price\", \"reviews_per_month\", \"bedrooms\"]]\n",
        "Var_Dep=df[\"host_has_profile_pic\"]\n",
        "X=Vars_Indep\n",
        "y=Var_Dep\n",
        "\n",
        "#Dividimos el conjunto de datos\n",
        "X_train, X_test, y_train, y_test = train_test_split(X,y, test_size=0.30, random_state=None)\n",
        "\n",
        "#Se escalan los datos\n",
        "escalar=StandardScaler()\n",
        "X_train=escalar.fit_transform(X_train)\n",
        "X_test=escalar.fit_transform(X_test)\n",
        "\n",
        "#definimos el algoritmo a utilizar\n",
        "from sklearn.linear_model import LogisticRegression\n",
        "algoritmo=LogisticRegression()\n",
        "\n",
        "#Entrenar el modelo\n",
        "algoritmo.fit(X_train, y_train)\n",
        "\n",
        "y_pred=algoritmo.predict(X_test)\n",
        "from sklearn.metrics import confusion_matrix\n",
        "matriz=confusion_matrix(y_test, y_pred)\n",
        "print(\"Matriz de confusión\")\n",
        "print(matriz)"
      ],
      "metadata": {
        "colab": {
          "base_uri": "https://localhost:8080/"
        },
        "id": "a9oqqPt6K7co",
        "outputId": "3dcb7bd0-cedf-400e-8cbc-4d898d647e60"
      },
      "execution_count": 21,
      "outputs": [
        {
          "output_type": "stream",
          "name": "stdout",
          "text": [
            "Matriz de confusión\n",
            "[[   0  134]\n",
            " [   0 7827]]\n"
          ]
        }
      ]
    },
    {
      "cell_type": "code",
      "source": [
        "#calcular precision del modelo\n",
        "from sklearn.metrics import precision_score\n",
        "precision=precision_score(y_test, y_pred, average=\"binary\", pos_label=\"yes\")\n",
        "print(\"precision del modelo:\")\n",
        "print(precision)"
      ],
      "metadata": {
        "colab": {
          "base_uri": "https://localhost:8080/"
        },
        "id": "Vvdan7FYLDm_",
        "outputId": "c40dfd4f-0ab9-4fc7-c619-068346518371"
      },
      "execution_count": 22,
      "outputs": [
        {
          "output_type": "stream",
          "name": "stdout",
          "text": [
            "precision del modelo:\n",
            "0.9831679437256626\n"
          ]
        }
      ]
    },
    {
      "cell_type": "code",
      "source": [
        "#calcular exactitud\n",
        "from sklearn.metrics import accuracy_score\n",
        "exactitud=accuracy_score(y_test, y_pred)\n",
        "print(\"exactitud del modelo\")\n",
        "print(exactitud)"
      ],
      "metadata": {
        "colab": {
          "base_uri": "https://localhost:8080/"
        },
        "id": "ilb8ADGNLGaV",
        "outputId": "db8bc699-de04-49cf-f8f7-91740d5ef5c1"
      },
      "execution_count": 23,
      "outputs": [
        {
          "output_type": "stream",
          "name": "stdout",
          "text": [
            "exactitud del modelo\n",
            "0.9831679437256626\n"
          ]
        }
      ]
    },
    {
      "cell_type": "code",
      "source": [
        "#calcular la sensibilidad\n",
        "from sklearn.metrics import recall_score\n",
        "\n",
        "sensibilidad=recall_score(y_test, y_pred, average=\"binary\", pos_label=\"yes\")\n",
        "print(\"sensibilidad del modelo\")\n",
        "print(sensibilidad)"
      ],
      "metadata": {
        "colab": {
          "base_uri": "https://localhost:8080/"
        },
        "id": "ztQLx2JqLJH-",
        "outputId": "0e9dce2c-0621-4073-ad70-da71903ecd60"
      },
      "execution_count": 24,
      "outputs": [
        {
          "output_type": "stream",
          "name": "stdout",
          "text": [
            "sensibilidad del modelo\n",
            "1.0\n"
          ]
        }
      ]
    },
    {
      "cell_type": "markdown",
      "source": [
        "modelo 3 host identity verify"
      ],
      "metadata": {
        "id": "sRp39wt7LOJ_"
      }
    },
    {
      "cell_type": "code",
      "source": [
        "#Declarar las variables independientes y la dependiente\n",
        "Vars_Indep=df[[\"price\", \"reviews_per_month\", \"bedrooms\"]]\n",
        "Var_Dep=df[\"host_identity_verified\"]\n",
        "X=Vars_Indep\n",
        "y=Var_Dep\n",
        "\n",
        "#Dividimos el conjunto de datos\n",
        "X_train, X_test, y_train, y_test = train_test_split(X,y, test_size=0.30, random_state=None)\n",
        "\n",
        "#Se escalan los datos\n",
        "escalar=StandardScaler()\n",
        "X_train=escalar.fit_transform(X_train)\n",
        "X_test=escalar.fit_transform(X_test)\n",
        "\n",
        "#definimos el algoritmo a utilizar\n",
        "from sklearn.linear_model import LogisticRegression\n",
        "algoritmo=LogisticRegression()\n",
        "\n",
        "#Entrenar el modelo\n",
        "algoritmo.fit(X_train, y_train)\n",
        "\n",
        "y_pred=algoritmo.predict(X_test)\n",
        "from sklearn.metrics import confusion_matrix\n",
        "matriz=confusion_matrix(y_test, y_pred)\n",
        "print(\"Matriz de confusión\")\n",
        "print(matriz)"
      ],
      "metadata": {
        "colab": {
          "base_uri": "https://localhost:8080/"
        },
        "id": "rSFwi0FyLMV-",
        "outputId": "c0f3187a-1563-4e72-ad04-f8ab90031355"
      },
      "execution_count": 25,
      "outputs": [
        {
          "output_type": "stream",
          "name": "stdout",
          "text": [
            "Matriz de confusión\n",
            "[[   0  311]\n",
            " [   0 7650]]\n"
          ]
        }
      ]
    },
    {
      "cell_type": "code",
      "source": [
        "#calcular precision del modelo\n",
        "from sklearn.metrics import precision_score\n",
        "precision=precision_score(y_test, y_pred, average=\"binary\", pos_label=\"yes\")\n",
        "print(\"precision del modelo:\")\n",
        "print(precision)"
      ],
      "metadata": {
        "colab": {
          "base_uri": "https://localhost:8080/"
        },
        "id": "s-Rukgb_LW9V",
        "outputId": "f775ddb6-99d9-4f4d-8d41-02eb547fd01f"
      },
      "execution_count": 26,
      "outputs": [
        {
          "output_type": "stream",
          "name": "stdout",
          "text": [
            "precision del modelo:\n",
            "0.9609345559603065\n"
          ]
        }
      ]
    },
    {
      "cell_type": "code",
      "source": [
        "#calcular exactitud\n",
        "from sklearn.metrics import accuracy_score\n",
        "exactitud=accuracy_score(y_test, y_pred)\n",
        "print(\"exactitud del modelo\")\n",
        "print(exactitud)"
      ],
      "metadata": {
        "colab": {
          "base_uri": "https://localhost:8080/"
        },
        "id": "1ABMYk9LLaB-",
        "outputId": "85cb87de-d8d9-42cc-d3dc-cf1668ed2df0"
      },
      "execution_count": 27,
      "outputs": [
        {
          "output_type": "stream",
          "name": "stdout",
          "text": [
            "exactitud del modelo\n",
            "0.9609345559603065\n"
          ]
        }
      ]
    },
    {
      "cell_type": "code",
      "source": [
        "#calcular la sensibilidad\n",
        "from sklearn.metrics import recall_score\n",
        "\n",
        "sensibilidad=recall_score(y_test, y_pred, average=\"binary\", pos_label=\"yes\")\n",
        "print(\"sensibilidad del modelo\")\n",
        "print(sensibilidad)"
      ],
      "metadata": {
        "colab": {
          "base_uri": "https://localhost:8080/"
        },
        "id": "7zZM-5a3LcuJ",
        "outputId": "8443c803-6c8f-49ad-9e69-e0403aab15be"
      },
      "execution_count": 28,
      "outputs": [
        {
          "output_type": "stream",
          "name": "stdout",
          "text": [
            "sensibilidad del modelo\n",
            "1.0\n"
          ]
        }
      ]
    },
    {
      "cell_type": "markdown",
      "source": [
        "modelo 4 has availability"
      ],
      "metadata": {
        "id": "4XhjRI5kLhoH"
      }
    },
    {
      "cell_type": "code",
      "source": [
        "#Declarar las variables independientes y la dependiente\n",
        "Vars_Indep=df[[\"price\", \"reviews_per_month\", \"bedrooms\"]]\n",
        "Var_Dep=df[\"has_availability\"]\n",
        "X=Vars_Indep\n",
        "y=Var_Dep\n",
        "\n",
        "#Dividimos el conjunto de datos\n",
        "X_train, X_test, y_train, y_test = train_test_split(X,y, test_size=0.30, random_state=None)\n",
        "\n",
        "#Se escalan los datos\n",
        "escalar=StandardScaler()\n",
        "X_train=escalar.fit_transform(X_train)\n",
        "X_test=escalar.fit_transform(X_test)\n",
        "\n",
        "#definimos el algoritmo a utilizar\n",
        "from sklearn.linear_model import LogisticRegression\n",
        "algoritmo=LogisticRegression()\n",
        "\n",
        "#Entrenar el modelo\n",
        "algoritmo.fit(X_train, y_train)\n",
        "\n",
        "y_pred=algoritmo.predict(X_test)\n",
        "from sklearn.metrics import confusion_matrix\n",
        "matriz=confusion_matrix(y_test, y_pred)\n",
        "print(\"Matriz de confusión\")\n",
        "print(matriz)"
      ],
      "metadata": {
        "colab": {
          "base_uri": "https://localhost:8080/"
        },
        "id": "rVSYotizLfkw",
        "outputId": "75499734-9ac0-47a7-8d10-a570ba04240b"
      },
      "execution_count": 29,
      "outputs": [
        {
          "output_type": "stream",
          "name": "stdout",
          "text": [
            "Matriz de confusión\n",
            "[[   0   12]\n",
            " [   0 7949]]\n"
          ]
        }
      ]
    },
    {
      "cell_type": "code",
      "source": [
        "#calcular precision del modelo\n",
        "from sklearn.metrics import precision_score\n",
        "precision=precision_score(y_test, y_pred, average=\"binary\", pos_label=\"yes\")\n",
        "print(\"precision del modelo:\")\n",
        "print(precision)"
      ],
      "metadata": {
        "colab": {
          "base_uri": "https://localhost:8080/"
        },
        "id": "J_UYYB92LtDi",
        "outputId": "00e12d9f-ad16-408b-d0f9-30ad9b43db1d"
      },
      "execution_count": 30,
      "outputs": [
        {
          "output_type": "stream",
          "name": "stdout",
          "text": [
            "precision del modelo:\n",
            "0.998492651676925\n"
          ]
        }
      ]
    },
    {
      "cell_type": "code",
      "source": [
        "#calcular exactitud\n",
        "from sklearn.metrics import accuracy_score\n",
        "exactitud=accuracy_score(y_test, y_pred)\n",
        "print(\"exactitud del modelo\")\n",
        "print(exactitud)"
      ],
      "metadata": {
        "colab": {
          "base_uri": "https://localhost:8080/"
        },
        "id": "wf7lRbRKLvkG",
        "outputId": "b504e30f-4384-4bfe-fa2a-a4af384f7fb3"
      },
      "execution_count": 31,
      "outputs": [
        {
          "output_type": "stream",
          "name": "stdout",
          "text": [
            "exactitud del modelo\n",
            "0.998492651676925\n"
          ]
        }
      ]
    },
    {
      "cell_type": "code",
      "source": [
        "#calcular la sensibilidad\n",
        "from sklearn.metrics import recall_score\n",
        "\n",
        "sensibilidad=recall_score(y_test, y_pred, average=\"binary\", pos_label=\"yes\")\n",
        "print(\"sensibilidad del modelo\")\n",
        "print(sensibilidad)"
      ],
      "metadata": {
        "colab": {
          "base_uri": "https://localhost:8080/"
        },
        "id": "DOUnVC6XLy9y",
        "outputId": "995eceff-9ad5-4be1-d72e-88f51ac13032"
      },
      "execution_count": 32,
      "outputs": [
        {
          "output_type": "stream",
          "name": "stdout",
          "text": [
            "sensibilidad del modelo\n",
            "1.0\n"
          ]
        }
      ]
    },
    {
      "cell_type": "markdown",
      "source": [
        "**creación de categorias a partir de clases**"
      ],
      "metadata": {
        "id": "3vvS_6_4L5gB"
      }
    },
    {
      "cell_type": "markdown",
      "source": [
        "host acceptance rate"
      ],
      "metadata": {
        "id": "9-5y5DnjMBiL"
      }
    },
    {
      "cell_type": "code",
      "source": [
        "#Reemplazamos el % en la columna host_acceptance_rate para que se vuelva numerica\n",
        "df['host_acceptance_rate'] = df['host_acceptance_rate'].str.replace('%', '', regex=False)\n",
        "df['host_acceptance_rate'] = pd.to_numeric(df['host_acceptance_rate'])"
      ],
      "metadata": {
        "id": "vmXhEgVgMY-d"
      },
      "execution_count": 37,
      "outputs": []
    },
    {
      "cell_type": "code",
      "source": [
        "#Reemplazamos el $ en la columna host_response_rate para que se vuelva numerica\n",
        "df['host_response_rate'] = df['host_response_rate'].str.replace('%', '', regex=False)\n",
        "df['host_response_rate'] = pd.to_numeric(df['host_response_rate'])"
      ],
      "metadata": {
        "id": "GFzOtASrMl4z"
      },
      "execution_count": 38,
      "outputs": []
    },
    {
      "cell_type": "code",
      "source": [
        "#calcular exactitud\n",
        "from sklearn.metrics import accuracy_score\n",
        "exactitud=accuracy_score(y_test, y_pred)\n",
        "print(\"exactitud del modelo\")\n",
        "print(exactitud)\n",
        "\n",
        "#calcular la sensibilidad\n",
        "from sklearn.metrics import recall_score\n",
        "\n",
        "sensibilidad=recall_score(y_test, y_pred, average=\"binary\", pos_label=\"yes\")\n",
        "print(\"sensibilidad del modelo\")\n",
        "print(sensibilidad)\n",
        "\n",
        "Max=df[\"host_acceptance_rate\"].max()\n",
        "Min=df[\"host_acceptance_rate\"].min()\n",
        "\n",
        "# Convert Min and Max to numeric type\n",
        "Min = pd.to_numeric(Min)\n",
        "Max = pd.to_numeric(Max)\n",
        "\n",
        "Limites=[Min, Max]\n",
        "\n",
        "#categorizar las variables\n",
        "#declarar dos intervalos\n",
        "\n",
        "intervalos=np.linspace(Min,Max,3)\n",
        "intervalos\n",
        "\n",
        "#Crear las categorías\n",
        "categorias=[\"Aceptacion baja\", \"Aceptacion alta\"]\n",
        "\n",
        "df[\"host_acceptance_rate\"]=pd.cut(x=df[\"host_acceptance_rate\"], bins=intervalos, labels=categorias)\n",
        "\n",
        "df[\"host_acceptance_rate\"]"
      ],
      "metadata": {
        "colab": {
          "base_uri": "https://localhost:8080/",
          "height": 521
        },
        "id": "2yfoVMkqMPRR",
        "outputId": "5ba18b92-7b27-4398-940e-9602080e6556"
      },
      "execution_count": 39,
      "outputs": [
        {
          "output_type": "stream",
          "name": "stdout",
          "text": [
            "exactitud del modelo\n",
            "0.998492651676925\n",
            "sensibilidad del modelo\n",
            "1.0\n"
          ]
        },
        {
          "output_type": "execute_result",
          "data": {
            "text/plain": [
              "0        Aceptacion alta\n",
              "1        Aceptacion alta\n",
              "2        Aceptacion alta\n",
              "3        Aceptacion alta\n",
              "4        Aceptacion alta\n",
              "              ...       \n",
              "26531    Aceptacion alta\n",
              "26532    Aceptacion alta\n",
              "26533    Aceptacion alta\n",
              "26534    Aceptacion alta\n",
              "26535    Aceptacion alta\n",
              "Name: host_acceptance_rate, Length: 26536, dtype: category\n",
              "Categories (2, object): ['Aceptacion baja' < 'Aceptacion alta']"
            ],
            "text/html": [
              "<div>\n",
              "<style scoped>\n",
              "    .dataframe tbody tr th:only-of-type {\n",
              "        vertical-align: middle;\n",
              "    }\n",
              "\n",
              "    .dataframe tbody tr th {\n",
              "        vertical-align: top;\n",
              "    }\n",
              "\n",
              "    .dataframe thead th {\n",
              "        text-align: right;\n",
              "    }\n",
              "</style>\n",
              "<table border=\"1\" class=\"dataframe\">\n",
              "  <thead>\n",
              "    <tr style=\"text-align: right;\">\n",
              "      <th></th>\n",
              "      <th>host_acceptance_rate</th>\n",
              "    </tr>\n",
              "  </thead>\n",
              "  <tbody>\n",
              "    <tr>\n",
              "      <th>0</th>\n",
              "      <td>Aceptacion alta</td>\n",
              "    </tr>\n",
              "    <tr>\n",
              "      <th>1</th>\n",
              "      <td>Aceptacion alta</td>\n",
              "    </tr>\n",
              "    <tr>\n",
              "      <th>2</th>\n",
              "      <td>Aceptacion alta</td>\n",
              "    </tr>\n",
              "    <tr>\n",
              "      <th>3</th>\n",
              "      <td>Aceptacion alta</td>\n",
              "    </tr>\n",
              "    <tr>\n",
              "      <th>4</th>\n",
              "      <td>Aceptacion alta</td>\n",
              "    </tr>\n",
              "    <tr>\n",
              "      <th>...</th>\n",
              "      <td>...</td>\n",
              "    </tr>\n",
              "    <tr>\n",
              "      <th>26531</th>\n",
              "      <td>Aceptacion alta</td>\n",
              "    </tr>\n",
              "    <tr>\n",
              "      <th>26532</th>\n",
              "      <td>Aceptacion alta</td>\n",
              "    </tr>\n",
              "    <tr>\n",
              "      <th>26533</th>\n",
              "      <td>Aceptacion alta</td>\n",
              "    </tr>\n",
              "    <tr>\n",
              "      <th>26534</th>\n",
              "      <td>Aceptacion alta</td>\n",
              "    </tr>\n",
              "    <tr>\n",
              "      <th>26535</th>\n",
              "      <td>Aceptacion alta</td>\n",
              "    </tr>\n",
              "  </tbody>\n",
              "</table>\n",
              "<p>26536 rows × 1 columns</p>\n",
              "</div><br><label><b>dtype:</b> category</label>"
            ]
          },
          "metadata": {},
          "execution_count": 39
        }
      ]
    },
    {
      "cell_type": "markdown",
      "source": [
        "host respond rate"
      ],
      "metadata": {
        "id": "L6H3NatHM0SU"
      }
    },
    {
      "cell_type": "code",
      "source": [
        "Max=df[\"host_response_rate\"].max()\n",
        "Min=df[\"host_response_rate\"].min()\n",
        "Limites=[Min, Max]\n",
        "\n",
        "#categorizar las variables\n",
        "#declarar dos intervalos\n",
        "\n",
        "intervalos=np.linspace(Min, Max,3)\n",
        "intervalos\n",
        "\n",
        "#Crear las categorías\n",
        "categorias=[\"Respuesta baja\", \"Respuesta alta\"]\n",
        "\n",
        "df[\"host_response_rate\"]=pd.cut(x=df[\"host_response_rate\"], bins=intervalos, labels=categorias)\n",
        "\n",
        "df[\"host_response_rate\"]"
      ],
      "metadata": {
        "colab": {
          "base_uri": "https://localhost:8080/",
          "height": 453
        },
        "id": "1HchR7x6M2Fy",
        "outputId": "4552205a-fb9e-454e-cc82-21f8a198ef47"
      },
      "execution_count": 40,
      "outputs": [
        {
          "output_type": "execute_result",
          "data": {
            "text/plain": [
              "0        Respuesta alta\n",
              "1                   NaN\n",
              "2        Respuesta alta\n",
              "3        Respuesta alta\n",
              "4        Respuesta alta\n",
              "              ...      \n",
              "26531    Respuesta alta\n",
              "26532    Respuesta alta\n",
              "26533    Respuesta alta\n",
              "26534    Respuesta alta\n",
              "26535    Respuesta alta\n",
              "Name: host_response_rate, Length: 26536, dtype: category\n",
              "Categories (2, object): ['Respuesta baja' < 'Respuesta alta']"
            ],
            "text/html": [
              "<div>\n",
              "<style scoped>\n",
              "    .dataframe tbody tr th:only-of-type {\n",
              "        vertical-align: middle;\n",
              "    }\n",
              "\n",
              "    .dataframe tbody tr th {\n",
              "        vertical-align: top;\n",
              "    }\n",
              "\n",
              "    .dataframe thead th {\n",
              "        text-align: right;\n",
              "    }\n",
              "</style>\n",
              "<table border=\"1\" class=\"dataframe\">\n",
              "  <thead>\n",
              "    <tr style=\"text-align: right;\">\n",
              "      <th></th>\n",
              "      <th>host_response_rate</th>\n",
              "    </tr>\n",
              "  </thead>\n",
              "  <tbody>\n",
              "    <tr>\n",
              "      <th>0</th>\n",
              "      <td>Respuesta alta</td>\n",
              "    </tr>\n",
              "    <tr>\n",
              "      <th>1</th>\n",
              "      <td>NaN</td>\n",
              "    </tr>\n",
              "    <tr>\n",
              "      <th>2</th>\n",
              "      <td>Respuesta alta</td>\n",
              "    </tr>\n",
              "    <tr>\n",
              "      <th>3</th>\n",
              "      <td>Respuesta alta</td>\n",
              "    </tr>\n",
              "    <tr>\n",
              "      <th>4</th>\n",
              "      <td>Respuesta alta</td>\n",
              "    </tr>\n",
              "    <tr>\n",
              "      <th>...</th>\n",
              "      <td>...</td>\n",
              "    </tr>\n",
              "    <tr>\n",
              "      <th>26531</th>\n",
              "      <td>Respuesta alta</td>\n",
              "    </tr>\n",
              "    <tr>\n",
              "      <th>26532</th>\n",
              "      <td>Respuesta alta</td>\n",
              "    </tr>\n",
              "    <tr>\n",
              "      <th>26533</th>\n",
              "      <td>Respuesta alta</td>\n",
              "    </tr>\n",
              "    <tr>\n",
              "      <th>26534</th>\n",
              "      <td>Respuesta alta</td>\n",
              "    </tr>\n",
              "    <tr>\n",
              "      <th>26535</th>\n",
              "      <td>Respuesta alta</td>\n",
              "    </tr>\n",
              "  </tbody>\n",
              "</table>\n",
              "<p>26536 rows × 1 columns</p>\n",
              "</div><br><label><b>dtype:</b> category</label>"
            ]
          },
          "metadata": {},
          "execution_count": 40
        }
      ]
    },
    {
      "cell_type": "markdown",
      "source": [
        "host total listings counts"
      ],
      "metadata": {
        "id": "3EzXNxNUM8MY"
      }
    },
    {
      "cell_type": "code",
      "source": [
        "Max=df[\"host_total_listings_count\"].max()\n",
        "Min=df[\"host_total_listings_count\"].min()\n",
        "Limites=[Min, Max]\n",
        "\n",
        "#categorizar las variables\n",
        "#declarar dos intervalos\n",
        "\n",
        "intervalos=np.linspace(Min, Max,3)\n",
        "intervalos\n",
        "\n",
        "#Crear las categorías\n",
        "categorias=[\"Aceptacion baja\", \"Aceptacion alta\"]\n",
        "\n",
        "df[\"host_total_listings_count\"]=pd.cut(x=df[\"host_total_listings_count\"], bins=intervalos, labels=categorias)\n",
        "\n",
        "df[\"host_total_listings_count\"]"
      ],
      "metadata": {
        "colab": {
          "base_uri": "https://localhost:8080/",
          "height": 453
        },
        "id": "sJr81WUKMvSg",
        "outputId": "6a61e217-73ae-47e2-959b-01f346462337"
      },
      "execution_count": 41,
      "outputs": [
        {
          "output_type": "execute_result",
          "data": {
            "text/plain": [
              "0        Aceptacion baja\n",
              "1                    NaN\n",
              "2        Aceptacion baja\n",
              "3        Aceptacion baja\n",
              "4        Aceptacion baja\n",
              "              ...       \n",
              "26531    Aceptacion baja\n",
              "26532    Aceptacion baja\n",
              "26533    Aceptacion baja\n",
              "26534    Aceptacion baja\n",
              "26535    Aceptacion alta\n",
              "Name: host_total_listings_count, Length: 26536, dtype: category\n",
              "Categories (2, object): ['Aceptacion baja' < 'Aceptacion alta']"
            ],
            "text/html": [
              "<div>\n",
              "<style scoped>\n",
              "    .dataframe tbody tr th:only-of-type {\n",
              "        vertical-align: middle;\n",
              "    }\n",
              "\n",
              "    .dataframe tbody tr th {\n",
              "        vertical-align: top;\n",
              "    }\n",
              "\n",
              "    .dataframe thead th {\n",
              "        text-align: right;\n",
              "    }\n",
              "</style>\n",
              "<table border=\"1\" class=\"dataframe\">\n",
              "  <thead>\n",
              "    <tr style=\"text-align: right;\">\n",
              "      <th></th>\n",
              "      <th>host_total_listings_count</th>\n",
              "    </tr>\n",
              "  </thead>\n",
              "  <tbody>\n",
              "    <tr>\n",
              "      <th>0</th>\n",
              "      <td>Aceptacion baja</td>\n",
              "    </tr>\n",
              "    <tr>\n",
              "      <th>1</th>\n",
              "      <td>NaN</td>\n",
              "    </tr>\n",
              "    <tr>\n",
              "      <th>2</th>\n",
              "      <td>Aceptacion baja</td>\n",
              "    </tr>\n",
              "    <tr>\n",
              "      <th>3</th>\n",
              "      <td>Aceptacion baja</td>\n",
              "    </tr>\n",
              "    <tr>\n",
              "      <th>4</th>\n",
              "      <td>Aceptacion baja</td>\n",
              "    </tr>\n",
              "    <tr>\n",
              "      <th>...</th>\n",
              "      <td>...</td>\n",
              "    </tr>\n",
              "    <tr>\n",
              "      <th>26531</th>\n",
              "      <td>Aceptacion baja</td>\n",
              "    </tr>\n",
              "    <tr>\n",
              "      <th>26532</th>\n",
              "      <td>Aceptacion baja</td>\n",
              "    </tr>\n",
              "    <tr>\n",
              "      <th>26533</th>\n",
              "      <td>Aceptacion baja</td>\n",
              "    </tr>\n",
              "    <tr>\n",
              "      <th>26534</th>\n",
              "      <td>Aceptacion baja</td>\n",
              "    </tr>\n",
              "    <tr>\n",
              "      <th>26535</th>\n",
              "      <td>Aceptacion alta</td>\n",
              "    </tr>\n",
              "  </tbody>\n",
              "</table>\n",
              "<p>26536 rows × 1 columns</p>\n",
              "</div><br><label><b>dtype:</b> category</label>"
            ]
          },
          "metadata": {},
          "execution_count": 41
        }
      ]
    },
    {
      "cell_type": "markdown",
      "source": [
        "number of reviews"
      ],
      "metadata": {
        "id": "qBGrztmwNB9j"
      }
    },
    {
      "cell_type": "code",
      "source": [
        "Max=df[\"number_of_reviews\"].max()\n",
        "Min=df[\"number_of_reviews\"].min()\n",
        "Limites=[Min, Max]\n",
        "\n",
        "#categorizar las variables\n",
        "#declarar dos intervalos\n",
        "\n",
        "intervalos=np.linspace(Min, Max,3)\n",
        "intervalos\n",
        "\n",
        "#Crear las categorías\n",
        "categorias=[\"Reseñas bajas\", \"Reseñas altas\"]\n",
        "\n",
        "df[\"number_of_reviews\"]=pd.cut(x=df[\"number_of_reviews\"], bins=intervalos, labels=categorias)\n",
        "\n",
        "df[\"number_of_reviews\"]"
      ],
      "metadata": {
        "colab": {
          "base_uri": "https://localhost:8080/",
          "height": 453
        },
        "id": "FGh3XHRoNFpc",
        "outputId": "ad2fe91f-db9a-46e7-90d6-ad95e9458039"
      },
      "execution_count": 42,
      "outputs": [
        {
          "output_type": "execute_result",
          "data": {
            "text/plain": [
              "0        Reseñas bajas\n",
              "1                  NaN\n",
              "2        Reseñas bajas\n",
              "3        Reseñas altas\n",
              "4        Reseñas bajas\n",
              "             ...      \n",
              "26531              NaN\n",
              "26532              NaN\n",
              "26533              NaN\n",
              "26534              NaN\n",
              "26535              NaN\n",
              "Name: number_of_reviews, Length: 26536, dtype: category\n",
              "Categories (2, object): ['Reseñas bajas' < 'Reseñas altas']"
            ],
            "text/html": [
              "<div>\n",
              "<style scoped>\n",
              "    .dataframe tbody tr th:only-of-type {\n",
              "        vertical-align: middle;\n",
              "    }\n",
              "\n",
              "    .dataframe tbody tr th {\n",
              "        vertical-align: top;\n",
              "    }\n",
              "\n",
              "    .dataframe thead th {\n",
              "        text-align: right;\n",
              "    }\n",
              "</style>\n",
              "<table border=\"1\" class=\"dataframe\">\n",
              "  <thead>\n",
              "    <tr style=\"text-align: right;\">\n",
              "      <th></th>\n",
              "      <th>number_of_reviews</th>\n",
              "    </tr>\n",
              "  </thead>\n",
              "  <tbody>\n",
              "    <tr>\n",
              "      <th>0</th>\n",
              "      <td>Reseñas bajas</td>\n",
              "    </tr>\n",
              "    <tr>\n",
              "      <th>1</th>\n",
              "      <td>NaN</td>\n",
              "    </tr>\n",
              "    <tr>\n",
              "      <th>2</th>\n",
              "      <td>Reseñas bajas</td>\n",
              "    </tr>\n",
              "    <tr>\n",
              "      <th>3</th>\n",
              "      <td>Reseñas altas</td>\n",
              "    </tr>\n",
              "    <tr>\n",
              "      <th>4</th>\n",
              "      <td>Reseñas bajas</td>\n",
              "    </tr>\n",
              "    <tr>\n",
              "      <th>...</th>\n",
              "      <td>...</td>\n",
              "    </tr>\n",
              "    <tr>\n",
              "      <th>26531</th>\n",
              "      <td>NaN</td>\n",
              "    </tr>\n",
              "    <tr>\n",
              "      <th>26532</th>\n",
              "      <td>NaN</td>\n",
              "    </tr>\n",
              "    <tr>\n",
              "      <th>26533</th>\n",
              "      <td>NaN</td>\n",
              "    </tr>\n",
              "    <tr>\n",
              "      <th>26534</th>\n",
              "      <td>NaN</td>\n",
              "    </tr>\n",
              "    <tr>\n",
              "      <th>26535</th>\n",
              "      <td>NaN</td>\n",
              "    </tr>\n",
              "  </tbody>\n",
              "</table>\n",
              "<p>26536 rows × 1 columns</p>\n",
              "</div><br><label><b>dtype:</b> category</label>"
            ]
          },
          "metadata": {},
          "execution_count": 42
        }
      ]
    },
    {
      "cell_type": "markdown",
      "source": [
        "latitude"
      ],
      "metadata": {
        "id": "PvPFLzCzNWrX"
      }
    },
    {
      "cell_type": "code",
      "source": [
        "Max=df[\"latitude\"].max()\n",
        "Min=df[\"latitude\"].min()\n",
        "Limites=[Min, Max]\n",
        "\n",
        "#categorizar las variables\n",
        "#declarar dos intervalos\n",
        "\n",
        "intervalos=np.linspace(Min, Max,3)\n",
        "intervalos\n",
        "\n",
        "#Crear las categorías\n",
        "categorias=[\"Latitud bajas\", \"Latitud altas\"]\n",
        "\n",
        "df[\"latitude\"]=pd.cut(x=df[\"latitude\"], bins=intervalos, labels=categorias)\n",
        "\n",
        "df[\"latitude\"]"
      ],
      "metadata": {
        "colab": {
          "base_uri": "https://localhost:8080/",
          "height": 453
        },
        "id": "TAQqZhLrNJxY",
        "outputId": "0a6a5128-1a1c-4a77-bd8d-6b0877e3e070"
      },
      "execution_count": 43,
      "outputs": [
        {
          "output_type": "execute_result",
          "data": {
            "text/plain": [
              "0        Latitud altas\n",
              "1        Latitud bajas\n",
              "2        Latitud altas\n",
              "3        Latitud altas\n",
              "4        Latitud altas\n",
              "             ...      \n",
              "26531    Latitud altas\n",
              "26532    Latitud altas\n",
              "26533    Latitud altas\n",
              "26534    Latitud altas\n",
              "26535    Latitud altas\n",
              "Name: latitude, Length: 26536, dtype: category\n",
              "Categories (2, object): ['Latitud bajas' < 'Latitud altas']"
            ],
            "text/html": [
              "<div>\n",
              "<style scoped>\n",
              "    .dataframe tbody tr th:only-of-type {\n",
              "        vertical-align: middle;\n",
              "    }\n",
              "\n",
              "    .dataframe tbody tr th {\n",
              "        vertical-align: top;\n",
              "    }\n",
              "\n",
              "    .dataframe thead th {\n",
              "        text-align: right;\n",
              "    }\n",
              "</style>\n",
              "<table border=\"1\" class=\"dataframe\">\n",
              "  <thead>\n",
              "    <tr style=\"text-align: right;\">\n",
              "      <th></th>\n",
              "      <th>latitude</th>\n",
              "    </tr>\n",
              "  </thead>\n",
              "  <tbody>\n",
              "    <tr>\n",
              "      <th>0</th>\n",
              "      <td>Latitud altas</td>\n",
              "    </tr>\n",
              "    <tr>\n",
              "      <th>1</th>\n",
              "      <td>Latitud bajas</td>\n",
              "    </tr>\n",
              "    <tr>\n",
              "      <th>2</th>\n",
              "      <td>Latitud altas</td>\n",
              "    </tr>\n",
              "    <tr>\n",
              "      <th>3</th>\n",
              "      <td>Latitud altas</td>\n",
              "    </tr>\n",
              "    <tr>\n",
              "      <th>4</th>\n",
              "      <td>Latitud altas</td>\n",
              "    </tr>\n",
              "    <tr>\n",
              "      <th>...</th>\n",
              "      <td>...</td>\n",
              "    </tr>\n",
              "    <tr>\n",
              "      <th>26531</th>\n",
              "      <td>Latitud altas</td>\n",
              "    </tr>\n",
              "    <tr>\n",
              "      <th>26532</th>\n",
              "      <td>Latitud altas</td>\n",
              "    </tr>\n",
              "    <tr>\n",
              "      <th>26533</th>\n",
              "      <td>Latitud altas</td>\n",
              "    </tr>\n",
              "    <tr>\n",
              "      <th>26534</th>\n",
              "      <td>Latitud altas</td>\n",
              "    </tr>\n",
              "    <tr>\n",
              "      <th>26535</th>\n",
              "      <td>Latitud altas</td>\n",
              "    </tr>\n",
              "  </tbody>\n",
              "</table>\n",
              "<p>26536 rows × 1 columns</p>\n",
              "</div><br><label><b>dtype:</b> category</label>"
            ]
          },
          "metadata": {},
          "execution_count": 43
        }
      ]
    },
    {
      "cell_type": "markdown",
      "source": [
        "regresion logistica"
      ],
      "metadata": {
        "id": "uTHPNHdjNbSU"
      }
    },
    {
      "cell_type": "markdown",
      "source": [
        "host acceptance rate"
      ],
      "metadata": {
        "id": "J-D_ioO-NgRs"
      }
    },
    {
      "cell_type": "code",
      "source": [
        "df.dropna(inplace=True)"
      ],
      "metadata": {
        "id": "xWtFBWJpNtAF"
      },
      "execution_count": 45,
      "outputs": []
    },
    {
      "cell_type": "code",
      "source": [
        "df.isnull().sum()"
      ],
      "metadata": {
        "colab": {
          "base_uri": "https://localhost:8080/",
          "height": 453
        },
        "id": "0HxVnucwN5JF",
        "outputId": "96419f22-506e-49e2-cd81-e21aafda8602"
      },
      "execution_count": 47,
      "outputs": [
        {
          "output_type": "execute_result",
          "data": {
            "text/plain": [
              "Unnamed: 0                   0\n",
              "host_listings_count          0\n",
              "host_total_listings_count    0\n",
              "latitude                     0\n",
              "longitude                    0\n",
              "                            ..\n",
              "calendar_last_scraped        0\n",
              "first_review                 0\n",
              "last_review                  0\n",
              "license                      0\n",
              "instant_bookable             0\n",
              "Length: 112, dtype: int64"
            ],
            "text/html": [
              "<div>\n",
              "<style scoped>\n",
              "    .dataframe tbody tr th:only-of-type {\n",
              "        vertical-align: middle;\n",
              "    }\n",
              "\n",
              "    .dataframe tbody tr th {\n",
              "        vertical-align: top;\n",
              "    }\n",
              "\n",
              "    .dataframe thead th {\n",
              "        text-align: right;\n",
              "    }\n",
              "</style>\n",
              "<table border=\"1\" class=\"dataframe\">\n",
              "  <thead>\n",
              "    <tr style=\"text-align: right;\">\n",
              "      <th></th>\n",
              "      <th>0</th>\n",
              "    </tr>\n",
              "  </thead>\n",
              "  <tbody>\n",
              "    <tr>\n",
              "      <th>Unnamed: 0</th>\n",
              "      <td>0</td>\n",
              "    </tr>\n",
              "    <tr>\n",
              "      <th>host_listings_count</th>\n",
              "      <td>0</td>\n",
              "    </tr>\n",
              "    <tr>\n",
              "      <th>host_total_listings_count</th>\n",
              "      <td>0</td>\n",
              "    </tr>\n",
              "    <tr>\n",
              "      <th>latitude</th>\n",
              "      <td>0</td>\n",
              "    </tr>\n",
              "    <tr>\n",
              "      <th>longitude</th>\n",
              "      <td>0</td>\n",
              "    </tr>\n",
              "    <tr>\n",
              "      <th>...</th>\n",
              "      <td>...</td>\n",
              "    </tr>\n",
              "    <tr>\n",
              "      <th>calendar_last_scraped</th>\n",
              "      <td>0</td>\n",
              "    </tr>\n",
              "    <tr>\n",
              "      <th>first_review</th>\n",
              "      <td>0</td>\n",
              "    </tr>\n",
              "    <tr>\n",
              "      <th>last_review</th>\n",
              "      <td>0</td>\n",
              "    </tr>\n",
              "    <tr>\n",
              "      <th>license</th>\n",
              "      <td>0</td>\n",
              "    </tr>\n",
              "    <tr>\n",
              "      <th>instant_bookable</th>\n",
              "      <td>0</td>\n",
              "    </tr>\n",
              "  </tbody>\n",
              "</table>\n",
              "<p>112 rows × 1 columns</p>\n",
              "</div><br><label><b>dtype:</b> int64</label>"
            ]
          },
          "metadata": {},
          "execution_count": 47
        }
      ]
    },
    {
      "cell_type": "code",
      "source": [
        "#Declarar las variables independientes y la dependiente\n",
        "Vars_Indep=df[[\"price\", \"accommodates\", \"bedrooms\"]]\n",
        "Var_Dep=df[\"host_acceptance_rate\"]\n",
        "X=Vars_Indep\n",
        "y=Var_Dep\n",
        "\n",
        "#Dividimos el conjunto de datos\n",
        "X_train, X_test, y_train, y_test = train_test_split(X,y, test_size=0.30, random_state=None)\n",
        "\n",
        "#Se escalan los datos\n",
        "escalar=StandardScaler()\n",
        "X_train=escalar.fit_transform(X_train)\n",
        "X_test=escalar.fit_transform(X_test)\n",
        "\n",
        "#definimos el algoritmo a utilizar\n",
        "from sklearn.linear_model import LogisticRegression\n",
        "algoritmo=LogisticRegression()\n",
        "\n",
        "#Entrenar el modelo\n",
        "algoritmo.fit(X_train, y_train)\n",
        "\n",
        "y_pred=algoritmo.predict(X_test)\n",
        "from sklearn.metrics import confusion_matrix\n",
        "matriz=confusion_matrix(y_test, y_pred)\n",
        "print(\"Matriz de confusión\")\n",
        "print(matriz)"
      ],
      "metadata": {
        "colab": {
          "base_uri": "https://localhost:8080/"
        },
        "id": "TekL3beMNZEH",
        "outputId": "cafb4f9d-cd53-4dae-f2ae-4f8a3ce8e3ef"
      },
      "execution_count": 48,
      "outputs": [
        {
          "output_type": "stream",
          "name": "stdout",
          "text": [
            "Matriz de confusión\n",
            "[[5312    0]\n",
            " [ 141    0]]\n"
          ]
        }
      ]
    },
    {
      "cell_type": "code",
      "source": [
        "#calcular precision del modelo\n",
        "from sklearn.metrics import precision_score\n",
        "precision=precision_score(y_test, y_pred, average=\"binary\", pos_label=\"Aceptacion alta\")\n",
        "print(\"precision del modelo:\")\n",
        "print(precision)"
      ],
      "metadata": {
        "colab": {
          "base_uri": "https://localhost:8080/"
        },
        "id": "v-Adu2XGN72A",
        "outputId": "8e6ce62e-5790-4e7a-d35c-1449d72b3122"
      },
      "execution_count": 50,
      "outputs": [
        {
          "output_type": "stream",
          "name": "stdout",
          "text": [
            "precision del modelo:\n",
            "0.9741426737575647\n"
          ]
        }
      ]
    },
    {
      "cell_type": "code",
      "source": [
        "#calcular exactitud\n",
        "from sklearn.metrics import accuracy_score\n",
        "exactitud=accuracy_score(y_test, y_pred)\n",
        "print(\"exactitud del modelo\")\n",
        "print(exactitud)"
      ],
      "metadata": {
        "colab": {
          "base_uri": "https://localhost:8080/"
        },
        "id": "S-daHxghOFmf",
        "outputId": "8db94c90-d864-433b-d721-1a03323878e8"
      },
      "execution_count": 51,
      "outputs": [
        {
          "output_type": "stream",
          "name": "stdout",
          "text": [
            "exactitud del modelo\n",
            "0.9741426737575647\n"
          ]
        }
      ]
    },
    {
      "cell_type": "code",
      "source": [
        "from sklearn.metrics import recall_score\n",
        "\n",
        "sensibilidad=recall_score(y_test, y_pred, average=\"binary\", pos_label=\"Aceptacion alta\")\n",
        "print(\"sensibilidad del modelo\")\n",
        "print(sensibilidad)"
      ],
      "metadata": {
        "colab": {
          "base_uri": "https://localhost:8080/"
        },
        "id": "APJ-5NHPOH4l",
        "outputId": "ae1307bb-b5b5-4a09-a326-d754829c85a4"
      },
      "execution_count": 53,
      "outputs": [
        {
          "output_type": "stream",
          "name": "stdout",
          "text": [
            "sensibilidad del modelo\n",
            "1.0\n"
          ]
        }
      ]
    },
    {
      "cell_type": "markdown",
      "source": [
        "host respond rate"
      ],
      "metadata": {
        "id": "TPb_Gl6sOOH3"
      }
    },
    {
      "cell_type": "code",
      "source": [
        "#Declarar las variables independientes y la dependiente\n",
        "Vars_Indep=df[[\"price\", \"accommodates\", \"bedrooms\"]]\n",
        "Var_Dep=df[\"host_response_rate\"]\n",
        "X=Vars_Indep\n",
        "y=Var_Dep\n",
        "\n",
        "#Dividimos el conjunto de datos\n",
        "X_train, X_test, y_train, y_test = train_test_split(X,y, test_size=0.30, random_state=None)\n",
        "\n",
        "#Se escalan los datos\n",
        "escalar=StandardScaler()\n",
        "X_train=escalar.fit_transform(X_train)\n",
        "X_test=escalar.fit_transform(X_test)\n",
        "\n",
        "#definimos el algoritmo a utilizar\n",
        "from sklearn.linear_model import LogisticRegression\n",
        "algoritmo=LogisticRegression()\n",
        "\n",
        "#Entrenar el modelo\n",
        "algoritmo.fit(X_train, y_train)\n",
        "\n",
        "y_pred=algoritmo.predict(X_test)\n",
        "from sklearn.metrics import confusion_matrix\n",
        "matriz=confusion_matrix(y_test, y_pred)\n",
        "print(\"Matriz de confusión\")\n",
        "print(matriz)"
      ],
      "metadata": {
        "colab": {
          "base_uri": "https://localhost:8080/"
        },
        "id": "oWjQUMoqOM65",
        "outputId": "6bed6dbc-d04f-4f13-a2c7-04268c037891"
      },
      "execution_count": 54,
      "outputs": [
        {
          "output_type": "stream",
          "name": "stdout",
          "text": [
            "Matriz de confusión\n",
            "[[5372    0]\n",
            " [  81    0]]\n"
          ]
        }
      ]
    },
    {
      "cell_type": "code",
      "source": [
        "#calcular precision del modelo\n",
        "from sklearn.metrics import precision_score\n",
        "precision=precision_score(y_test, y_pred, average=\"binary\", pos_label=\"Respuesta alta\")\n",
        "print(\"precision del modelo:\")\n",
        "print(precision)"
      ],
      "metadata": {
        "colab": {
          "base_uri": "https://localhost:8080/"
        },
        "id": "m-FLl1M8OTkW",
        "outputId": "7809680b-d666-495b-e11a-013acde3e351"
      },
      "execution_count": 56,
      "outputs": [
        {
          "output_type": "stream",
          "name": "stdout",
          "text": [
            "precision del modelo:\n",
            "0.9851457913075371\n"
          ]
        }
      ]
    },
    {
      "cell_type": "code",
      "source": [
        "#calcular exactitud\n",
        "from sklearn.metrics import accuracy_score\n",
        "exactitud=accuracy_score(y_test, y_pred)\n",
        "print(\"exactitud del modelo\")\n",
        "print(exactitud)"
      ],
      "metadata": {
        "colab": {
          "base_uri": "https://localhost:8080/"
        },
        "id": "qW2qYQwyOY35",
        "outputId": "78c15853-4697-4813-a807-3a211cdec96e"
      },
      "execution_count": 57,
      "outputs": [
        {
          "output_type": "stream",
          "name": "stdout",
          "text": [
            "exactitud del modelo\n",
            "0.9851457913075371\n"
          ]
        }
      ]
    },
    {
      "cell_type": "code",
      "source": [
        "from sklearn.metrics import recall_score\n",
        "\n",
        "sensibilidad=recall_score(y_test, y_pred, average=\"binary\", pos_label=\"Respuesta alta\")\n",
        "print(\"sensibilidad del modelo\")\n",
        "print(sensibilidad)"
      ],
      "metadata": {
        "colab": {
          "base_uri": "https://localhost:8080/"
        },
        "id": "33q_CFZUObKw",
        "outputId": "624bc79c-36da-4e57-8a2b-78071263b284"
      },
      "execution_count": 58,
      "outputs": [
        {
          "output_type": "stream",
          "name": "stdout",
          "text": [
            "sensibilidad del modelo\n",
            "1.0\n"
          ]
        }
      ]
    },
    {
      "cell_type": "markdown",
      "source": [
        "host total listings counts"
      ],
      "metadata": {
        "id": "P0sXFxhNOipH"
      }
    },
    {
      "cell_type": "code",
      "source": [
        "#Declarar las variables independientes y la dependiente\n",
        "Vars_Indep=df[[\"price\", \"accommodates\", \"bedrooms\"]]\n",
        "Var_Dep=df[\"host_total_listings_count\"]\n",
        "X=Vars_Indep\n",
        "y=Var_Dep\n",
        "\n",
        "#Dividimos el conjunto de datos\n",
        "X_train, X_test, y_train, y_test = train_test_split(X,y, test_size=0.30, random_state=None)\n",
        "\n",
        "#Se escalan los datos\n",
        "escalar=StandardScaler()\n",
        "X_train=escalar.fit_transform(X_train)\n",
        "X_test=escalar.fit_transform(X_test)\n",
        "\n",
        "#definimos el algoritmo a utilizar\n",
        "from sklearn.linear_model import LogisticRegression\n",
        "algoritmo=LogisticRegression()\n",
        "\n",
        "#Entrenar el modelo\n",
        "algoritmo.fit(X_train, y_train)\n",
        "\n",
        "y_pred=algoritmo.predict(X_test)\n",
        "from sklearn.metrics import confusion_matrix\n",
        "matriz=confusion_matrix(y_test, y_pred)\n",
        "print(\"Matriz de confusión\")\n",
        "print(matriz)"
      ],
      "metadata": {
        "colab": {
          "base_uri": "https://localhost:8080/"
        },
        "id": "kjHx6WUBOfdX",
        "outputId": "8f214f11-b4dd-4057-a9f9-028c6298099f"
      },
      "execution_count": 59,
      "outputs": [
        {
          "output_type": "stream",
          "name": "stdout",
          "text": [
            "Matriz de confusión\n",
            "[[   0  176]\n",
            " [   0 5277]]\n"
          ]
        }
      ]
    },
    {
      "cell_type": "code",
      "source": [
        "#calcular precision del modelo\n",
        "from sklearn.metrics import precision_score\n",
        "precision=precision_score(y_test, y_pred, average=\"binary\", pos_label=\"Aceptacion baja\")\n",
        "print(\"precision del modelo:\")\n",
        "print(precision)"
      ],
      "metadata": {
        "colab": {
          "base_uri": "https://localhost:8080/"
        },
        "id": "HR01YCsWOnsN",
        "outputId": "a6d67737-4a99-428f-f47a-ee9b266de26a"
      },
      "execution_count": 62,
      "outputs": [
        {
          "output_type": "stream",
          "name": "stdout",
          "text": [
            "precision del modelo:\n",
            "0.9677241885200807\n"
          ]
        }
      ]
    },
    {
      "cell_type": "code",
      "source": [
        "#calcular exactitud\n",
        "from sklearn.metrics import accuracy_score\n",
        "exactitud=accuracy_score(y_test, y_pred)\n",
        "print(\"exactitud del modelo\")\n",
        "print(exactitud)"
      ],
      "metadata": {
        "colab": {
          "base_uri": "https://localhost:8080/"
        },
        "id": "Beax-0LAOtM1",
        "outputId": "71314be4-8c1b-40b1-f52c-aeca4305802e"
      },
      "execution_count": 63,
      "outputs": [
        {
          "output_type": "stream",
          "name": "stdout",
          "text": [
            "exactitud del modelo\n",
            "0.9677241885200807\n"
          ]
        }
      ]
    },
    {
      "cell_type": "code",
      "source": [
        "from sklearn.metrics import recall_score\n",
        "\n",
        "sensibilidad=recall_score(y_test, y_pred, average=\"binary\", pos_label=\"Aceptacion baja\")\n",
        "print(\"sensibilidad del modelo\")\n",
        "print(sensibilidad)"
      ],
      "metadata": {
        "colab": {
          "base_uri": "https://localhost:8080/"
        },
        "id": "IfcbaHYlOx6O",
        "outputId": "e8a78b7a-5ec7-49c5-9a00-f785c0666cc7"
      },
      "execution_count": 64,
      "outputs": [
        {
          "output_type": "stream",
          "name": "stdout",
          "text": [
            "sensibilidad del modelo\n",
            "1.0\n"
          ]
        }
      ]
    },
    {
      "cell_type": "markdown",
      "source": [
        "number of reviews"
      ],
      "metadata": {
        "id": "lT6s0fmwO2hT"
      }
    },
    {
      "cell_type": "code",
      "source": [
        "#Declarar las variables independientes y la dependiente\n",
        "Vars_Indep=df[[\"price\", \"accommodates\", \"bedrooms\"]]\n",
        "Var_Dep=df[\"number_of_reviews\"]\n",
        "X=Vars_Indep\n",
        "y=Var_Dep\n",
        "\n",
        "#Dividimos el conjunto de datos\n",
        "X_train, X_test, y_train, y_test = train_test_split(X,y, test_size=0.30, random_state=None)\n",
        "\n",
        "#Se escalan los datos\n",
        "escalar=StandardScaler()\n",
        "X_train=escalar.fit_transform(X_train)\n",
        "X_test=escalar.fit_transform(X_test)\n",
        "\n",
        "#definimos el algoritmo a utilizar\n",
        "from sklearn.linear_model import LogisticRegression\n",
        "algoritmo=LogisticRegression()\n",
        "\n",
        "#Entrenar el modelo\n",
        "algoritmo.fit(X_train, y_train)\n",
        "\n",
        "y_pred=algoritmo.predict(X_test)\n",
        "from sklearn.metrics import confusion_matrix\n",
        "matriz=confusion_matrix(y_test, y_pred)\n",
        "print(\"Matriz de confusión\")\n",
        "print(matriz)"
      ],
      "metadata": {
        "colab": {
          "base_uri": "https://localhost:8080/"
        },
        "id": "TgGBiXyTO2Fc",
        "outputId": "6bca911e-8ebf-4b12-88e5-1723d7aaf004"
      },
      "execution_count": 65,
      "outputs": [
        {
          "output_type": "stream",
          "name": "stdout",
          "text": [
            "Matriz de confusión\n",
            "[[   0  427]\n",
            " [   0 5026]]\n"
          ]
        }
      ]
    },
    {
      "cell_type": "code",
      "source": [
        "#calcular precision del modelo\n",
        "from sklearn.metrics import precision_score\n",
        "precision=precision_score(y_test, y_pred, average=\"binary\", pos_label=\"Reseñas bajas\")\n",
        "print(\"precision del modelo:\")\n",
        "print(precision)"
      ],
      "metadata": {
        "colab": {
          "base_uri": "https://localhost:8080/"
        },
        "id": "7vpx0X9bO8vL",
        "outputId": "ba2602f2-87eb-48b0-96f9-88869ff20197"
      },
      "execution_count": 68,
      "outputs": [
        {
          "output_type": "stream",
          "name": "stdout",
          "text": [
            "precision del modelo:\n",
            "0.9216944801026957\n"
          ]
        }
      ]
    },
    {
      "cell_type": "code",
      "source": [
        "#calcular exactitud\n",
        "from sklearn.metrics import accuracy_score\n",
        "exactitud=accuracy_score(y_test, y_pred)\n",
        "print(\"exactitud del modelo\")\n",
        "print(exactitud)"
      ],
      "metadata": {
        "colab": {
          "base_uri": "https://localhost:8080/"
        },
        "id": "uGk_nnotPDn_",
        "outputId": "8612e780-f8f7-4011-d742-5eaba6e7883d"
      },
      "execution_count": 69,
      "outputs": [
        {
          "output_type": "stream",
          "name": "stdout",
          "text": [
            "exactitud del modelo\n",
            "0.9216944801026957\n"
          ]
        }
      ]
    },
    {
      "cell_type": "code",
      "source": [
        "from sklearn.metrics import recall_score\n",
        "\n",
        "sensibilidad=recall_score(y_test, y_pred, average=\"binary\", pos_label=\"Reseñas bajas\")\n",
        "print(\"sensibilidad del modelo\")\n",
        "print(sensibilidad)"
      ],
      "metadata": {
        "colab": {
          "base_uri": "https://localhost:8080/"
        },
        "id": "Nj4R1ctDPFxt",
        "outputId": "6e3bd775-2abf-4277-a986-1490b3927eb9"
      },
      "execution_count": 70,
      "outputs": [
        {
          "output_type": "stream",
          "name": "stdout",
          "text": [
            "sensibilidad del modelo\n",
            "1.0\n"
          ]
        }
      ]
    },
    {
      "cell_type": "markdown",
      "source": [
        "latitude"
      ],
      "metadata": {
        "id": "2jsZ5wJJPLLO"
      }
    },
    {
      "cell_type": "code",
      "source": [
        "#Declarar las variables independientes y la dependiente\n",
        "Vars_Indep=df[[\"price\", \"accommodates\", \"bedrooms\"]]\n",
        "Var_Dep=df[\"latitude\"]\n",
        "X=Vars_Indep\n",
        "y=Var_Dep\n",
        "\n",
        "#Dividimos el conjunto de datos\n",
        "X_train, X_test, y_train, y_test = train_test_split(X,y, test_size=0.30, random_state=None)\n",
        "\n",
        "#Se escalan los datos\n",
        "escalar=StandardScaler()\n",
        "X_train=escalar.fit_transform(X_train)\n",
        "X_test=escalar.fit_transform(X_test)\n",
        "\n",
        "#definimos el algoritmo a utilizar\n",
        "from sklearn.linear_model import LogisticRegression\n",
        "algoritmo=LogisticRegression()\n",
        "\n",
        "#Entrenar el modelo\n",
        "algoritmo.fit(X_train, y_train)\n",
        "\n",
        "y_pred=algoritmo.predict(X_test)\n",
        "from sklearn.metrics import confusion_matrix\n",
        "matriz=confusion_matrix(y_test, y_pred)\n",
        "print(\"Matriz de confusión\")\n",
        "print(matriz)"
      ],
      "metadata": {
        "colab": {
          "base_uri": "https://localhost:8080/"
        },
        "id": "JIlLPMY3PJ5k",
        "outputId": "5bea1374-c2cf-4c40-ee33-66fa6f8e9416"
      },
      "execution_count": 71,
      "outputs": [
        {
          "output_type": "stream",
          "name": "stdout",
          "text": [
            "Matriz de confusión\n",
            "[[3891   21]\n",
            " [1530   11]]\n"
          ]
        }
      ]
    },
    {
      "cell_type": "code",
      "source": [
        "#calcular precision del modelo\n",
        "from sklearn.metrics import precision_score\n",
        "precision=precision_score(y_test, y_pred, average=\"binary\", pos_label=\"Latitud altas\")\n",
        "print(\"precision del modelo:\")\n",
        "print(precision)"
      ],
      "metadata": {
        "colab": {
          "base_uri": "https://localhost:8080/"
        },
        "id": "rBC3X_0mPPwf",
        "outputId": "31e316e2-bb8d-428e-c5a3-05501da14d6b"
      },
      "execution_count": 73,
      "outputs": [
        {
          "output_type": "stream",
          "name": "stdout",
          "text": [
            "precision del modelo:\n",
            "0.7177642501383509\n"
          ]
        }
      ]
    },
    {
      "cell_type": "code",
      "source": [
        "#calcular exactitud\n",
        "from sklearn.metrics import accuracy_score\n",
        "exactitud=accuracy_score(y_test, y_pred)\n",
        "print(\"exactitud del modelo\")\n",
        "print(exactitud)"
      ],
      "metadata": {
        "colab": {
          "base_uri": "https://localhost:8080/"
        },
        "id": "PH5VFQtUPVox",
        "outputId": "e0af5896-2472-44c4-8b33-4051449753d7"
      },
      "execution_count": 74,
      "outputs": [
        {
          "output_type": "stream",
          "name": "stdout",
          "text": [
            "exactitud del modelo\n",
            "0.7155694113332111\n"
          ]
        }
      ]
    },
    {
      "cell_type": "code",
      "source": [
        "from sklearn.metrics import recall_score\n",
        "\n",
        "sensibilidad=recall_score(y_test, y_pred, average=\"binary\", pos_label=\"Latitud altas\")\n",
        "print(\"sensibilidad del modelo\")\n",
        "print(sensibilidad)"
      ],
      "metadata": {
        "id": "XmiNBatJPX62",
        "outputId": "c788db09-c6b8-4cf2-b7b4-f37d52603960",
        "colab": {
          "base_uri": "https://localhost:8080/"
        }
      },
      "execution_count": 75,
      "outputs": [
        {
          "output_type": "stream",
          "name": "stdout",
          "text": [
            "sensibilidad del modelo\n",
            "0.9946319018404908\n"
          ]
        }
      ]
    }
  ]
}